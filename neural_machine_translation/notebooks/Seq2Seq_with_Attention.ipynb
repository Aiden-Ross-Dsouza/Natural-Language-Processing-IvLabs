{
  "nbformat": 4,
  "nbformat_minor": 0,
  "metadata": {
    "accelerator": "GPU",
    "colab": {
      "name": "Seq2Seq_with_Attention.ipynb",
      "provenance": [],
      "collapsed_sections": [
        "HjPyCr9yEdoC",
        "yg8UX4jIGPb4",
        "NLG2F6zEEw6u",
        "H92fNHmPR5uG",
        "wJRgAZO2YzDr",
        "OeM4KiTcFDfS",
        "ThDhF4H9FRIz",
        "1qFKHAfDFZmV",
        "xYpsm4fyQAzX",
        "EaRfomhSQG0z",
        "dqo5oaQEULIg",
        "wMVLHUrhSV0_",
        "inC7vPk1XRdB"
      ]
    },
    "kernelspec": {
      "display_name": "Python 3",
      "language": "python",
      "name": "python3"
    },
    "language_info": {
      "codemirror_mode": {
        "name": "ipython",
        "version": 3
      },
      "file_extension": ".py",
      "mimetype": "text/x-python",
      "name": "python",
      "nbconvert_exporter": "python",
      "pygments_lexer": "ipython3",
      "version": "3.7.6"
    }
  },
  "cells": [
    {
      "cell_type": "markdown",
      "metadata": {
        "id": "ikI5wVK_nz-v",
        "colab_type": "text"
      },
      "source": [
        "<center>\n",
        "<a href=\"https://colab.research.google.com/drive/18uxa0ZMlck4f5fzTUdkze_cuKz-Hgx_o?usp=sharing\"> <img align=\"center\" src=\"https://colab.research.google.com/assets/colab-badge.svg\"> </a></center>"
      ]
    },
    {
      "cell_type": "markdown",
      "metadata": {
        "id": "HjPyCr9yEdoC",
        "colab_type": "text"
      },
      "source": [
        "##Installing Packages"
      ]
    },
    {
      "cell_type": "markdown",
      "metadata": {
        "id": "WFT_Sa7K_849",
        "colab_type": "text"
      },
      "source": [
        "Run this cell only if torchtext reports an error while importing bleu_score."
      ]
    },
    {
      "cell_type": "code",
      "metadata": {
        "id": "gQb1uwF5Rssj",
        "colab_type": "code",
        "colab": {
          "base_uri": "https://localhost:8080/",
          "height": 374
        },
        "outputId": "b119fe5b-09e7-44ed-ff61-4f65c3ea2e8b"
      },
      "source": [
        "!pip install torchtext==0.6.0"
      ],
      "execution_count": null,
      "outputs": [
        {
          "output_type": "stream",
          "text": [
            "Collecting torchtext==0.6.0\n",
            "\u001b[?25l  Downloading https://files.pythonhosted.org/packages/f2/17/e7c588245aece7aa93f360894179374830daf60d7ed0bbb59332de3b3b61/torchtext-0.6.0-py3-none-any.whl (64kB)\n",
            "\u001b[K     |████████████████████████████████| 71kB 2.0MB/s \n",
            "\u001b[?25hCollecting sentencepiece\n",
            "\u001b[?25l  Downloading https://files.pythonhosted.org/packages/d4/a4/d0a884c4300004a78cca907a6ff9a5e9fe4f090f5d95ab341c53d28cbc58/sentencepiece-0.1.91-cp36-cp36m-manylinux1_x86_64.whl (1.1MB)\n",
            "\u001b[K     |████████████████████████████████| 1.1MB 4.8MB/s \n",
            "\u001b[?25hRequirement already satisfied: numpy in /usr/local/lib/python3.6/dist-packages (from torchtext==0.6.0) (1.18.5)\n",
            "Requirement already satisfied: requests in /usr/local/lib/python3.6/dist-packages (from torchtext==0.6.0) (2.23.0)\n",
            "Requirement already satisfied: torch in /usr/local/lib/python3.6/dist-packages (from torchtext==0.6.0) (1.6.0+cu101)\n",
            "Requirement already satisfied: tqdm in /usr/local/lib/python3.6/dist-packages (from torchtext==0.6.0) (4.41.1)\n",
            "Requirement already satisfied: six in /usr/local/lib/python3.6/dist-packages (from torchtext==0.6.0) (1.15.0)\n",
            "Requirement already satisfied: urllib3!=1.25.0,!=1.25.1,<1.26,>=1.21.1 in /usr/local/lib/python3.6/dist-packages (from requests->torchtext==0.6.0) (1.24.3)\n",
            "Requirement already satisfied: certifi>=2017.4.17 in /usr/local/lib/python3.6/dist-packages (from requests->torchtext==0.6.0) (2020.6.20)\n",
            "Requirement already satisfied: chardet<4,>=3.0.2 in /usr/local/lib/python3.6/dist-packages (from requests->torchtext==0.6.0) (3.0.4)\n",
            "Requirement already satisfied: idna<3,>=2.5 in /usr/local/lib/python3.6/dist-packages (from requests->torchtext==0.6.0) (2.10)\n",
            "Requirement already satisfied: future in /usr/local/lib/python3.6/dist-packages (from torch->torchtext==0.6.0) (0.16.0)\n",
            "Installing collected packages: sentencepiece, torchtext\n",
            "  Found existing installation: torchtext 0.3.1\n",
            "    Uninstalling torchtext-0.3.1:\n",
            "      Successfully uninstalled torchtext-0.3.1\n",
            "Successfully installed sentencepiece-0.1.91 torchtext-0.6.0\n"
          ],
          "name": "stdout"
        }
      ]
    },
    {
      "cell_type": "markdown",
      "metadata": {
        "id": "yg8UX4jIGPb4",
        "colab_type": "text"
      },
      "source": [
        "##Importing Required Libraries"
      ]
    },
    {
      "cell_type": "code",
      "metadata": {
        "colab_type": "code",
        "id": "otWCSsw55jCu",
        "colab": {}
      },
      "source": [
        "from google.colab import drive\n",
        "import math\n",
        "import matplotlib.pyplot as plt\n",
        "import matplotlib.ticker as ticker\n",
        "import numpy as np\n",
        "import random\n",
        "import spacy\n",
        "import time\n",
        "import torch\n",
        "import torch.nn as nn\n",
        "import torch.optim as optim\n",
        "from torchtext.datasets import TranslationDataset, Multi30k\n",
        "from torchtext.data import Field, BucketIterator\n",
        "from torchtext.data.metrics import bleu_score"
      ],
      "execution_count": null,
      "outputs": []
    },
    {
      "cell_type": "code",
      "metadata": {
        "colab_type": "code",
        "id": "m2_H7nMB6Wk4",
        "colab": {
          "base_uri": "https://localhost:8080/",
          "height": 34
        },
        "outputId": "03056276-7ffa-45e1-d2a3-8537b6824c5e"
      },
      "source": [
        "device = torch.device(\"cuda\" if torch.cuda.is_available() else \"cpu\")\n",
        "print(\"Notebook is running on\", device)"
      ],
      "execution_count": null,
      "outputs": [
        {
          "output_type": "stream",
          "text": [
            "Notebook is running on cuda\n"
          ],
          "name": "stdout"
        }
      ]
    },
    {
      "cell_type": "markdown",
      "metadata": {
        "id": "nmg7tdROVdeP",
        "colab_type": "text"
      },
      "source": [
        "Fixing SEED for reproducibility of results"
      ]
    },
    {
      "cell_type": "code",
      "metadata": {
        "id": "LrrEkuHtO-4O",
        "colab_type": "code",
        "colab": {}
      },
      "source": [
        "SEED = 4444\n",
        "\n",
        "random.seed(SEED)\n",
        "np.random.seed(SEED)\n",
        "torch.manual_seed(SEED)\n",
        "torch.cuda.manual_seed(SEED)\n",
        "torch.backends.cudnn.deterministic = True"
      ],
      "execution_count": null,
      "outputs": []
    },
    {
      "cell_type": "markdown",
      "metadata": {
        "id": "NLG2F6zEEw6u",
        "colab_type": "text"
      },
      "source": [
        "## Fetching Spacy Models"
      ]
    },
    {
      "cell_type": "code",
      "metadata": {
        "colab_type": "code",
        "id": "Cw73MD0j6fNS",
        "colab": {
          "base_uri": "https://localhost:8080/",
          "height": 1000
        },
        "outputId": "8b3534b4-8bf7-4ad5-9398-ce609da1b6f9"
      },
      "source": [
        "!python -m spacy download de\n",
        "!python -m spacy download en"
      ],
      "execution_count": null,
      "outputs": [
        {
          "output_type": "stream",
          "text": [
            "Collecting de_core_news_sm==2.2.5\n",
            "\u001b[?25l  Downloading https://github.com/explosion/spacy-models/releases/download/de_core_news_sm-2.2.5/de_core_news_sm-2.2.5.tar.gz (14.9MB)\n",
            "\u001b[K     |████████████████████████████████| 14.9MB 629kB/s \n",
            "\u001b[?25hRequirement already satisfied: spacy>=2.2.2 in /usr/local/lib/python3.6/dist-packages (from de_core_news_sm==2.2.5) (2.2.4)\n",
            "Requirement already satisfied: thinc==7.4.0 in /usr/local/lib/python3.6/dist-packages (from spacy>=2.2.2->de_core_news_sm==2.2.5) (7.4.0)\n",
            "Requirement already satisfied: murmurhash<1.1.0,>=0.28.0 in /usr/local/lib/python3.6/dist-packages (from spacy>=2.2.2->de_core_news_sm==2.2.5) (1.0.2)\n",
            "Requirement already satisfied: requests<3.0.0,>=2.13.0 in /usr/local/lib/python3.6/dist-packages (from spacy>=2.2.2->de_core_news_sm==2.2.5) (2.23.0)\n",
            "Requirement already satisfied: srsly<1.1.0,>=1.0.2 in /usr/local/lib/python3.6/dist-packages (from spacy>=2.2.2->de_core_news_sm==2.2.5) (1.0.2)\n",
            "Requirement already satisfied: wasabi<1.1.0,>=0.4.0 in /usr/local/lib/python3.6/dist-packages (from spacy>=2.2.2->de_core_news_sm==2.2.5) (0.7.1)\n",
            "Requirement already satisfied: cymem<2.1.0,>=2.0.2 in /usr/local/lib/python3.6/dist-packages (from spacy>=2.2.2->de_core_news_sm==2.2.5) (2.0.3)\n",
            "Requirement already satisfied: catalogue<1.1.0,>=0.0.7 in /usr/local/lib/python3.6/dist-packages (from spacy>=2.2.2->de_core_news_sm==2.2.5) (1.0.0)\n",
            "Requirement already satisfied: plac<1.2.0,>=0.9.6 in /usr/local/lib/python3.6/dist-packages (from spacy>=2.2.2->de_core_news_sm==2.2.5) (1.1.3)\n",
            "Requirement already satisfied: setuptools in /usr/local/lib/python3.6/dist-packages (from spacy>=2.2.2->de_core_news_sm==2.2.5) (49.6.0)\n",
            "Requirement already satisfied: numpy>=1.15.0 in /usr/local/lib/python3.6/dist-packages (from spacy>=2.2.2->de_core_news_sm==2.2.5) (1.18.5)\n",
            "Requirement already satisfied: preshed<3.1.0,>=3.0.2 in /usr/local/lib/python3.6/dist-packages (from spacy>=2.2.2->de_core_news_sm==2.2.5) (3.0.2)\n",
            "Requirement already satisfied: blis<0.5.0,>=0.4.0 in /usr/local/lib/python3.6/dist-packages (from spacy>=2.2.2->de_core_news_sm==2.2.5) (0.4.1)\n",
            "Requirement already satisfied: tqdm<5.0.0,>=4.38.0 in /usr/local/lib/python3.6/dist-packages (from spacy>=2.2.2->de_core_news_sm==2.2.5) (4.41.1)\n",
            "Requirement already satisfied: urllib3!=1.25.0,!=1.25.1,<1.26,>=1.21.1 in /usr/local/lib/python3.6/dist-packages (from requests<3.0.0,>=2.13.0->spacy>=2.2.2->de_core_news_sm==2.2.5) (1.24.3)\n",
            "Requirement already satisfied: certifi>=2017.4.17 in /usr/local/lib/python3.6/dist-packages (from requests<3.0.0,>=2.13.0->spacy>=2.2.2->de_core_news_sm==2.2.5) (2020.6.20)\n",
            "Requirement already satisfied: idna<3,>=2.5 in /usr/local/lib/python3.6/dist-packages (from requests<3.0.0,>=2.13.0->spacy>=2.2.2->de_core_news_sm==2.2.5) (2.10)\n",
            "Requirement already satisfied: chardet<4,>=3.0.2 in /usr/local/lib/python3.6/dist-packages (from requests<3.0.0,>=2.13.0->spacy>=2.2.2->de_core_news_sm==2.2.5) (3.0.4)\n",
            "Requirement already satisfied: importlib-metadata>=0.20; python_version < \"3.8\" in /usr/local/lib/python3.6/dist-packages (from catalogue<1.1.0,>=0.0.7->spacy>=2.2.2->de_core_news_sm==2.2.5) (1.7.0)\n",
            "Requirement already satisfied: zipp>=0.5 in /usr/local/lib/python3.6/dist-packages (from importlib-metadata>=0.20; python_version < \"3.8\"->catalogue<1.1.0,>=0.0.7->spacy>=2.2.2->de_core_news_sm==2.2.5) (3.1.0)\n",
            "Building wheels for collected packages: de-core-news-sm\n",
            "  Building wheel for de-core-news-sm (setup.py) ... \u001b[?25l\u001b[?25hdone\n",
            "  Created wheel for de-core-news-sm: filename=de_core_news_sm-2.2.5-cp36-none-any.whl size=14907056 sha256=740b7d821818ed1e331c90b84077ea72455865631af7321422d13cbb4400be40\n",
            "  Stored in directory: /tmp/pip-ephem-wheel-cache-2mzs3vz0/wheels/ba/3f/ed/d4aa8e45e7191b7f32db4bfad565e7da1edbf05c916ca7a1ca\n",
            "Successfully built de-core-news-sm\n",
            "Installing collected packages: de-core-news-sm\n",
            "Successfully installed de-core-news-sm-2.2.5\n",
            "\u001b[38;5;2m✔ Download and installation successful\u001b[0m\n",
            "You can now load the model via spacy.load('de_core_news_sm')\n",
            "\u001b[38;5;2m✔ Linking successful\u001b[0m\n",
            "/usr/local/lib/python3.6/dist-packages/de_core_news_sm -->\n",
            "/usr/local/lib/python3.6/dist-packages/spacy/data/de\n",
            "You can now load the model via spacy.load('de')\n",
            "Requirement already satisfied: en_core_web_sm==2.2.5 from https://github.com/explosion/spacy-models/releases/download/en_core_web_sm-2.2.5/en_core_web_sm-2.2.5.tar.gz#egg=en_core_web_sm==2.2.5 in /usr/local/lib/python3.6/dist-packages (2.2.5)\n",
            "Requirement already satisfied: spacy>=2.2.2 in /usr/local/lib/python3.6/dist-packages (from en_core_web_sm==2.2.5) (2.2.4)\n",
            "Requirement already satisfied: numpy>=1.15.0 in /usr/local/lib/python3.6/dist-packages (from spacy>=2.2.2->en_core_web_sm==2.2.5) (1.18.5)\n",
            "Requirement already satisfied: tqdm<5.0.0,>=4.38.0 in /usr/local/lib/python3.6/dist-packages (from spacy>=2.2.2->en_core_web_sm==2.2.5) (4.41.1)\n",
            "Requirement already satisfied: setuptools in /usr/local/lib/python3.6/dist-packages (from spacy>=2.2.2->en_core_web_sm==2.2.5) (49.6.0)\n",
            "Requirement already satisfied: murmurhash<1.1.0,>=0.28.0 in /usr/local/lib/python3.6/dist-packages (from spacy>=2.2.2->en_core_web_sm==2.2.5) (1.0.2)\n",
            "Requirement already satisfied: thinc==7.4.0 in /usr/local/lib/python3.6/dist-packages (from spacy>=2.2.2->en_core_web_sm==2.2.5) (7.4.0)\n",
            "Requirement already satisfied: cymem<2.1.0,>=2.0.2 in /usr/local/lib/python3.6/dist-packages (from spacy>=2.2.2->en_core_web_sm==2.2.5) (2.0.3)\n",
            "Requirement already satisfied: srsly<1.1.0,>=1.0.2 in /usr/local/lib/python3.6/dist-packages (from spacy>=2.2.2->en_core_web_sm==2.2.5) (1.0.2)\n",
            "Requirement already satisfied: preshed<3.1.0,>=3.0.2 in /usr/local/lib/python3.6/dist-packages (from spacy>=2.2.2->en_core_web_sm==2.2.5) (3.0.2)\n",
            "Requirement already satisfied: catalogue<1.1.0,>=0.0.7 in /usr/local/lib/python3.6/dist-packages (from spacy>=2.2.2->en_core_web_sm==2.2.5) (1.0.0)\n",
            "Requirement already satisfied: requests<3.0.0,>=2.13.0 in /usr/local/lib/python3.6/dist-packages (from spacy>=2.2.2->en_core_web_sm==2.2.5) (2.23.0)\n",
            "Requirement already satisfied: blis<0.5.0,>=0.4.0 in /usr/local/lib/python3.6/dist-packages (from spacy>=2.2.2->en_core_web_sm==2.2.5) (0.4.1)\n",
            "Requirement already satisfied: plac<1.2.0,>=0.9.6 in /usr/local/lib/python3.6/dist-packages (from spacy>=2.2.2->en_core_web_sm==2.2.5) (1.1.3)\n",
            "Requirement already satisfied: wasabi<1.1.0,>=0.4.0 in /usr/local/lib/python3.6/dist-packages (from spacy>=2.2.2->en_core_web_sm==2.2.5) (0.7.1)\n",
            "Requirement already satisfied: importlib-metadata>=0.20; python_version < \"3.8\" in /usr/local/lib/python3.6/dist-packages (from catalogue<1.1.0,>=0.0.7->spacy>=2.2.2->en_core_web_sm==2.2.5) (1.7.0)\n",
            "Requirement already satisfied: chardet<4,>=3.0.2 in /usr/local/lib/python3.6/dist-packages (from requests<3.0.0,>=2.13.0->spacy>=2.2.2->en_core_web_sm==2.2.5) (3.0.4)\n",
            "Requirement already satisfied: certifi>=2017.4.17 in /usr/local/lib/python3.6/dist-packages (from requests<3.0.0,>=2.13.0->spacy>=2.2.2->en_core_web_sm==2.2.5) (2020.6.20)\n",
            "Requirement already satisfied: idna<3,>=2.5 in /usr/local/lib/python3.6/dist-packages (from requests<3.0.0,>=2.13.0->spacy>=2.2.2->en_core_web_sm==2.2.5) (2.10)\n",
            "Requirement already satisfied: urllib3!=1.25.0,!=1.25.1,<1.26,>=1.21.1 in /usr/local/lib/python3.6/dist-packages (from requests<3.0.0,>=2.13.0->spacy>=2.2.2->en_core_web_sm==2.2.5) (1.24.3)\n",
            "Requirement already satisfied: zipp>=0.5 in /usr/local/lib/python3.6/dist-packages (from importlib-metadata>=0.20; python_version < \"3.8\"->catalogue<1.1.0,>=0.0.7->spacy>=2.2.2->en_core_web_sm==2.2.5) (3.1.0)\n",
            "\u001b[38;5;2m✔ Download and installation successful\u001b[0m\n",
            "You can now load the model via spacy.load('en_core_web_sm')\n",
            "\u001b[38;5;2m✔ Linking successful\u001b[0m\n",
            "/usr/local/lib/python3.6/dist-packages/en_core_web_sm -->\n",
            "/usr/local/lib/python3.6/dist-packages/spacy/data/en\n",
            "You can now load the model via spacy.load('en')\n"
          ],
          "name": "stdout"
        }
      ]
    },
    {
      "cell_type": "markdown",
      "metadata": {
        "id": "H92fNHmPR5uG",
        "colab_type": "text"
      },
      "source": [
        "## Helper Objects and Functions"
      ]
    },
    {
      "cell_type": "code",
      "metadata": {
        "colab_type": "code",
        "id": "-uydJQ0w7CLT",
        "colab": {}
      },
      "source": [
        "de_model = spacy.load('de')\n",
        "en_model = spacy.load('en')"
      ],
      "execution_count": null,
      "outputs": []
    },
    {
      "cell_type": "code",
      "metadata": {
        "colab_type": "code",
        "id": "8EUA0Qsy8ZZa",
        "colab": {}
      },
      "source": [
        "def de_tokenizer(sentence):\n",
        "    return [token.text for token in de_model.tokenizer(sentence)]\n",
        "\n",
        "def en_tokenizer(sentence):\n",
        "    return [token.text for token in en_model.tokenizer(sentence)]"
      ],
      "execution_count": null,
      "outputs": []
    },
    {
      "cell_type": "code",
      "metadata": {
        "colab_type": "code",
        "id": "4wuOLBUQ9Lyc",
        "colab": {}
      },
      "source": [
        "SOURCE_Field = Field(eos_token = '<src_eos>', init_token = '<src_sos>', lower = True, include_lengths = True, tokenize = de_tokenizer)\n",
        "\n",
        "TARGET_Field = Field(eos_token = '<trg_eos>', init_token = '<trg_sos>', lower = True, tokenize = en_tokenizer)"
      ],
      "execution_count": null,
      "outputs": []
    },
    {
      "cell_type": "markdown",
      "metadata": {
        "id": "oRQgEJWYVP1G",
        "colab_type": "text"
      },
      "source": [
        "A helper function to return input tensor corresponding to any string or list of tokens."
      ]
    },
    {
      "cell_type": "code",
      "metadata": {
        "id": "ksGtEmCNUkIc",
        "colab_type": "code",
        "colab": {}
      },
      "source": [
        "def ipTensor(sentence, src_field):\n",
        "    if isinstance(sentence, list):\n",
        "        tokens = [src_field.init_token] + [token.lower() for token in sentence] + [src_field.eos_token]\n",
        "    else:\n",
        "        tokens = [src_field.init_token] + de_tokenizer(sentence) + [src_field.eos_token]\n",
        "    seq_len = len(tokens)\n",
        "    ip_tensor = torch.LongTensor([src_field.vocab.stoi[token] for token in tokens]).to(device)\n",
        "    return ip_tensor.view(seq_len, 1)"
      ],
      "execution_count": null,
      "outputs": []
    },
    {
      "cell_type": "markdown",
      "metadata": {
        "id": "wJRgAZO2YzDr",
        "colab_type": "text"
      },
      "source": [
        "## Fetching and Splitting Data"
      ]
    },
    {
      "cell_type": "code",
      "metadata": {
        "colab_type": "code",
        "id": "bWnp0ebX-kDy",
        "colab": {
          "base_uri": "https://localhost:8080/",
          "height": 119
        },
        "outputId": "ea941178-44f5-4fa8-f708-5285b4ec79eb"
      },
      "source": [
        "train_data, valid_data, test_data = Multi30k.splits(exts = ('.de', '.en'), fields = (SOURCE_Field, TARGET_Field))"
      ],
      "execution_count": null,
      "outputs": [
        {
          "output_type": "stream",
          "text": [
            "downloading training.tar.gz\n"
          ],
          "name": "stdout"
        },
        {
          "output_type": "stream",
          "text": [
            "training.tar.gz: 100%|██████████| 1.21M/1.21M [00:04<00:00, 297kB/s]\n"
          ],
          "name": "stderr"
        },
        {
          "output_type": "stream",
          "text": [
            "downloading validation.tar.gz\n"
          ],
          "name": "stdout"
        },
        {
          "output_type": "stream",
          "text": [
            "validation.tar.gz: 100%|██████████| 46.3k/46.3k [00:00<00:00, 85.5kB/s]\n"
          ],
          "name": "stderr"
        },
        {
          "output_type": "stream",
          "text": [
            "downloading mmt_task1_test2016.tar.gz\n"
          ],
          "name": "stdout"
        },
        {
          "output_type": "stream",
          "text": [
            "mmt_task1_test2016.tar.gz: 100%|██████████| 66.2k/66.2k [00:00<00:00, 81.0kB/s]\n"
          ],
          "name": "stderr"
        }
      ]
    },
    {
      "cell_type": "code",
      "metadata": {
        "colab_type": "code",
        "id": "juAsQVEZ_dy4",
        "colab": {}
      },
      "source": [
        "SOURCE_Field.build_vocab(train_data, min_freq = 2)\n",
        "TARGET_Field.build_vocab(train_data, min_freq = 2)"
      ],
      "execution_count": null,
      "outputs": []
    },
    {
      "cell_type": "code",
      "metadata": {
        "id": "Rq3BM9wzFCVZ",
        "colab_type": "code",
        "colab": {
          "base_uri": "https://localhost:8080/",
          "height": 34
        },
        "outputId": "d2438ef5-4f38-4eb8-cdab-ad8e01d13c89"
      },
      "source": [
        "print(f\"Source vocab size: {len(SOURCE_Field.vocab)} | Target vocab size: {len(TARGET_Field.vocab)}\")"
      ],
      "execution_count": null,
      "outputs": [
        {
          "output_type": "stream",
          "text": [
            "Source vocab size: 7855 | Target vocab size: 5893\n"
          ],
          "name": "stdout"
        }
      ]
    },
    {
      "cell_type": "markdown",
      "metadata": {
        "id": "OeM4KiTcFDfS",
        "colab_type": "text"
      },
      "source": [
        "## Model Definition"
      ]
    },
    {
      "cell_type": "code",
      "metadata": {
        "colab_type": "code",
        "id": "7uJP4r8GELn-",
        "colab": {}
      },
      "source": [
        "class Encoder(nn.Module):\n",
        "    def __init__(self, vocab_size, embedding_dim, enc_hidden_dim, dec_hidden_dim, enc_dropout):\n",
        "        super(Encoder, self).__init__()\n",
        "        self.embedding = nn.Embedding(vocab_size, embedding_dim)\n",
        "        self.dropout = nn.Dropout(enc_dropout)\n",
        "        self.rnn = nn.GRU(input_size = embedding_dim, hidden_size = enc_hidden_dim, bidirectional = True)\n",
        "        self.fc = nn.Linear(2*enc_hidden_dim, dec_hidden_dim)\n",
        "\n",
        "    def forward(self, input, src_len):                                                      # input = [src_len, batch_size]\n",
        "        embedding = self.dropout(self.embedding(input))\n",
        "        packed_embedding = nn.utils.rnn.pack_padded_sequence(embedding, src_len)            # embedding = [seq_len, batch_size, embedding_dim]    \n",
        "        packed_output, hidden = self.rnn(packed_embedding)\n",
        "        output, _ = nn.utils.rnn.pad_packed_sequence(packed_output)                         # output = [seq_len, batch_size, enc_hidden_dim*num_directions]  hidden = [num_directions, batch_size, enc_hidden_dim]     \n",
        "        hidden = torch.tanh(self.fc(torch.cat((hidden[-2,:,:], hidden[-1,:,:]), dim = 1)))  # hidden = [batch_size, dec_hidden_dim]\n",
        "        return output, hidden"
      ],
      "execution_count": null,
      "outputs": []
    },
    {
      "cell_type": "code",
      "metadata": {
        "colab_type": "code",
        "id": "MzzskgJ1FW0P",
        "colab": {}
      },
      "source": [
        "class Attention(nn.Module):\n",
        "    def __init__(self, enc_hidden_dim, dec_hidden_dim):\n",
        "        super(Attention, self).__init__()\n",
        "        self.attn = nn.Linear(2*enc_hidden_dim + dec_hidden_dim, dec_hidden_dim)\n",
        "        self.v = nn.Linear(dec_hidden_dim, 1, bias = False)\n",
        "        self.softmax = nn.Softmax(dim = 1)\n",
        "\n",
        "    def forward(self, enc_output, dec_hidden, mask):                                        # dec_hidden = [batch_size, dec_hidden_dim]  enc_output = [seq_len, batch_size, enc_hidden_diim*2]\n",
        "        src_len = enc_output.shape[0]\n",
        "        enc_output = enc_output.permute(1, 0, 2)                                            # enc_output = [batch_size, seq_len, enc_hidden_dim*2]\n",
        "        dec_hidden = dec_hidden.unsqueeze(1).repeat(1, src_len, 1)                          # dec_hidden = [batch_size, seq_len, dec_hidden_dim]\n",
        "        energy = torch.tanh(self.attn(torch.cat((enc_output, dec_hidden), dim = 2)))        # energy = [batch_size, seq_len, dec_hidden_dim]\n",
        "        attn = self.v(energy).squeeze(2)\n",
        "        attn = attn.masked_fill(mask == 0, -1e10)                                           # attn = [batch_size, seq_len]\n",
        "        attn = self.softmax(attn).unsqueeze(1)                                              # attn = [batch_size, 1, seq_len]\n",
        "        weighted = torch.bmm(attn, enc_output)                                              # weighted = [batch_size, 1, enc_hidden_dim*2]\n",
        "        return weighted.permute(1, 0, 2), attn                                              # weighted = [1, batch_size, enc_hidden_dim*2]  attn = [batch_size, 1, seq_len]"
      ],
      "execution_count": null,
      "outputs": []
    },
    {
      "cell_type": "code",
      "metadata": {
        "colab_type": "code",
        "id": "rgJABenwHjkA",
        "colab": {}
      },
      "source": [
        "class Decoder(nn.Module):\n",
        "    def __init__(self, vocab_size, embedding_dim, enc_hidden_dim, dec_hidden_dim, dec_dropout, attention):\n",
        "        super(Decoder, self).__init__()\n",
        "        self.hidden_dim = dec_hidden_dim\n",
        "        self.output_dim = vocab_size\n",
        "        self.embedding = nn.Embedding(vocab_size, embedding_dim)\n",
        "        self.dropout = nn.Dropout(dec_dropout)\n",
        "        self.attn = attention\n",
        "        self.rnn = nn.GRU(input_size = 2*enc_hidden_dim + embedding_dim, hidden_size = dec_hidden_dim)\n",
        "        self.fc = nn.Linear(2*enc_hidden_dim + dec_hidden_dim + embedding_dim, vocab_size)\n",
        "\n",
        "    def forward(self, input, dec_hidden, enc_output, mask):                                 # input = [1, batch_size]  dec_hidden = [batch_size, dec_hidden_dim]  enc_output = [seq_len, batch_size, enc_hidden_dim*2]\n",
        "        embedding = self.dropout(self.embedding(input))                                     # embedding = [1, batch_size, embedding_dim]\n",
        "        weighted, a = self.attn(enc_output, dec_hidden, mask)                               # weighted = [1, batch_size, enc_hidden_dim*2]  a = [batch_size, 1, seq_len]\n",
        "        rnn_input = torch.cat((embedding, weighted), dim = 2)                               # rnn_input = [1, batch_size, embedding_dim + enc_hidden_dim*2]\n",
        "        output, dec_hidden = self.rnn(rnn_input , dec_hidden.unsqueeze(0))                  # output = [1, batch_size, dec_hidden_dim]  dec_hidden = [1, batch_size, dec_hidden_dim]\n",
        "        embedding = embedding.squeeze(0)                                                    # embedding = [batch_size, embedding_dim]\n",
        "        output = output.squeeze(0)                                                          # output = [batch_size, dec_hidden_dim]\n",
        "        weighted = weighted.squeeze(0)                                                      # weighted = [batch_size, enc_hidden_dim*2]\n",
        "        fc_input = torch.cat((embedding, output, weighted), dim = 1)                        # fc_inout = [batch_size, enc_hidden_dim*2 + dec_hidden_dim + embedding_dim]  \n",
        "        prediction = self.fc(fc_input)                                                      # prediction = [batch_size, vocab_Size]\n",
        "        return prediction, dec_hidden.squeeze(0), a.squeeze(1)                                 "
      ],
      "execution_count": null,
      "outputs": []
    },
    {
      "cell_type": "code",
      "metadata": {
        "colab_type": "code",
        "id": "V-Psgwn3JhUu",
        "colab": {}
      },
      "source": [
        "class Seq2Seq(nn.Module):\n",
        "    def __init__(self, encoder, decoder, src_pad_idx):\n",
        "        super(Seq2Seq, self).__init__()\n",
        "        self.encoder = encoder\n",
        "        self.decoder = decoder\n",
        "        self.src_pad_idx = src_pad_idx\n",
        "    \n",
        "    def create_mask(self, source):\n",
        "        mask = (source != self.src_pad_idx).permute(1, 0)\n",
        "        return mask\n",
        "    \n",
        "    def forward(self, source, target, src_len, teacher_forcing_ratio):                   # source = [seq_len, batch_size]  target = [seq_len, batch_size]                                               \n",
        "        src_batch_size = source.shape[1]\n",
        "        enc_output, enc_hidden = self.encoder(source, src_len)                           \n",
        "        dec_hidden = enc_hidden\n",
        "        seq_len = target.shape[0]\n",
        "        batch_size = target.shape[1]\n",
        "        predictions = torch.zeros(seq_len, batch_size, self.decoder.output_dim).to(device)\n",
        "        input = target[0,:].unsqueeze(0)\n",
        "        mask = self.create_mask(source)\n",
        "        for t in range(1, seq_len):\n",
        "            prediction, dec_hidden, a = self.decoder(input, dec_hidden, enc_output, mask)\n",
        "            predictions[t] = prediction.view(batch_size, self.decoder.output_dim)\n",
        "            if random.random() < teacher_forcing_ratio:\n",
        "                input = target[t].unsqueeze(0)\n",
        "            else:\n",
        "                input = prediction.argmax(1).unsqueeze(0)\n",
        "        return predictions[1:]"
      ],
      "execution_count": null,
      "outputs": []
    },
    {
      "cell_type": "markdown",
      "metadata": {
        "id": "ThDhF4H9FRIz",
        "colab_type": "text"
      },
      "source": [
        "## Training and Evaluation Functions"
      ]
    },
    {
      "cell_type": "code",
      "metadata": {
        "colab_type": "code",
        "id": "2Cdb3KwuTqoE",
        "colab": {}
      },
      "source": [
        "def Train(iterator, model, criterion, optimizer, clip=1):\n",
        "    model.train()\n",
        "    epoch_loss = 0\n",
        "    for _, batch in enumerate(iterator):\n",
        "        model.zero_grad()\n",
        "        source, src_len = batch.src\n",
        "        target = batch.trg\n",
        "        outputs = model(source, target, src_len, teacher_forcing_ratio=1)\n",
        "        outputs = outputs.view(-1, outputs.shape[-1])\n",
        "        targets = target[1:].view(-1)\n",
        "        batch_loss = criterion(outputs, targets.to(device))\n",
        "        batch_loss.backward()\n",
        "        torch.nn.utils.clip_grad_norm_(model.parameters(), clip)\n",
        "        optimizer.step()\n",
        "        epoch_loss += batch_loss.item()\n",
        "\n",
        "    return epoch_loss/len(iterator)"
      ],
      "execution_count": null,
      "outputs": []
    },
    {
      "cell_type": "code",
      "metadata": {
        "colab_type": "code",
        "id": "oUiWyJwXZG_l",
        "colab": {}
      },
      "source": [
        "def Evaluate(iterator, model, criterion):\n",
        "    model.eval()\n",
        "    eval_loss = 0\n",
        "    with torch.no_grad():\n",
        "        for _, batch in enumerate(iterator):\n",
        "            source, src_len = batch.src\n",
        "            target = batch.trg\n",
        "            outputs = model(source, target, src_len, 0)\n",
        "            outputs = outputs.view(-1, outputs.shape[-1])\n",
        "            targets = target[1:].view(-1)\n",
        "            batch_loss = criterion(outputs, targets.to(device))\n",
        "            eval_loss += batch_loss.item()\n",
        "        \n",
        "        return eval_loss/len(iterator)"
      ],
      "execution_count": null,
      "outputs": []
    },
    {
      "cell_type": "code",
      "metadata": {
        "colab_type": "code",
        "id": "tp-mY1LIaUF8",
        "colab": {}
      },
      "source": [
        "def Epoch_time(start_time, end_time):\n",
        "    elapsed_time = end_time - start_time\n",
        "    elapsed_mins = int(elapsed_time / 60)\n",
        "    elapsed_secs = int(elapsed_time - (elapsed_mins * 60))\n",
        "    return (elapsed_mins, elapsed_secs)"
      ],
      "execution_count": null,
      "outputs": []
    },
    {
      "cell_type": "markdown",
      "metadata": {
        "id": "1qFKHAfDFZmV",
        "colab_type": "text"
      },
      "source": [
        "## Data Iterators, Hyperparameters and Model Initialization"
      ]
    },
    {
      "cell_type": "code",
      "metadata": {
        "colab_type": "code",
        "id": "WNausHKbBOcQ",
        "colab": {}
      },
      "source": [
        "BATCH_SIZE = 128\n",
        "\n",
        "train_iterator, valid_iterator, test_iterator = BucketIterator.splits((train_data, valid_data, test_data), batch_size = BATCH_SIZE, sort_within_batch = True, sort_key = lambda x : len(x.src), device = device)"
      ],
      "execution_count": null,
      "outputs": []
    },
    {
      "cell_type": "code",
      "metadata": {
        "colab_type": "code",
        "id": "J7lr5X8h-9Ov",
        "colab": {
          "base_uri": "https://localhost:8080/",
          "height": 68
        },
        "outputId": "76b9f896-fc1c-4dab-86ba-cb8c20cd7ea9"
      },
      "source": [
        "print(\"Number of Training sequences: \", len(train_data.examples))\n",
        "print(\"Number of Test sequences: \", len(test_data.examples))\n",
        "print(\"Number of Validation sequences: \", len(valid_data.examples))"
      ],
      "execution_count": null,
      "outputs": [
        {
          "output_type": "stream",
          "text": [
            "Number of Training sequences:  29000\n",
            "Number of Test sequences:  1000\n",
            "Number of Validation sequences:  1014\n"
          ],
          "name": "stdout"
        }
      ]
    },
    {
      "cell_type": "code",
      "metadata": {
        "colab_type": "code",
        "id": "wlxCfwPRbOOC",
        "colab": {}
      },
      "source": [
        "CLIP = 1\n",
        "NUM_EPOCHS = 20\n",
        "LR = 0.001\n",
        "HIDDEN_DIM = 512\n",
        "SRC_VOCAB_SIZE = len(SOURCE_Field.vocab)\n",
        "TRG_VOCAB_SIZE = len(TARGET_Field.vocab)\n",
        "EMBEDDING_DIM = 256\n",
        "NUM_LAYERS = 1\n",
        "ENC_DROPOUT = 0.5\n",
        "DEC_DROPOUT = 0.5"
      ],
      "execution_count": null,
      "outputs": []
    },
    {
      "cell_type": "code",
      "metadata": {
        "id": "g8uRDKctk8CG",
        "colab_type": "code",
        "colab": {}
      },
      "source": [
        "target_padding_index = TARGET_Field.vocab.stoi[TARGET_Field.pad_token]\n",
        "source_padding_index = SOURCE_Field.vocab.stoi[SOURCE_Field.pad_token]\n",
        "criterion = nn.CrossEntropyLoss(ignore_index = target_padding_index)"
      ],
      "execution_count": null,
      "outputs": []
    },
    {
      "cell_type": "code",
      "metadata": {
        "id": "Px6Xm2fzTM8w",
        "colab_type": "code",
        "colab": {}
      },
      "source": [
        "attention = Attention(HIDDEN_DIM, HIDDEN_DIM)\n",
        "encoder = Encoder(SRC_VOCAB_SIZE, EMBEDDING_DIM, HIDDEN_DIM, HIDDEN_DIM, ENC_DROPOUT).to(device)\n",
        "decoder = Decoder(TRG_VOCAB_SIZE, EMBEDDING_DIM, HIDDEN_DIM, HIDDEN_DIM, DEC_DROPOUT, attention).to(device)\n",
        "seq2seq = Seq2Seq(encoder, decoder, source_padding_index).to(device)\n",
        "optimizer = optim.AdamW(seq2seq.parameters(), LR)"
      ],
      "execution_count": null,
      "outputs": []
    },
    {
      "cell_type": "code",
      "metadata": {
        "id": "5dGyhSBrrsxg",
        "colab_type": "code",
        "colab": {}
      },
      "source": [
        "def initialize_weights(m):\n",
        "    for name, param in m.named_parameters():\n",
        "        if 'weight' in name:\n",
        "            nn.init.normal_(param.data, mean=0, std=0.01)\n",
        "        else:\n",
        "            nn.init.constant_(param.data, 0)"
      ],
      "execution_count": null,
      "outputs": []
    },
    {
      "cell_type": "code",
      "metadata": {
        "id": "0STqjT4KValP",
        "colab_type": "code",
        "colab": {
          "base_uri": "https://localhost:8080/",
          "height": 340
        },
        "outputId": "66e4330a-aec4-4edc-8a2b-9afe31c4617b"
      },
      "source": [
        "seq2seq.apply(initialize_weights)"
      ],
      "execution_count": null,
      "outputs": [
        {
          "output_type": "execute_result",
          "data": {
            "text/plain": [
              "Seq2Seq(\n",
              "  (encoder): Encoder(\n",
              "    (embedding): Embedding(7855, 256)\n",
              "    (dropout): Dropout(p=0.5, inplace=False)\n",
              "    (rnn): GRU(256, 512, bidirectional=True)\n",
              "    (fc): Linear(in_features=1024, out_features=512, bias=True)\n",
              "  )\n",
              "  (decoder): Decoder(\n",
              "    (embedding): Embedding(5893, 256)\n",
              "    (dropout): Dropout(p=0.5, inplace=False)\n",
              "    (attn): Attention(\n",
              "      (attn): Linear(in_features=1536, out_features=512, bias=True)\n",
              "      (v): Linear(in_features=512, out_features=1, bias=False)\n",
              "      (softmax): Softmax(dim=1)\n",
              "    )\n",
              "    (rnn): GRU(1280, 512)\n",
              "    (fc): Linear(in_features=1792, out_features=5893, bias=True)\n",
              "  )\n",
              ")"
            ]
          },
          "metadata": {
            "tags": []
          },
          "execution_count": 26
        }
      ]
    },
    {
      "cell_type": "code",
      "metadata": {
        "id": "jfquqC6e4hv3",
        "colab_type": "code",
        "colab": {
          "base_uri": "https://localhost:8080/",
          "height": 34
        },
        "outputId": "79606227-fd61-4b1f-a401-607d2d58d48c"
      },
      "source": [
        "def count_parameters(model):\n",
        "    return sum(p.numel() for p in model.parameters() if p.requires_grad)\n",
        "\n",
        "print(f'The model has {count_parameters(seq2seq):,} trainable parameters.')"
      ],
      "execution_count": null,
      "outputs": [
        {
          "output_type": "stream",
          "text": [
            "The model has 20,518,917 trainable parameters.\n"
          ],
          "name": "stdout"
        }
      ]
    },
    {
      "cell_type": "markdown",
      "metadata": {
        "id": "xYpsm4fyQAzX",
        "colab_type": "text"
      },
      "source": [
        "## Download Pre-Trained Model\n",
        "Run this section instead of the \"Training\" section if you wish to download the pre-trained model instead of training one yourself."
      ]
    },
    {
      "cell_type": "code",
      "metadata": {
        "id": "dPEZVwzAQFwo",
        "colab_type": "code",
        "colab": {}
      },
      "source": [
        "# !wget -O Seq2Seq_with_Attention.pth https://gitlab.com/rishika2110/weights/-/blob/6e88f0c7acaf5d86d803eca8abb150e0b79f95ef/neural_machine_translation/Seq2Seq_with_Attention.pth"
      ],
      "execution_count": null,
      "outputs": []
    },
    {
      "cell_type": "code",
      "metadata": {
        "id": "_nINhJu4QGN4",
        "colab_type": "code",
        "colab": {}
      },
      "source": [
        "# MODEL_STORE_PATH = \"Seq2Seq_with_Attention.pth\""
      ],
      "execution_count": null,
      "outputs": []
    },
    {
      "cell_type": "markdown",
      "metadata": {
        "id": "EaRfomhSQG0z",
        "colab_type": "text"
      },
      "source": [
        "## Training\n",
        "Run this section only if you want to train the model yourself and store the trained weights in G-Drive."
      ]
    },
    {
      "cell_type": "code",
      "metadata": {
        "id": "Ilo7gJjZS_Vs",
        "colab_type": "code",
        "colab": {
          "base_uri": "https://localhost:8080/",
          "height": 122
        },
        "outputId": "0fed585e-ff35-4cf0-c669-a6c62c71ca5d"
      },
      "source": [
        "drive.mount('/content/gdrive')"
      ],
      "execution_count": null,
      "outputs": [
        {
          "output_type": "stream",
          "text": [
            "Go to this URL in a browser: https://accounts.google.com/o/oauth2/auth?client_id=947318989803-6bn6qk8qdgf4n4g3pfee6491hc0brc4i.apps.googleusercontent.com&redirect_uri=urn%3aietf%3awg%3aoauth%3a2.0%3aoob&scope=email%20https%3a%2f%2fwww.googleapis.com%2fauth%2fdocs.test%20https%3a%2f%2fwww.googleapis.com%2fauth%2fdrive%20https%3a%2f%2fwww.googleapis.com%2fauth%2fdrive.photos.readonly%20https%3a%2f%2fwww.googleapis.com%2fauth%2fpeopleapi.readonly&response_type=code\n",
            "\n",
            "Enter your authorization code:\n",
            "··········\n",
            "Mounted at /content/gdrive\n"
          ],
          "name": "stdout"
        }
      ]
    },
    {
      "cell_type": "code",
      "metadata": {
        "id": "MLjlCDPiTANW",
        "colab_type": "code",
        "colab": {}
      },
      "source": [
        "MODEL_STORE_PATH = '/content/gdrive/My Drive/Colab/NLP/Machine Translation/Models/Seq2Seq_with_Attention.pth'"
      ],
      "execution_count": null,
      "outputs": []
    },
    {
      "cell_type": "code",
      "metadata": {
        "colab_type": "code",
        "id": "X8yEFx9Uc2hk",
        "colab": {
          "base_uri": "https://localhost:8080/",
          "height": 561
        },
        "outputId": "8b83e5ed-bbe4-4e1b-cc75-87c9211bf9e2"
      },
      "source": [
        "print(f\"Learning Rate: {LR}, Hidden Dimensions: {HIDDEN_DIM}\")\n",
        "train_losses = []\n",
        "valid_losses = []\n",
        "prev_epoch = 1\n",
        "min_losses = [float('inf'), float('inf')]\n",
        "start_time = time.time()\n",
        "for epoch in range(1, NUM_EPOCHS + 1):\n",
        "    train_loss = Train(train_iterator, seq2seq, criterion, optimizer, CLIP)\n",
        "    train_losses.append(train_loss)\n",
        "    valid_loss = Evaluate(test_iterator, seq2seq, criterion)\n",
        "    valid_losses.append(valid_loss)\n",
        "    if valid_loss < min_losses[0]:\n",
        "        min_losses[0] = valid_loss\n",
        "        min_losses[1] = train_loss\n",
        "        torch.save(seq2seq.state_dict(), MODEL_STORE_PATH)\n",
        "    if epoch % int(NUM_EPOCHS / 10) == 0:\n",
        "        elapsed_time = Epoch_time(start_time, time.time())\n",
        "        print(f\"Time taken for epochs {prev_epoch} to {epoch}: {elapsed_time[0]}m {elapsed_time[1]}s\")\n",
        "        start_time = time.time()\n",
        "        prev_epoch = epoch + 1\n",
        "        print(f\"Training Loss: {train_loss:.4f} | Validation Loss: {valid_loss:.4f}\")\n",
        "        print(f\"Training PPL: {math.exp(train_loss):.4f} | Validation PPL: {math.exp(valid_loss):.4f}\")\n",
        "print(f\"Model with Train Loss {min_losses[1]:.4f}, Validation Loss: {min_losses[0]:.4f} was saved.\")"
      ],
      "execution_count": null,
      "outputs": [
        {
          "output_type": "stream",
          "text": [
            "Learning Rate: 0.001, Hidden Dimensions: 512\n",
            "Time taken for epochs 1 to 2: 3m 12s\n",
            "Training Loss: 3.4056 | Validation Loss: 5.7388\n",
            "Training PPL: 30.1336 | Validation PPL: 310.6764\n",
            "Time taken for epochs 3 to 4: 3m 7s\n",
            "Training Loss: 2.0510 | Validation Loss: 4.9456\n",
            "Training PPL: 7.7755 | Validation PPL: 140.5516\n",
            "Time taken for epochs 5 to 6: 3m 7s\n",
            "Training Loss: 1.3983 | Validation Loss: 4.9608\n",
            "Training PPL: 4.0481 | Validation PPL: 142.7125\n",
            "Time taken for epochs 7 to 8: 3m 7s\n",
            "Training Loss: 1.0136 | Validation Loss: 5.1214\n",
            "Training PPL: 2.7555 | Validation PPL: 167.5718\n",
            "Time taken for epochs 9 to 10: 3m 7s\n",
            "Training Loss: 0.7655 | Validation Loss: 5.3346\n",
            "Training PPL: 2.1500 | Validation PPL: 207.3938\n",
            "Time taken for epochs 11 to 12: 3m 7s\n",
            "Training Loss: 0.5960 | Validation Loss: 5.7328\n",
            "Training PPL: 1.8148 | Validation PPL: 308.8211\n",
            "Time taken for epochs 13 to 14: 3m 7s\n",
            "Training Loss: 0.4692 | Validation Loss: 5.9265\n",
            "Training PPL: 1.5988 | Validation PPL: 374.8340\n",
            "Time taken for epochs 15 to 16: 3m 7s\n",
            "Training Loss: 0.3639 | Validation Loss: 6.0471\n",
            "Training PPL: 1.4389 | Validation PPL: 422.8825\n",
            "Time taken for epochs 17 to 18: 3m 7s\n",
            "Training Loss: 0.2884 | Validation Loss: 6.5154\n",
            "Training PPL: 1.3343 | Validation PPL: 675.4459\n",
            "Time taken for epochs 19 to 20: 3m 6s\n",
            "Training Loss: 0.2410 | Validation Loss: 6.7689\n",
            "Training PPL: 1.2725 | Validation PPL: 870.3877\n",
            "Model with Train Loss 1.6758, Validation Loss: 4.9067 was saved.\n"
          ],
          "name": "stdout"
        }
      ]
    },
    {
      "cell_type": "code",
      "metadata": {
        "colab_type": "code",
        "id": "PvDUPeEVoNhr",
        "colab": {
          "base_uri": "https://localhost:8080/",
          "height": 295
        },
        "outputId": "c2990640-62b2-4451-bb73-eeea5bee7d55"
      },
      "source": [
        "plt.title('Learning Curves')\n",
        "plt.xlabel('Number of Epochs')\n",
        "plt.ylabel('Cross Entropy Loss')\n",
        "plt.plot(train_losses, label = 'Training Loss')\n",
        "plt.plot(valid_losses, label='Validation Loss')\n",
        "plt.legend()\n",
        "plt.savefig('/content/gdrive/My Drive/Colab/NLP/Machine Translation/Plots/Seq2Seq_with_Attention.jpeg')\n",
        "plt.show()"
      ],
      "execution_count": null,
      "outputs": [
        {
          "output_type": "display_data",
          "data": {
            "image/png": "[encoded data removed]",
            "text/plain": [
              "<Figure size 432x288 with 1 Axes>"
            ]
          },
          "metadata": {
            "tags": [],
            "needs_background": "light"
          }
        }
      ]
    },
    {
      "cell_type": "markdown",
      "metadata": {
        "id": "dqo5oaQEULIg",
        "colab_type": "text"
      },
      "source": [
        "## Sampling"
      ]
    },
    {
      "cell_type": "markdown",
      "metadata": {
        "id": "65G_X57SUYFA",
        "colab_type": "text"
      },
      "source": [
        "Run the cell below to load the model for sampling."
      ]
    },
    {
      "cell_type": "code",
      "metadata": {
        "id": "5s_J5N1DUXWn",
        "colab_type": "code",
        "colab": {
          "base_uri": "https://localhost:8080/",
          "height": 34
        },
        "outputId": "cdc58f1d-d1fc-4bc4-8c76-cdcf9d4d0b07"
      },
      "source": [
        "seq2seq.load_state_dict(torch.load(MODEL_STORE_PATH))"
      ],
      "execution_count": null,
      "outputs": [
        {
          "output_type": "execute_result",
          "data": {
            "text/plain": [
              "<All keys matched successfully>"
            ]
          },
          "metadata": {
            "tags": []
          },
          "execution_count": 34
        }
      ]
    },
    {
      "cell_type": "code",
      "metadata": {
        "id": "zKJ3pLkbUdhS",
        "colab_type": "code",
        "colab": {
          "base_uri": "https://localhost:8080/",
          "height": 34
        },
        "outputId": "38abb285-8372-4cb3-fdd2-b3aba4323523"
      },
      "source": [
        "seq2seq.eval()\n",
        "test_loss = Evaluate(test_iterator, seq2seq, criterion)\n",
        "print(f\"Test Loss: {test_loss:.4f} | Test PPL: {math.exp(test_loss):.4f}\")"
      ],
      "execution_count": null,
      "outputs": [
        {
          "output_type": "stream",
          "text": [
            "Test Loss: 4.9067 | Test PPL: 135.1867\n"
          ],
          "name": "stdout"
        }
      ]
    },
    {
      "cell_type": "code",
      "metadata": {
        "id": "NQXcXuEiUpjg",
        "colab_type": "code",
        "colab": {}
      },
      "source": [
        "def Translate(src_sentence, src_field, trg_field, model):\n",
        "    ip_tensor = ipTensor(src_sentence, src_field)\n",
        "    max_len = 4*ip_tensor.shape[0]\n",
        "    src_len = [ip_tensor.shape[0]]\n",
        "    with torch.no_grad():\n",
        "        enc_output, enc_hidden = model.encoder(ip_tensor, src_len)\n",
        "    dec_hidden = enc_hidden\n",
        "    sos_id = trg_field.vocab.stoi[trg_field.init_token]\n",
        "    eos_id = trg_field.vocab.stoi[trg_field.eos_token]\n",
        "    predicts = [sos_id]\n",
        "    len = 1\n",
        "    attentions = torch.zeros((1, ip_tensor.shape[0])).to(device)\n",
        "    src_mask = model.create_mask(ip_tensor)\n",
        "    while len < max_len:\n",
        "        input = torch.LongTensor([predicts[-1]]).view((1, 1)).to(device)\n",
        "        with torch.no_grad():\n",
        "            output, dec_hidden, a = model.decoder(input, dec_hidden, enc_output, src_mask)\n",
        "        attentions = torch.cat((attentions, a), dim = 0)\n",
        "        predicts.append(output.argmax(1).item())\n",
        "        len += 1\n",
        "        if predicts[-1] == eos_id:\n",
        "            break\n",
        "    sentence = [trg_field.vocab.itos[id] for id in predicts[1:]]\n",
        "    return sentence, attentions[1:]"
      ],
      "execution_count": null,
      "outputs": []
    },
    {
      "cell_type": "code",
      "metadata": {
        "id": "8wn8HA89XGFw",
        "colab_type": "code",
        "colab": {
          "base_uri": "https://localhost:8080/",
          "height": 68
        },
        "outputId": "d59346f7-8aa0-443c-b217-34565cfcbbaf"
      },
      "source": [
        "ind = int(random.random()*len(test_data.examples))\n",
        "example = test_data.examples[ind]\n",
        "src_sentence = example.src\n",
        "trg_sentence = example.trg\n",
        "print(\"German Sentence: \", ' '.join(src_sentence))\n",
        "translation, attention = Translate(src_sentence , SOURCE_Field, TARGET_Field, seq2seq)\n",
        "print(\"Predicted Translation: \", ' '.join(translation[:-1]))\n",
        "print(\"Actual Translation: \", ' '.join(trg_sentence))"
      ],
      "execution_count": null,
      "outputs": [
        {
          "output_type": "stream",
          "text": [
            "German Sentence:  ein junge fährt skateboard auf einer skateboardrampe .\n",
            "Predicted Translation:  a boy is skateboarding on a skateboard ramp .\n",
            "Actual Translation:  a boy riding a skateboard on a skateboarding ramp\n"
          ],
          "name": "stdout"
        }
      ]
    },
    {
      "cell_type": "markdown",
      "metadata": {
        "id": "wMVLHUrhSV0_",
        "colab_type": "text"
      },
      "source": [
        "## Display Attention"
      ]
    },
    {
      "cell_type": "code",
      "metadata": {
        "id": "wWYOxv-2F1Z9",
        "colab_type": "code",
        "colab": {}
      },
      "source": [
        "def Disp_Attn(sentence, translation, attention):\n",
        "    fig = plt.figure(figsize=(10,10))\n",
        "    ax = fig.add_subplot(111)\n",
        "    attention = attention.squeeze(0).cpu().detach().numpy()\n",
        "    cax = ax.matshow(attention, cmap='bone')\n",
        "    ax.tick_params(labelsize=15)\n",
        "    ax.set_xticklabels(['']+['<sos>']+[t.lower() for t in sentence]+['<eos>'], rotation=45)\n",
        "    ax.set_yticklabels(['']+translation)\n",
        "    ax.xaxis.set_major_locator(ticker.MultipleLocator(1))\n",
        "    ax.yaxis.set_major_locator(ticker.MultipleLocator(1))\n",
        "    plt.show()\n",
        "    plt.close()"
      ],
      "execution_count": null,
      "outputs": []
    },
    {
      "cell_type": "code",
      "metadata": {
        "id": "kJ9-mcLDSZlG",
        "colab_type": "code",
        "colab": {
          "base_uri": "https://localhost:8080/",
          "height": 690
        },
        "outputId": "9456d75f-697f-4677-ace3-14a4cfb3c6a0"
      },
      "source": [
        "Disp_Attn(src_sentence, translation, attention)"
      ],
      "execution_count": null,
      "outputs": [
        {
          "output_type": "display_data",
          "data": {
            "image/png": "[encoded data removed]",
            "text/plain": [
              "<Figure size 720x720 with 1 Axes>"
            ]
          },
          "metadata": {
            "tags": [],
            "needs_background": "light"
          }
        }
      ]
    },
    {
      "cell_type": "markdown",
      "metadata": {
        "id": "inC7vPk1XRdB",
        "colab_type": "text"
      },
      "source": [
        "## BLEU Score"
      ]
    },
    {
      "cell_type": "code",
      "metadata": {
        "id": "x_o42XqeXMI8",
        "colab_type": "code",
        "colab": {}
      },
      "source": [
        "def Calculate_BLEU(data, src_field, trg_field, model):\n",
        "    trgs = []\n",
        "    predicted_trgs = []\n",
        "    for i in range(len(data.examples)):\n",
        "        src_sentence = vars(data[i])['src']\n",
        "        trg_sentence = vars(data[i])['trg']\n",
        "        try:                                # Sometimes(rarely) CUDA throws a \"Device side assert triggered\" error. So, just to avoid restarting runtime.\n",
        "            predicted_trg, _ = Translate(src_sentence, src_field, trg_field, model)\n",
        "            predicted_trgs.append(predicted_trg[:-1])\n",
        "            trgs.append([trg_sentence])\n",
        "        except:\n",
        "            pass\n",
        "    return bleu_score(predicted_trgs, trgs)"
      ],
      "execution_count": null,
      "outputs": []
    },
    {
      "cell_type": "code",
      "metadata": {
        "id": "ydo2ooPSXVAS",
        "colab_type": "code",
        "colab": {
          "base_uri": "https://localhost:8080/",
          "height": 34
        },
        "outputId": "c4d17e5e-99bc-4408-9ef8-0fdb66b83f7f"
      },
      "source": [
        "bleu_score_test = Calculate_BLEU(test_data, SOURCE_Field, TARGET_Field, seq2seq)\n",
        "print(f\"BLEU score on Testing Data: {bleu_score_test*100:.2f}\")"
      ],
      "execution_count": null,
      "outputs": [
        {
          "output_type": "stream",
          "text": [
            "BLEU score on Testing Data: 31.24\n"
          ],
          "name": "stdout"
        }
      ]
    },
    {
      "cell_type": "code",
      "metadata": {
        "id": "JpjYVEZ-D2JK",
        "colab_type": "code",
        "colab": {}
      },
      "source": [
        ""
      ],
      "execution_count": null,
      "outputs": []
    }
  ]
}