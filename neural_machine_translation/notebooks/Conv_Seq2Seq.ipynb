{
  "nbformat": 4,
  "nbformat_minor": 0,
  "metadata": {
    "accelerator": "GPU",
    "colab": {
      "name": "Conv_Seq2Seq.ipynb",
      "provenance": [],
      "collapsed_sections": [
        "FPXc8FqntJ_O",
        "kgF0F7GQxmTf",
        "rZlZxMy8yFsU",
        "MH7z7ICzyKIQ",
        "VQIi-cyzC1eT",
        "jK6s4ixezJWd",
        "HBf1SGeYzY4P",
        "AB6QObQMzhcw",
        "0eqtEi0F0ZFf",
        "xs1FTM7q0Cr1",
        "yhIYBFHBPbOK",
        "xFr0gv2wQFJo",
        "Vs_iOrX5QXjB"
      ]
    },
    "kernelspec": {
      "display_name": "Python 3",
      "language": "python",
      "name": "python3"
    },
    "language_info": {
      "codemirror_mode": {
        "name": "ipython",
        "version": 3
      },
      "file_extension": ".py",
      "mimetype": "text/x-python",
      "name": "python",
      "nbconvert_exporter": "python",
      "pygments_lexer": "ipython3",
      "version": "3.7.6"
    }
  },
  "cells": [
    {
      "cell_type": "markdown",
      "metadata": {
        "id": "DTXLirOUnIUD",
        "colab_type": "text"
      },
      "source": [
        "<center>\n",
        "<a href=\"https://colab.research.google.com/drive/18uxa0ZMlck4f5fzTUdkze_cuKz-Hgx_o?usp=sharing\"> <img align=\"center\" src=\"https://colab.research.google.com/assets/colab-badge.svg\"> </a></center>"
      ]
    },
    {
      "cell_type": "markdown",
      "metadata": {
        "id": "FPXc8FqntJ_O",
        "colab_type": "text"
      },
      "source": [
        "## Installing Packages"
      ]
    },
    {
      "cell_type": "markdown",
      "metadata": {
        "id": "JVxJQlPJtWl0",
        "colab_type": "text"
      },
      "source": [
        "Run this cell only if torchtext reports an error while importing bleu_score."
      ]
    },
    {
      "cell_type": "code",
      "metadata": {
        "id": "izCr3abmtmcV",
        "colab_type": "code",
        "colab": {
          "base_uri": "https://localhost:8080/",
          "height": 221
        },
        "outputId": "3bcea5b9-4536-4a71-918d-0171ae9ab4b3"
      },
      "source": [
        "!pip install torchtext==0.6.0"
      ],
      "execution_count": null,
      "outputs": [
        {
          "output_type": "stream",
          "text": [
            "Requirement already satisfied: torchtext==0.6.0 in /usr/local/lib/python3.6/dist-packages (0.6.0)\n",
            "Requirement already satisfied: torch in /usr/local/lib/python3.6/dist-packages (from torchtext==0.6.0) (1.6.0+cu101)\n",
            "Requirement already satisfied: sentencepiece in /usr/local/lib/python3.6/dist-packages (from torchtext==0.6.0) (0.1.91)\n",
            "Requirement already satisfied: requests in /usr/local/lib/python3.6/dist-packages (from torchtext==0.6.0) (2.23.0)\n",
            "Requirement already satisfied: tqdm in /usr/local/lib/python3.6/dist-packages (from torchtext==0.6.0) (4.41.1)\n",
            "Requirement already satisfied: numpy in /usr/local/lib/python3.6/dist-packages (from torchtext==0.6.0) (1.18.5)\n",
            "Requirement already satisfied: six in /usr/local/lib/python3.6/dist-packages (from torchtext==0.6.0) (1.15.0)\n",
            "Requirement already satisfied: future in /usr/local/lib/python3.6/dist-packages (from torch->torchtext==0.6.0) (0.16.0)\n",
            "Requirement already satisfied: urllib3!=1.25.0,!=1.25.1,<1.26,>=1.21.1 in /usr/local/lib/python3.6/dist-packages (from requests->torchtext==0.6.0) (1.24.3)\n",
            "Requirement already satisfied: certifi>=2017.4.17 in /usr/local/lib/python3.6/dist-packages (from requests->torchtext==0.6.0) (2020.6.20)\n",
            "Requirement already satisfied: chardet<4,>=3.0.2 in /usr/local/lib/python3.6/dist-packages (from requests->torchtext==0.6.0) (3.0.4)\n",
            "Requirement already satisfied: idna<3,>=2.5 in /usr/local/lib/python3.6/dist-packages (from requests->torchtext==0.6.0) (2.10)\n"
          ],
          "name": "stdout"
        }
      ]
    },
    {
      "cell_type": "markdown",
      "metadata": {
        "id": "kgF0F7GQxmTf",
        "colab_type": "text"
      },
      "source": [
        "##Importing Required Libraries\n",
        "\n",
        "\n"
      ]
    },
    {
      "cell_type": "code",
      "metadata": {
        "colab_type": "code",
        "id": "otWCSsw55jCu",
        "colab": {}
      },
      "source": [
        "from google.colab import drive\n",
        "import math\n",
        "import matplotlib.pyplot as plt\n",
        "import matplotlib.ticker as ticker\n",
        "import numpy as np\n",
        "import random\n",
        "import spacy\n",
        "import time\n",
        "import torch\n",
        "import torch.nn as nn\n",
        "import torch.nn.functional as F\n",
        "import torch.optim as optim\n",
        "from torchtext.datasets import TranslationDataset, Multi30k\n",
        "from torchtext.data import Field, BucketIterator\n",
        "from torchtext.data.metrics import bleu_score"
      ],
      "execution_count": null,
      "outputs": []
    },
    {
      "cell_type": "code",
      "metadata": {
        "colab_type": "code",
        "id": "m2_H7nMB6Wk4",
        "colab": {
          "base_uri": "https://localhost:8080/",
          "height": 34
        },
        "outputId": "35c0bd88-0904-4362-aa2a-23f57d077265"
      },
      "source": [
        "device = torch.device(\"cuda\" if torch.cuda.is_available() else \"cpu\")\n",
        "print(\"Notebook is running on\", device)"
      ],
      "execution_count": null,
      "outputs": [
        {
          "output_type": "stream",
          "text": [
            "Notebook is running on cuda\n"
          ],
          "name": "stdout"
        }
      ]
    },
    {
      "cell_type": "markdown",
      "metadata": {
        "id": "nmg7tdROVdeP",
        "colab_type": "text"
      },
      "source": [
        "Fixing SEED for reproducibility of results"
      ]
    },
    {
      "cell_type": "code",
      "metadata": {
        "id": "LrrEkuHtO-4O",
        "colab_type": "code",
        "colab": {}
      },
      "source": [
        "SEED = 4444\n",
        "\n",
        "random.seed(SEED)\n",
        "np.random.seed(SEED)\n",
        "torch.manual_seed(SEED)\n",
        "torch.cuda.manual_seed(SEED)\n",
        "torch.backends.cudnn.deterministic = True"
      ],
      "execution_count": null,
      "outputs": []
    },
    {
      "cell_type": "markdown",
      "metadata": {
        "id": "rZlZxMy8yFsU",
        "colab_type": "text"
      },
      "source": [
        "## Fetching Spacy Models"
      ]
    },
    {
      "cell_type": "code",
      "metadata": {
        "colab_type": "code",
        "id": "Cw73MD0j6fNS",
        "colab": {
          "base_uri": "https://localhost:8080/",
          "height": 1000
        },
        "outputId": "d023e849-3875-4d0f-9c69-1ed6af4ceec5"
      },
      "source": [
        "!python -m spacy download de\n",
        "!python -m spacy download en"
      ],
      "execution_count": null,
      "outputs": [
        {
          "output_type": "stream",
          "text": [
            "Collecting de_core_news_sm==2.2.5\n",
            "\u001b[?25l  Downloading https://github.com/explosion/spacy-models/releases/download/de_core_news_sm-2.2.5/de_core_news_sm-2.2.5.tar.gz (14.9MB)\n",
            "\u001b[K     |████████████████████████████████| 14.9MB 1.3MB/s \n",
            "\u001b[?25hRequirement already satisfied: spacy>=2.2.2 in /usr/local/lib/python3.6/dist-packages (from de_core_news_sm==2.2.5) (2.2.4)\n",
            "Requirement already satisfied: blis<0.5.0,>=0.4.0 in /usr/local/lib/python3.6/dist-packages (from spacy>=2.2.2->de_core_news_sm==2.2.5) (0.4.1)\n",
            "Requirement already satisfied: preshed<3.1.0,>=3.0.2 in /usr/local/lib/python3.6/dist-packages (from spacy>=2.2.2->de_core_news_sm==2.2.5) (3.0.2)\n",
            "Requirement already satisfied: cymem<2.1.0,>=2.0.2 in /usr/local/lib/python3.6/dist-packages (from spacy>=2.2.2->de_core_news_sm==2.2.5) (2.0.3)\n",
            "Requirement already satisfied: tqdm<5.0.0,>=4.38.0 in /usr/local/lib/python3.6/dist-packages (from spacy>=2.2.2->de_core_news_sm==2.2.5) (4.41.1)\n",
            "Requirement already satisfied: setuptools in /usr/local/lib/python3.6/dist-packages (from spacy>=2.2.2->de_core_news_sm==2.2.5) (49.6.0)\n",
            "Requirement already satisfied: catalogue<1.1.0,>=0.0.7 in /usr/local/lib/python3.6/dist-packages (from spacy>=2.2.2->de_core_news_sm==2.2.5) (1.0.0)\n",
            "Requirement already satisfied: srsly<1.1.0,>=1.0.2 in /usr/local/lib/python3.6/dist-packages (from spacy>=2.2.2->de_core_news_sm==2.2.5) (1.0.2)\n",
            "Requirement already satisfied: murmurhash<1.1.0,>=0.28.0 in /usr/local/lib/python3.6/dist-packages (from spacy>=2.2.2->de_core_news_sm==2.2.5) (1.0.2)\n",
            "Requirement already satisfied: wasabi<1.1.0,>=0.4.0 in /usr/local/lib/python3.6/dist-packages (from spacy>=2.2.2->de_core_news_sm==2.2.5) (0.7.1)\n",
            "Requirement already satisfied: numpy>=1.15.0 in /usr/local/lib/python3.6/dist-packages (from spacy>=2.2.2->de_core_news_sm==2.2.5) (1.18.5)\n",
            "Requirement already satisfied: plac<1.2.0,>=0.9.6 in /usr/local/lib/python3.6/dist-packages (from spacy>=2.2.2->de_core_news_sm==2.2.5) (1.1.3)\n",
            "Requirement already satisfied: requests<3.0.0,>=2.13.0 in /usr/local/lib/python3.6/dist-packages (from spacy>=2.2.2->de_core_news_sm==2.2.5) (2.23.0)\n",
            "Requirement already satisfied: thinc==7.4.0 in /usr/local/lib/python3.6/dist-packages (from spacy>=2.2.2->de_core_news_sm==2.2.5) (7.4.0)\n",
            "Requirement already satisfied: importlib-metadata>=0.20; python_version < \"3.8\" in /usr/local/lib/python3.6/dist-packages (from catalogue<1.1.0,>=0.0.7->spacy>=2.2.2->de_core_news_sm==2.2.5) (1.7.0)\n",
            "Requirement already satisfied: urllib3!=1.25.0,!=1.25.1,<1.26,>=1.21.1 in /usr/local/lib/python3.6/dist-packages (from requests<3.0.0,>=2.13.0->spacy>=2.2.2->de_core_news_sm==2.2.5) (1.24.3)\n",
            "Requirement already satisfied: chardet<4,>=3.0.2 in /usr/local/lib/python3.6/dist-packages (from requests<3.0.0,>=2.13.0->spacy>=2.2.2->de_core_news_sm==2.2.5) (3.0.4)\n",
            "Requirement already satisfied: certifi>=2017.4.17 in /usr/local/lib/python3.6/dist-packages (from requests<3.0.0,>=2.13.0->spacy>=2.2.2->de_core_news_sm==2.2.5) (2020.6.20)\n",
            "Requirement already satisfied: idna<3,>=2.5 in /usr/local/lib/python3.6/dist-packages (from requests<3.0.0,>=2.13.0->spacy>=2.2.2->de_core_news_sm==2.2.5) (2.10)\n",
            "Requirement already satisfied: zipp>=0.5 in /usr/local/lib/python3.6/dist-packages (from importlib-metadata>=0.20; python_version < \"3.8\"->catalogue<1.1.0,>=0.0.7->spacy>=2.2.2->de_core_news_sm==2.2.5) (3.1.0)\n",
            "Building wheels for collected packages: de-core-news-sm\n",
            "  Building wheel for de-core-news-sm (setup.py) ... \u001b[?25l\u001b[?25hdone\n",
            "  Created wheel for de-core-news-sm: filename=de_core_news_sm-2.2.5-cp36-none-any.whl size=14907056 sha256=628a873bfdd1d4beed92e4382e15fc102056b5c196855f0a4c844b4d36b64174\n",
            "  Stored in directory: /tmp/pip-ephem-wheel-cache-l06i44h6/wheels/ba/3f/ed/d4aa8e45e7191b7f32db4bfad565e7da1edbf05c916ca7a1ca\n",
            "Successfully built de-core-news-sm\n",
            "Installing collected packages: de-core-news-sm\n",
            "Successfully installed de-core-news-sm-2.2.5\n",
            "\u001b[38;5;2m✔ Download and installation successful\u001b[0m\n",
            "You can now load the model via spacy.load('de_core_news_sm')\n",
            "\u001b[38;5;2m✔ Linking successful\u001b[0m\n",
            "/usr/local/lib/python3.6/dist-packages/de_core_news_sm -->\n",
            "/usr/local/lib/python3.6/dist-packages/spacy/data/de\n",
            "You can now load the model via spacy.load('de')\n",
            "Requirement already satisfied: en_core_web_sm==2.2.5 from https://github.com/explosion/spacy-models/releases/download/en_core_web_sm-2.2.5/en_core_web_sm-2.2.5.tar.gz#egg=en_core_web_sm==2.2.5 in /usr/local/lib/python3.6/dist-packages (2.2.5)\n",
            "Requirement already satisfied: spacy>=2.2.2 in /usr/local/lib/python3.6/dist-packages (from en_core_web_sm==2.2.5) (2.2.4)\n",
            "Requirement already satisfied: cymem<2.1.0,>=2.0.2 in /usr/local/lib/python3.6/dist-packages (from spacy>=2.2.2->en_core_web_sm==2.2.5) (2.0.3)\n",
            "Requirement already satisfied: preshed<3.1.0,>=3.0.2 in /usr/local/lib/python3.6/dist-packages (from spacy>=2.2.2->en_core_web_sm==2.2.5) (3.0.2)\n",
            "Requirement already satisfied: catalogue<1.1.0,>=0.0.7 in /usr/local/lib/python3.6/dist-packages (from spacy>=2.2.2->en_core_web_sm==2.2.5) (1.0.0)\n",
            "Requirement already satisfied: plac<1.2.0,>=0.9.6 in /usr/local/lib/python3.6/dist-packages (from spacy>=2.2.2->en_core_web_sm==2.2.5) (1.1.3)\n",
            "Requirement already satisfied: murmurhash<1.1.0,>=0.28.0 in /usr/local/lib/python3.6/dist-packages (from spacy>=2.2.2->en_core_web_sm==2.2.5) (1.0.2)\n",
            "Requirement already satisfied: thinc==7.4.0 in /usr/local/lib/python3.6/dist-packages (from spacy>=2.2.2->en_core_web_sm==2.2.5) (7.4.0)\n",
            "Requirement already satisfied: numpy>=1.15.0 in /usr/local/lib/python3.6/dist-packages (from spacy>=2.2.2->en_core_web_sm==2.2.5) (1.18.5)\n",
            "Requirement already satisfied: blis<0.5.0,>=0.4.0 in /usr/local/lib/python3.6/dist-packages (from spacy>=2.2.2->en_core_web_sm==2.2.5) (0.4.1)\n",
            "Requirement already satisfied: requests<3.0.0,>=2.13.0 in /usr/local/lib/python3.6/dist-packages (from spacy>=2.2.2->en_core_web_sm==2.2.5) (2.23.0)\n",
            "Requirement already satisfied: srsly<1.1.0,>=1.0.2 in /usr/local/lib/python3.6/dist-packages (from spacy>=2.2.2->en_core_web_sm==2.2.5) (1.0.2)\n",
            "Requirement already satisfied: wasabi<1.1.0,>=0.4.0 in /usr/local/lib/python3.6/dist-packages (from spacy>=2.2.2->en_core_web_sm==2.2.5) (0.7.1)\n",
            "Requirement already satisfied: setuptools in /usr/local/lib/python3.6/dist-packages (from spacy>=2.2.2->en_core_web_sm==2.2.5) (49.6.0)\n",
            "Requirement already satisfied: tqdm<5.0.0,>=4.38.0 in /usr/local/lib/python3.6/dist-packages (from spacy>=2.2.2->en_core_web_sm==2.2.5) (4.41.1)\n",
            "Requirement already satisfied: importlib-metadata>=0.20; python_version < \"3.8\" in /usr/local/lib/python3.6/dist-packages (from catalogue<1.1.0,>=0.0.7->spacy>=2.2.2->en_core_web_sm==2.2.5) (1.7.0)\n",
            "Requirement already satisfied: urllib3!=1.25.0,!=1.25.1,<1.26,>=1.21.1 in /usr/local/lib/python3.6/dist-packages (from requests<3.0.0,>=2.13.0->spacy>=2.2.2->en_core_web_sm==2.2.5) (1.24.3)\n",
            "Requirement already satisfied: idna<3,>=2.5 in /usr/local/lib/python3.6/dist-packages (from requests<3.0.0,>=2.13.0->spacy>=2.2.2->en_core_web_sm==2.2.5) (2.10)\n",
            "Requirement already satisfied: certifi>=2017.4.17 in /usr/local/lib/python3.6/dist-packages (from requests<3.0.0,>=2.13.0->spacy>=2.2.2->en_core_web_sm==2.2.5) (2020.6.20)\n",
            "Requirement already satisfied: chardet<4,>=3.0.2 in /usr/local/lib/python3.6/dist-packages (from requests<3.0.0,>=2.13.0->spacy>=2.2.2->en_core_web_sm==2.2.5) (3.0.4)\n",
            "Requirement already satisfied: zipp>=0.5 in /usr/local/lib/python3.6/dist-packages (from importlib-metadata>=0.20; python_version < \"3.8\"->catalogue<1.1.0,>=0.0.7->spacy>=2.2.2->en_core_web_sm==2.2.5) (3.1.0)\n",
            "\u001b[38;5;2m✔ Download and installation successful\u001b[0m\n",
            "You can now load the model via spacy.load('en_core_web_sm')\n",
            "\u001b[38;5;2m✔ Linking successful\u001b[0m\n",
            "/usr/local/lib/python3.6/dist-packages/en_core_web_sm -->\n",
            "/usr/local/lib/python3.6/dist-packages/spacy/data/en\n",
            "You can now load the model via spacy.load('en')\n"
          ],
          "name": "stdout"
        }
      ]
    },
    {
      "cell_type": "markdown",
      "metadata": {
        "id": "MH7z7ICzyKIQ",
        "colab_type": "text"
      },
      "source": [
        "## Helper Objects and Functions"
      ]
    },
    {
      "cell_type": "code",
      "metadata": {
        "colab_type": "code",
        "id": "-uydJQ0w7CLT",
        "colab": {}
      },
      "source": [
        "de_model = spacy.load('de')\n",
        "en_model = spacy.load('en')"
      ],
      "execution_count": null,
      "outputs": []
    },
    {
      "cell_type": "code",
      "metadata": {
        "colab_type": "code",
        "id": "8EUA0Qsy8ZZa",
        "colab": {}
      },
      "source": [
        "def de_tokenizer(sentence):\n",
        "    return [token.text for token in de_model.tokenizer(sentence)]\n",
        "\n",
        "def en_tokenizer(sentence):\n",
        "    return [token.text for token in en_model.tokenizer(sentence)]"
      ],
      "execution_count": null,
      "outputs": []
    },
    {
      "cell_type": "code",
      "metadata": {
        "colab_type": "code",
        "id": "4wuOLBUQ9Lyc",
        "colab": {}
      },
      "source": [
        "SOURCE_Field = Field(eos_token = '<src_eos>', init_token = '<src_sos>', lower = True, tokenize = de_tokenizer, batch_first = True)\n",
        "\n",
        "TARGET_Field = Field(eos_token = '<trg_eos>', init_token = '<trg_sos>', lower = True, tokenize = en_tokenizer, batch_first = True)"
      ],
      "execution_count": null,
      "outputs": []
    },
    {
      "cell_type": "markdown",
      "metadata": {
        "id": "oRQgEJWYVP1G",
        "colab_type": "text"
      },
      "source": [
        "A helper function to return input tensor corresponding to any string or list of tokens."
      ]
    },
    {
      "cell_type": "code",
      "metadata": {
        "colab_type": "code",
        "id": "sc_sPrPszVJd",
        "colab": {}
      },
      "source": [
        "def ipTensor(sentence, src_field):\n",
        "    if isinstance(sentence, list):\n",
        "        tokens = [src_field.init_token] + [token.lower() for token in sentence] + [src_field.eos_token]\n",
        "    else:\n",
        "        tokens = [src_field.init_token] + de_tokenizer(sentence) + [src_field.eos_token]\n",
        "    seq_len = len(tokens)\n",
        "    ip_tensor = torch.LongTensor([src_field.vocab.stoi[token] for token in tokens]).to(device)\n",
        "    return ip_tensor.view(1, seq_len)"
      ],
      "execution_count": null,
      "outputs": []
    },
    {
      "cell_type": "markdown",
      "metadata": {
        "id": "VQIi-cyzC1eT",
        "colab_type": "text"
      },
      "source": [
        "## Fetching and Splitting Data"
      ]
    },
    {
      "cell_type": "code",
      "metadata": {
        "colab_type": "code",
        "id": "bWnp0ebX-kDy",
        "colab": {
          "base_uri": "https://localhost:8080/",
          "height": 119
        },
        "outputId": "6a678200-8caf-4152-b86d-15d408447825"
      },
      "source": [
        "train_data, valid_data, test_data = Multi30k.splits(exts = ('.de', '.en'), fields = (SOURCE_Field, TARGET_Field))"
      ],
      "execution_count": null,
      "outputs": [
        {
          "output_type": "stream",
          "text": [
            "downloading training.tar.gz\n"
          ],
          "name": "stdout"
        },
        {
          "output_type": "stream",
          "text": [
            "training.tar.gz: 100%|██████████| 1.21M/1.21M [00:02<00:00, 530kB/s]\n"
          ],
          "name": "stderr"
        },
        {
          "output_type": "stream",
          "text": [
            "downloading validation.tar.gz\n"
          ],
          "name": "stdout"
        },
        {
          "output_type": "stream",
          "text": [
            "validation.tar.gz: 100%|██████████| 46.3k/46.3k [00:00<00:00, 151kB/s]\n"
          ],
          "name": "stderr"
        },
        {
          "output_type": "stream",
          "text": [
            "downloading mmt_task1_test2016.tar.gz\n"
          ],
          "name": "stdout"
        },
        {
          "output_type": "stream",
          "text": [
            "mmt_task1_test2016.tar.gz: 100%|██████████| 66.2k/66.2k [00:00<00:00, 147kB/s]\n"
          ],
          "name": "stderr"
        }
      ]
    },
    {
      "cell_type": "code",
      "metadata": {
        "colab_type": "code",
        "id": "juAsQVEZ_dy4",
        "colab": {}
      },
      "source": [
        "SOURCE_Field.build_vocab(train_data, min_freq = 2)\n",
        "TARGET_Field.build_vocab(train_data, min_freq = 2)"
      ],
      "execution_count": null,
      "outputs": []
    },
    {
      "cell_type": "code",
      "metadata": {
        "id": "Jx00sRtIytZK",
        "colab_type": "code",
        "colab": {
          "base_uri": "https://localhost:8080/",
          "height": 34
        },
        "outputId": "bdbea827-5c0d-4aff-ea70-310ba83e8df8"
      },
      "source": [
        "print(f\"Source vocab size: {len(SOURCE_Field.vocab)} | Target vocab size: {len(TARGET_Field.vocab)}\")"
      ],
      "execution_count": null,
      "outputs": [
        {
          "output_type": "stream",
          "text": [
            "Source vocab size: 7855 | Target vocab size: 5893\n"
          ],
          "name": "stdout"
        }
      ]
    },
    {
      "cell_type": "markdown",
      "metadata": {
        "id": "jK6s4ixezJWd",
        "colab_type": "text"
      },
      "source": [
        "## Model Definition"
      ]
    },
    {
      "cell_type": "code",
      "metadata": {
        "colab_type": "code",
        "id": "7uJP4r8GELn-",
        "colab": {}
      },
      "source": [
        "class Encoder(nn.Module):\n",
        "    def __init__(self, tok_vocab_size, pos_vocab_size, embedding_dim, hidden_dim, kernel_size, num_layers, enc_dropout):\n",
        "        super(Encoder, self).__init__()\n",
        "        self.tok_embedding = nn.Embedding(tok_vocab_size, embedding_dim)\n",
        "        self.pos_embedding = nn.Embedding(pos_vocab_size, embedding_dim)\n",
        "        self.emb2hid = nn.Linear(embedding_dim, hidden_dim)\n",
        "        self.hid2emb = nn.Linear(hidden_dim, embedding_dim)\n",
        "        self.convs = nn.ModuleList([nn.Conv1d(in_channels = hidden_dim,\n",
        "                                              out_channels = 2*hidden_dim,\n",
        "                                              kernel_size = kernel_size,\n",
        "                                              padding = (kernel_size-1)//2) for i in range(num_layers)])\n",
        "        self.dropout = nn.Dropout(enc_dropout)\n",
        "        self.scale = torch.sqrt(torch.FloatTensor([0.5])).to(device)\n",
        "\n",
        "    def forward(self, input):                                                               # [input] = [batch_size, src_len]\n",
        "        batch_size = input.shape[0]                                \n",
        "        seq_len = input.shape[1]\n",
        "        tok_embed = self.tok_embedding(input)                                               # [tok_embed] = [batch_size, src_len, embedding_dim]\n",
        "        pos_tensor = torch.arange(0,seq_len).unsqueeze(0).repeat(batch_size, 1).to(device)  # [pos_tensor] = [batch_size, src_len]\n",
        "        pos_embed = self.pos_embedding(pos_tensor)                                          # [pos_embed] = [batch_size, src_len, embedding_dim]             \n",
        "        enc_embed = self.dropout(tok_embed + pos_embed)                                     # [enc_embed] = [batch_size, src_len, embedding_dim]\n",
        "        enc_conv_input = self.emb2hid(enc_embed).permute(0, 2, 1)                           # [enc_conv_input] = [batch_size, hidden_dim, src_len]\n",
        "        for conv_layer in self.convs:\n",
        "            enc_conved = conv_layer(self.dropout(enc_conv_input))                           # [enc_conved] = [batch_size, 2*hidden_dim, src_len]\n",
        "            enc_conved = F.glu(enc_conved, dim = 1)                                         # [enc_conved] = [batch_size, hidden_dim, src_len]      \n",
        "            enc_conved = (enc_conved + enc_conv_input)*self.scale               \n",
        "            enc_conv_input = enc_conved                                                     # [enc_conv_input] = [batch_size, hidden_dim, src_len]   \n",
        "        enc_conved = self.hid2emb(enc_conved.permute(0, 2, 1))                              # [enc_conved] = [batch_size, src_len, embedding_dim]\n",
        "        enc_combined = (enc_conved + enc_embed)*self.scale                                  # [enc_combined] = [batch_size, src_len, embedding_dim] \n",
        "        return enc_conved, enc_combined"
      ],
      "execution_count": null,
      "outputs": []
    },
    {
      "cell_type": "code",
      "metadata": {
        "colab_type": "code",
        "id": "rgJABenwHjkA",
        "colab": {}
      },
      "source": [
        "class Decoder(nn.Module):\n",
        "    def __init__(self, tok_vocab_size, pos_vocab_size, embedding_dim, hidden_dim, kernel_size, num_layers, dec_dropout, trg_pad_idx):\n",
        "        super(Decoder, self).__init__()\n",
        "        self.kernel_size = kernel_size\n",
        "        self.trg_pad_idx = trg_pad_idx\n",
        "        self.tok_embedding = nn.Embedding(tok_vocab_size, embedding_dim)\n",
        "        self.pos_embedding = nn.Embedding(pos_vocab_size, embedding_dim)\n",
        "        self.emb2hid = nn.Linear(embedding_dim, hidden_dim)\n",
        "        self.hid2emb = nn.Linear(hidden_dim, embedding_dim)\n",
        "        self.attn_emb2hid = nn.Linear(embedding_dim, hidden_dim)\n",
        "        self.attn_hid2emb = nn.Linear(hidden_dim, embedding_dim)\n",
        "        self.fc = nn.Linear(embedding_dim, tok_vocab_size)\n",
        "        self.convs = nn.ModuleList([nn.Conv1d(in_channels = hidden_dim,\n",
        "                                              out_channels = 2*hidden_dim,\n",
        "                                              kernel_size = kernel_size) for i in range(num_layers)])\n",
        "        self.dropout = nn.Dropout(dec_dropout)\n",
        "        self.scale = torch.sqrt(torch.FloatTensor([0.5])).to(device)\n",
        "\n",
        "    def calc_attention(self, dec_embed, dec_conved, enc_conved, enc_combined):              # [dec_embed] = [batch_size, trg_len, embedding_dim] dec_conved = [batch_size, hidden_dim, trg_len] \n",
        "                                                                                            # [encoder_conved] = [encoder_combined] = [batch_size, src_len, embedding_dim]\n",
        "        dec_conved_emb = self.attn_hid2emb(dec_conved.permute(0, 2, 1))                     # [dec_conved_emb] = [batch_size, trg_len, embedding_dim]\n",
        "        dec_combined = (dec_embed + dec_conved_emb)*self.scale                              # [dec_combined] = [batch_szie, trg_len, embedding_len]\n",
        "        energy = torch.matmul(dec_combined, enc_conved.permute(0, 2, 1))                    # energy = [batch_size, trg_len, src_len]\n",
        "        attention = F.softmax(energy, dim = 2)                                              # attention = [batch_size, trg_len, src_len]\n",
        "        attended_encoding = torch.matmul(attention, enc_combined)                           # attended_encoding = [batch_size, trg_len, embedding_dim]    \n",
        "        attended_encoding = self.attn_emb2hid(attended_encoding)                            # attended_encoding = [batch_size, trg_len, hidden_dim]\n",
        "        attended_combined = (attended_encoding.permute(0, 2, 1) + dec_conved)*self.scale    # attented_combined = [batch_size, hidden_dim, trg_len]\n",
        "        return attention, attended_combined\n",
        "\n",
        "    def forward(self, target, enc_conved, enc_combined):                                    # target = [batch_size, trg_len] encoder_conved = encoder_combined = [batch_size, src_len, embedding_dim]\n",
        "        batch_size = target.shape[0]\n",
        "        trg_len = target.shape[1]\n",
        "        tok_embed = self.tok_embedding(target)                                              # tok_embed = [batch_size, trg_len, embedding_dim]\n",
        "        pos_tensor = torch.arange(0, trg_len).unsqueeze(0).repeat(batch_size, 1).to(device) # pos_tensor = [batch_size, trg_len]\n",
        "        pos_embed = self.pos_embedding(pos_tensor)                                          # pos_embed = [batch_size, trg_len, embedding_dim]\n",
        "        dec_embed = self.dropout(tok_embed + pos_embed)                                     # dec_embed = [batch_size, trg_len, embedding_dim]\n",
        "        dec_conv_input = self.emb2hid(dec_embed).permute(0, 2, 1)                           # dec_conv_input = [batch_size, hidden_dim, trg_len]\n",
        "        hidden_dim = dec_conv_input.shape[1]\n",
        "        for conv_layer in self.convs:\n",
        "            padding = torch.zeros((batch_size, hidden_dim, self.kernel_size - 1)).fill_(self.trg_pad_idx).to(device) \n",
        "            padded_conv_input = torch.cat((padding, dec_conv_input), dim = 2)               # padded_conv_input = [batch_size, hidden_dim, trg_len+kernel_size-1]\n",
        "            dec_conved = conv_layer(padded_conv_input)                                      # dec_conved = [batch_size, 2*hidden_dim, trg_len]\n",
        "            dec_conved = F.glu(dec_conved, dim = 1)                                         # dec_conved = [batch_size, hidden_dim, trg_len]\n",
        "            attention, dec_conved = self.calc_attention(dec_embed, dec_conved, enc_conved, enc_combined) # attention = [batch_size, trg_len, src_len] dec_conved = [batch_size, hidden_dim, trg_len]\n",
        "            dec_conved = (dec_conved + dec_conv_input)*self.scale                           # dec_conved = [batch_size, hidden_dim, trg_len]\n",
        "            dec_conv_input = dec_conved\n",
        "        dec_conved = self.hid2emb(dec_conved.permute(0, 2, 1))                              # dec_conved = [batch_size, trg_len, embedding_dim]\n",
        "        output = self.fc(self.dropout(dec_conved))                                          # output = [batch_size, trg_len, tok_vocab_size]\n",
        "        return output, attention"
      ],
      "execution_count": null,
      "outputs": []
    },
    {
      "cell_type": "code",
      "metadata": {
        "colab_type": "code",
        "id": "V-Psgwn3JhUu",
        "colab": {}
      },
      "source": [
        "class Seq2Seq(nn.Module):\n",
        "    def __init__(self, encoder, decoder):\n",
        "        super(Seq2Seq, self).__init__()\n",
        "        self.encoder = encoder\n",
        "        self.decoder = decoder\n",
        "    \n",
        "    def forward(self, source, target):                                                      # source = [batch_size, src_len] target = [batch_size, trg_len-1]\n",
        "        enc_conved, enc_combined = self.encoder(source)\n",
        "        output, attention = self.decoder(target, enc_conved, enc_combined)\n",
        "        return output, attention"
      ],
      "execution_count": null,
      "outputs": []
    },
    {
      "cell_type": "markdown",
      "metadata": {
        "id": "HBf1SGeYzY4P",
        "colab_type": "text"
      },
      "source": [
        "## Training and Evaluation Functions"
      ]
    },
    {
      "cell_type": "code",
      "metadata": {
        "colab_type": "code",
        "id": "2Cdb3KwuTqoE",
        "colab": {}
      },
      "source": [
        "def Train(iterator, model, criterion, optimizer, clip=1):\n",
        "    model.train()\n",
        "    epoch_loss = 0\n",
        "    for _, batch in enumerate(iterator):\n",
        "        model.zero_grad()\n",
        "        source = batch.src\n",
        "        target = batch.trg\n",
        "        outputs, _ = model(source, target[:, :-1])\n",
        "        outputs = outputs.contiguous().view(-1, outputs.shape[-1])\n",
        "        targets = target[:, 1:].contiguous().view(-1).to(device)\n",
        "        # To avoid using .contiguous() simply use .reshape instead of .conti..().view()\n",
        "        batch_loss = criterion(outputs, targets)\n",
        "        batch_loss.backward()\n",
        "        torch.nn.utils.clip_grad_norm_(model.parameters(), clip)\n",
        "        optimizer.step()\n",
        "        epoch_loss += batch_loss.item()\n",
        "\n",
        "    return epoch_loss/len(iterator)"
      ],
      "execution_count": null,
      "outputs": []
    },
    {
      "cell_type": "code",
      "metadata": {
        "colab_type": "code",
        "id": "oUiWyJwXZG_l",
        "colab": {}
      },
      "source": [
        "def Evaluate(iterator, model, criterion):\n",
        "    model.eval()\n",
        "    eval_loss = 0\n",
        "    with torch.no_grad():\n",
        "        for _, batch in enumerate(iterator):\n",
        "            source = batch.src\n",
        "            target = batch.trg\n",
        "            outputs, attention = model(source, target[:, :-1])\n",
        "            outputs = outputs.contiguous().view(-1, outputs.shape[-1])\n",
        "            targets = target[:, 1:].contiguous().view(-1).to(device)\n",
        "            # To avoid using .contiguous() simply use .reshape instead of .conti..().view()\n",
        "            batch_loss = criterion(outputs, targets)\n",
        "            eval_loss += batch_loss.item()\n",
        "        \n",
        "        return eval_loss/len(iterator)"
      ],
      "execution_count": null,
      "outputs": []
    },
    {
      "cell_type": "code",
      "metadata": {
        "colab_type": "code",
        "id": "tp-mY1LIaUF8",
        "colab": {}
      },
      "source": [
        "def Epoch_time(start_time, end_time):\n",
        "    elapsed_time = end_time - start_time\n",
        "    elapsed_mins = int(elapsed_time / 60)\n",
        "    elapsed_secs = int(elapsed_time - (elapsed_mins * 60))\n",
        "    return (elapsed_mins, elapsed_secs)"
      ],
      "execution_count": null,
      "outputs": []
    },
    {
      "cell_type": "markdown",
      "metadata": {
        "id": "AB6QObQMzhcw",
        "colab_type": "text"
      },
      "source": [
        "## Data Iterators, Hyperparameters and Model Initialization"
      ]
    },
    {
      "cell_type": "code",
      "metadata": {
        "colab_type": "code",
        "id": "WNausHKbBOcQ",
        "colab": {}
      },
      "source": [
        "BATCH_SIZE = 128\n",
        "\n",
        "train_iterator, valid_iterator, test_iterator = BucketIterator.splits((train_data, valid_data, test_data), batch_size = BATCH_SIZE, device = device)"
      ],
      "execution_count": null,
      "outputs": []
    },
    {
      "cell_type": "code",
      "metadata": {
        "colab_type": "code",
        "id": "J7lr5X8h-9Ov",
        "colab": {
          "base_uri": "https://localhost:8080/",
          "height": 68
        },
        "outputId": "d280964a-8211-4237-d8ed-23f97dc7c0e4"
      },
      "source": [
        "print(\"Number of Training sequences: \", len(train_data.examples))\n",
        "print(\"Number of Test sequences: \", len(test_data.examples))\n",
        "print(\"Number of Validation sequences: \", len(valid_data.examples))"
      ],
      "execution_count": null,
      "outputs": [
        {
          "output_type": "stream",
          "text": [
            "Number of Training sequences:  29000\n",
            "Number of Test sequences:  1000\n",
            "Number of Validation sequences:  1014\n"
          ],
          "name": "stdout"
        }
      ]
    },
    {
      "cell_type": "code",
      "metadata": {
        "colab_type": "code",
        "id": "wlxCfwPRbOOC",
        "colab": {}
      },
      "source": [
        "NUM_EPOCHS = 10\n",
        "LR = 0.001\n",
        "CLIP = 1\n",
        "SRC_VOCAB_SIZE = len(SOURCE_Field.vocab)\n",
        "TRG_VOCAB_SIZE = len(TARGET_Field.vocab)\n",
        "HIDDEN_DIM = 512\n",
        "EMBEDDING_DIM = 256\n",
        "ENC_DROPOUT = 0.25\n",
        "DEC_DROPOUT = 0.25\n",
        "KERNEL_SIZE = 3\n",
        "ENC_NUM_LAYERS = 10\n",
        "DEC_NUM_LAYERS = 10\n",
        "MAX_LEN = 100"
      ],
      "execution_count": null,
      "outputs": []
    },
    {
      "cell_type": "code",
      "metadata": {
        "id": "g43NA-HR7KHc",
        "colab_type": "code",
        "colab": {}
      },
      "source": [
        "trg_padding_idx = TARGET_Field.vocab.stoi[TARGET_Field.pad_token]\n",
        "criterion = nn.CrossEntropyLoss(ignore_index = trg_padding_idx)"
      ],
      "execution_count": null,
      "outputs": []
    },
    {
      "cell_type": "code",
      "metadata": {
        "id": "ByCYwP0yy7fv",
        "colab_type": "code",
        "colab": {}
      },
      "source": [
        "encoder = Encoder(SRC_VOCAB_SIZE, MAX_LEN, EMBEDDING_DIM, HIDDEN_DIM, KERNEL_SIZE, ENC_NUM_LAYERS, ENC_DROPOUT).to(device)\n",
        "decoder = Decoder(TRG_VOCAB_SIZE, MAX_LEN, EMBEDDING_DIM, HIDDEN_DIM, KERNEL_SIZE, DEC_NUM_LAYERS, DEC_DROPOUT, trg_padding_idx).to(device)\n",
        "seq2seq = Seq2Seq(encoder, decoder).to(device)\n",
        "optimizer = optim.AdamW(seq2seq.parameters(), LR)"
      ],
      "execution_count": null,
      "outputs": []
    },
    {
      "cell_type": "code",
      "metadata": {
        "id": "3DKxuU2_qxuY",
        "colab_type": "code",
        "colab": {}
      },
      "source": [
        "def initialize_weights(m):\n",
        "    for name, param in m.named_parameters():\n",
        "        if 'weight' in name:\n",
        "            nn.init.xavier_uniform_(param.data)\n",
        "        else:\n",
        "            nn.init.constant(param.data, 0)"
      ],
      "execution_count": null,
      "outputs": []
    },
    {
      "cell_type": "code",
      "metadata": {
        "id": "V3qoV4x5Dpa0",
        "colab_type": "code",
        "colab": {
          "base_uri": "https://localhost:8080/",
          "height": 782
        },
        "outputId": "708443fd-7f87-4be7-f958-da65edf5d028"
      },
      "source": [
        "seq2seq.apply(initialize_weights)"
      ],
      "execution_count": null,
      "outputs": [
        {
          "output_type": "stream",
          "text": [
            "/usr/local/lib/python3.6/dist-packages/ipykernel_launcher.py:6: UserWarning: nn.init.constant is now deprecated in favor of nn.init.constant_.\n",
            "  \n"
          ],
          "name": "stderr"
        },
        {
          "output_type": "execute_result",
          "data": {
            "text/plain": [
              "Seq2Seq(\n",
              "  (encoder): Encoder(\n",
              "    (tok_embedding): Embedding(7855, 256)\n",
              "    (pos_embedding): Embedding(100, 256)\n",
              "    (emb2hid): Linear(in_features=256, out_features=512, bias=True)\n",
              "    (hid2emb): Linear(in_features=512, out_features=256, bias=True)\n",
              "    (convs): ModuleList(\n",
              "      (0): Conv1d(512, 1024, kernel_size=(3,), stride=(1,), padding=(1,))\n",
              "      (1): Conv1d(512, 1024, kernel_size=(3,), stride=(1,), padding=(1,))\n",
              "      (2): Conv1d(512, 1024, kernel_size=(3,), stride=(1,), padding=(1,))\n",
              "      (3): Conv1d(512, 1024, kernel_size=(3,), stride=(1,), padding=(1,))\n",
              "      (4): Conv1d(512, 1024, kernel_size=(3,), stride=(1,), padding=(1,))\n",
              "      (5): Conv1d(512, 1024, kernel_size=(3,), stride=(1,), padding=(1,))\n",
              "      (6): Conv1d(512, 1024, kernel_size=(3,), stride=(1,), padding=(1,))\n",
              "      (7): Conv1d(512, 1024, kernel_size=(3,), stride=(1,), padding=(1,))\n",
              "      (8): Conv1d(512, 1024, kernel_size=(3,), stride=(1,), padding=(1,))\n",
              "      (9): Conv1d(512, 1024, kernel_size=(3,), stride=(1,), padding=(1,))\n",
              "    )\n",
              "    (dropout): Dropout(p=0.25, inplace=False)\n",
              "  )\n",
              "  (decoder): Decoder(\n",
              "    (tok_embedding): Embedding(5893, 256)\n",
              "    (pos_embedding): Embedding(100, 256)\n",
              "    (emb2hid): Linear(in_features=256, out_features=512, bias=True)\n",
              "    (hid2emb): Linear(in_features=512, out_features=256, bias=True)\n",
              "    (attn_emb2hid): Linear(in_features=256, out_features=512, bias=True)\n",
              "    (attn_hid2emb): Linear(in_features=512, out_features=256, bias=True)\n",
              "    (fc): Linear(in_features=256, out_features=5893, bias=True)\n",
              "    (convs): ModuleList(\n",
              "      (0): Conv1d(512, 1024, kernel_size=(3,), stride=(1,))\n",
              "      (1): Conv1d(512, 1024, kernel_size=(3,), stride=(1,))\n",
              "      (2): Conv1d(512, 1024, kernel_size=(3,), stride=(1,))\n",
              "      (3): Conv1d(512, 1024, kernel_size=(3,), stride=(1,))\n",
              "      (4): Conv1d(512, 1024, kernel_size=(3,), stride=(1,))\n",
              "      (5): Conv1d(512, 1024, kernel_size=(3,), stride=(1,))\n",
              "      (6): Conv1d(512, 1024, kernel_size=(3,), stride=(1,))\n",
              "      (7): Conv1d(512, 1024, kernel_size=(3,), stride=(1,))\n",
              "      (8): Conv1d(512, 1024, kernel_size=(3,), stride=(1,))\n",
              "      (9): Conv1d(512, 1024, kernel_size=(3,), stride=(1,))\n",
              "    )\n",
              "    (dropout): Dropout(p=0.25, inplace=False)\n",
              "  )\n",
              ")"
            ]
          },
          "metadata": {
            "tags": []
          },
          "execution_count": 27
        }
      ]
    },
    {
      "cell_type": "code",
      "metadata": {
        "id": "K0YYjg1jDlrh",
        "colab_type": "code",
        "colab": {
          "base_uri": "https://localhost:8080/",
          "height": 34
        },
        "outputId": "780bb0cb-5830-4d81-e8c6-bae37d147f30"
      },
      "source": [
        "def count_parameters(model):\n",
        "    return sum(p.numel() for p in model.parameters() if p.requires_grad)\n",
        "\n",
        "print(f'The model has {count_parameters(seq2seq):,} trainable parameters.')"
      ],
      "execution_count": null,
      "outputs": [
        {
          "output_type": "stream",
          "text": [
            "The model has 37,351,685 trainable parameters.\n"
          ],
          "name": "stdout"
        }
      ]
    },
    {
      "cell_type": "markdown",
      "metadata": {
        "id": "0eqtEi0F0ZFf",
        "colab_type": "text"
      },
      "source": [
        "## Download Pre-Trained Model\n",
        "Run this section instead of the \"Training\" section if you wish to download the pre-trained model instead of training one yourself."
      ]
    },
    {
      "cell_type": "code",
      "metadata": {
        "id": "_eHrPQvT0YbP",
        "colab_type": "code",
        "colab": {}
      },
      "source": [
        "# !wget -O Conv_Seq2Seq.pth https://gitlab.com/rishika2110/weights/-/blob/6e88f0c7acaf5d86d803eca8abb150e0b79f95ef/neural_machine_translation/Conv_Seq2Seq.pth"
      ],
      "execution_count": null,
      "outputs": []
    },
    {
      "cell_type": "code",
      "metadata": {
        "id": "OePNC2Vf0hkI",
        "colab_type": "code",
        "colab": {}
      },
      "source": [
        "# MODEL_STORE_PATH = \"Conv_Seq2Seq.pth\""
      ],
      "execution_count": null,
      "outputs": []
    },
    {
      "cell_type": "markdown",
      "metadata": {
        "id": "xs1FTM7q0Cr1",
        "colab_type": "text"
      },
      "source": [
        "## Training\n",
        "Run this section only if you want to train the model yourself and store the trained weights in G-Drive."
      ]
    },
    {
      "cell_type": "code",
      "metadata": {
        "id": "VGYfyVqJ0JTG",
        "colab_type": "code",
        "colab": {
          "base_uri": "https://localhost:8080/",
          "height": 122
        },
        "outputId": "3e552af6-955b-479a-d808-dd3848c03350"
      },
      "source": [
        "drive.mount('/content/gdrive')"
      ],
      "execution_count": null,
      "outputs": [
        {
          "output_type": "stream",
          "text": [
            "Go to this URL in a browser: https://accounts.google.com/o/oauth2/auth?client_id=947318989803-6bn6qk8qdgf4n4g3pfee6491hc0brc4i.apps.googleusercontent.com&redirect_uri=urn%3aietf%3awg%3aoauth%3a2.0%3aoob&scope=email%20https%3a%2f%2fwww.googleapis.com%2fauth%2fdocs.test%20https%3a%2f%2fwww.googleapis.com%2fauth%2fdrive%20https%3a%2f%2fwww.googleapis.com%2fauth%2fdrive.photos.readonly%20https%3a%2f%2fwww.googleapis.com%2fauth%2fpeopleapi.readonly&response_type=code\n",
            "\n",
            "Enter your authorization code:\n",
            "··········\n",
            "Mounted at /content/gdrive\n"
          ],
          "name": "stdout"
        }
      ]
    },
    {
      "cell_type": "code",
      "metadata": {
        "id": "PV0Exasn0J6d",
        "colab_type": "code",
        "colab": {}
      },
      "source": [
        "MODEL_STORE_PATH = '/content/gdrive/My Drive/Colab/NLP/Machine Translation/Models/Conv_Seq2Seq.pth'"
      ],
      "execution_count": null,
      "outputs": []
    },
    {
      "cell_type": "code",
      "metadata": {
        "colab_type": "code",
        "id": "X8yEFx9Uc2hk",
        "colab": {
          "base_uri": "https://localhost:8080/",
          "height": 561
        },
        "outputId": "562dac40-7acf-4605-f771-5a8dd24a8f25"
      },
      "source": [
        "print(f\"Learning Rate: {LR}, Hidden Dimensions: {HIDDEN_DIM}\")\n",
        "train_losses = []\n",
        "valid_losses = []\n",
        "prev_epoch = 1\n",
        "min_losses = [float('inf'), float('inf')]\n",
        "start_time = time.time()\n",
        "for epoch in range(1, NUM_EPOCHS + 1):\n",
        "    train_loss = Train(train_iterator, seq2seq, criterion, optimizer, CLIP)\n",
        "    train_losses.append(train_loss)\n",
        "    valid_loss = Evaluate(test_iterator, seq2seq, criterion)\n",
        "    valid_losses.append(valid_loss)\n",
        "    if valid_loss < min_losses[0]:\n",
        "        min_losses[0] = valid_loss\n",
        "        min_losses[1] = train_loss\n",
        "        torch.save(seq2seq.state_dict(), MODEL_STORE_PATH)\n",
        "    if epoch % int(NUM_EPOCHS / 10) == 0:\n",
        "        elapsed_time = Epoch_time(start_time, time.time())\n",
        "        print(f\"Time taken for epochs {prev_epoch} to {epoch}: {elapsed_time[0]}m {elapsed_time[1]}s\")\n",
        "        start_time = time.time()\n",
        "        prev_epoch = epoch + 1\n",
        "        print(f\"Training Loss: {train_loss:.4f} | Validation Loss: {valid_loss:.4f}\")\n",
        "        print(f\"Training PPL: {math.exp(train_loss):.4f} | Validation PPL: {math.exp(valid_loss):.4f}\")\n",
        "print(f\"Model with Train Loss {min_losses[1]:.4f}, Validation Loss: {min_losses[0]:.4f} was saved.\")"
      ],
      "execution_count": null,
      "outputs": [
        {
          "output_type": "stream",
          "text": [
            "Learning Rate: 0.001, Hidden Dimensions: 512\n",
            "Time taken for epochs 1 to 1: 0m 44s\n",
            "Training Loss: 4.5389 | Validation Loss: 3.3239\n",
            "Training PPL: 93.5901 | Validation PPL: 27.7686\n",
            "Time taken for epochs 2 to 2: 0m 40s\n",
            "Training Loss: 3.0167 | Validation Loss: 2.3964\n",
            "Training PPL: 20.4243 | Validation PPL: 10.9834\n",
            "Time taken for epochs 3 to 3: 0m 40s\n",
            "Training Loss: 2.3242 | Validation Loss: 2.0153\n",
            "Training PPL: 10.2188 | Validation PPL: 7.5027\n",
            "Time taken for epochs 4 to 4: 0m 40s\n",
            "Training Loss: 1.9343 | Validation Loss: 1.8437\n",
            "Training PPL: 6.9189 | Validation PPL: 6.3200\n",
            "Time taken for epochs 5 to 5: 0m 40s\n",
            "Training Loss: 1.6807 | Validation Loss: 1.7450\n",
            "Training PPL: 5.3692 | Validation PPL: 5.7261\n",
            "Time taken for epochs 6 to 6: 0m 40s\n",
            "Training Loss: 1.4865 | Validation Loss: 1.7324\n",
            "Training PPL: 4.4217 | Validation PPL: 5.6539\n",
            "Time taken for epochs 7 to 7: 0m 40s\n",
            "Training Loss: 1.3339 | Validation Loss: 1.7306\n",
            "Training PPL: 3.7959 | Validation PPL: 5.6439\n",
            "Time taken for epochs 8 to 8: 0m 39s\n",
            "Training Loss: 1.2018 | Validation Loss: 1.7503\n",
            "Training PPL: 3.3262 | Validation PPL: 5.7564\n",
            "Time taken for epochs 9 to 9: 0m 39s\n",
            "Training Loss: 1.0785 | Validation Loss: 1.7578\n",
            "Training PPL: 2.9404 | Validation PPL: 5.7994\n",
            "Time taken for epochs 10 to 10: 0m 39s\n",
            "Training Loss: 0.9689 | Validation Loss: 1.8079\n",
            "Training PPL: 2.6351 | Validation PPL: 6.0975\n",
            "Model with Train Loss 1.3339, Validation Loss: 1.7306 was saved.\n"
          ],
          "name": "stdout"
        }
      ]
    },
    {
      "cell_type": "code",
      "metadata": {
        "colab_type": "code",
        "id": "PvDUPeEVoNhr",
        "colab": {
          "base_uri": "https://localhost:8080/",
          "height": 295
        },
        "outputId": "dcf4243f-34f8-499f-94ed-f48d9e009dc6"
      },
      "source": [
        "plt.title('Learning Curves')\n",
        "plt.xlabel('Number of Epochs')\n",
        "plt.ylabel('Cross Entropy Loss')\n",
        "plt.plot(train_losses, label = 'Training Loss')\n",
        "plt.plot(valid_losses, label='Validation Loss')\n",
        "plt.legend()\n",
        "plt.savefig('/content/gdrive/My Drive/Colab/NLP/Machine Translation/Plots/Conv_Seq2Seq.jpeg')\n",
        "plt.show()"
      ],
      "execution_count": null,
      "outputs": [
        {
          "output_type": "display_data",
          "data": {
            "image/png": "[encoded data removed]",
            "text/plain": [
              "<Figure size 432x288 with 1 Axes>"
            ]
          },
          "metadata": {
            "tags": [],
            "needs_background": "light"
          }
        }
      ]
    },
    {
      "cell_type": "markdown",
      "metadata": {
        "id": "yhIYBFHBPbOK",
        "colab_type": "text"
      },
      "source": [
        "## Sampling"
      ]
    },
    {
      "cell_type": "markdown",
      "metadata": {
        "id": "P4jwtwkoPnVE",
        "colab_type": "text"
      },
      "source": [
        "Run the cell below to load the model for sampling."
      ]
    },
    {
      "cell_type": "code",
      "metadata": {
        "id": "ZbeCABMKPRaX",
        "colab_type": "code",
        "colab": {
          "base_uri": "https://localhost:8080/",
          "height": 34
        },
        "outputId": "d3487db5-4a45-4ef9-cccc-8b78f4cfa29b"
      },
      "source": [
        "seq2seq.load_state_dict(torch.load(MODEL_STORE_PATH))"
      ],
      "execution_count": null,
      "outputs": [
        {
          "output_type": "execute_result",
          "data": {
            "text/plain": [
              "<All keys matched successfully>"
            ]
          },
          "metadata": {
            "tags": []
          },
          "execution_count": 35
        }
      ]
    },
    {
      "cell_type": "code",
      "metadata": {
        "id": "jRfUMdeoPrVq",
        "colab_type": "code",
        "colab": {
          "base_uri": "https://localhost:8080/",
          "height": 34
        },
        "outputId": "b9008f12-89a8-4467-cc17-8409ad309a76"
      },
      "source": [
        "seq2seq.eval()\n",
        "test_loss = Evaluate(test_iterator, seq2seq, criterion)\n",
        "print(f\"Test Loss: {test_loss:.4f} | Test PPL: {math.exp(test_loss):.4f}\")"
      ],
      "execution_count": null,
      "outputs": [
        {
          "output_type": "stream",
          "text": [
            "Test Loss: 1.7306 | Test PPL: 5.6439\n"
          ],
          "name": "stdout"
        }
      ]
    },
    {
      "cell_type": "code",
      "metadata": {
        "id": "jUc4Ejb2O6Tj",
        "colab_type": "code",
        "colab": {}
      },
      "source": [
        "def Translate(src_sentence, src_field, trg_field, model):\n",
        "    ip_tensor = ipTensor(src_sentence, SOURCE_Field)\n",
        "    max_len = 4 * ip_tensor.shape[1]\n",
        "    with torch.no_grad():\n",
        "        enc_conved, enc_combined = model.encoder(ip_tensor)\n",
        "    sos_id = trg_field.vocab.stoi[trg_field.init_token]\n",
        "    eos_id = trg_field.vocab.stoi[trg_field.eos_token]\n",
        "    predicts = [sos_id]\n",
        "    len = 1\n",
        "    while len < max_len:\n",
        "        input = torch.LongTensor(predicts).unsqueeze(0).to(device)\n",
        "        with torch.no_grad():\n",
        "            output, attention = model.decoder(input, enc_conved, enc_combined)\n",
        "        predicts.append(output.argmax(2)[:, -1].item())\n",
        "        len += 1\n",
        "        if predicts[-1] == eos_id:\n",
        "            break\n",
        "    sentence = [trg_field.vocab.itos[id] for id in predicts[1:]]\n",
        "    return sentence, attention"
      ],
      "execution_count": null,
      "outputs": []
    },
    {
      "cell_type": "code",
      "metadata": {
        "id": "KV2dpK0ZPCH-",
        "colab_type": "code",
        "colab": {
          "base_uri": "https://localhost:8080/",
          "height": 68
        },
        "outputId": "39bca78f-4069-4b6a-d071-117f5d990e1e"
      },
      "source": [
        "ind = int(random.random()*len(test_data.examples))\n",
        "example = test_data.examples[ind]\n",
        "src_sentence = example.src\n",
        "trg_sentence = example.trg\n",
        "print(\"German Sentence: \", ' '.join(src_sentence))\n",
        "translation, attention = Translate(src_sentence , SOURCE_Field, TARGET_Field, seq2seq)\n",
        "print(\"Predicted Translation: \", ' '.join(translation[:-1]))\n",
        "print(\"Actual Translation: \", ' '.join(trg_sentence))"
      ],
      "execution_count": null,
      "outputs": [
        {
          "output_type": "stream",
          "text": [
            "German Sentence:  vier schwarze männer sitzen auf den stufen einer kirche .\n",
            "Predicted Translation:  four black men sit on the steps of a church .\n",
            "Actual Translation:  four black men are sitting on the steps of a church .\n"
          ],
          "name": "stdout"
        }
      ]
    },
    {
      "cell_type": "markdown",
      "metadata": {
        "id": "xFr0gv2wQFJo",
        "colab_type": "text"
      },
      "source": [
        "## Display Attention "
      ]
    },
    {
      "cell_type": "code",
      "metadata": {
        "id": "65DKy6IqO98D",
        "colab_type": "code",
        "colab": {}
      },
      "source": [
        "def Disp_Attn(sentence, translation, attention):\n",
        "    fig = plt.figure(figsize=(10,10))\n",
        "    ax = fig.add_subplot(111)\n",
        "    attention = attention.squeeze(0).cpu().detach().numpy()\n",
        "    cax = ax.matshow(attention, cmap='bone')\n",
        "    ax.tick_params(labelsize=15)\n",
        "    ax.set_xticklabels(['']+['<sos>']+[t.lower() for t in sentence]+['<eos>'], rotation=45)\n",
        "    ax.set_yticklabels(['']+translation)\n",
        "    ax.xaxis.set_major_locator(ticker.MultipleLocator(1))\n",
        "    ax.yaxis.set_major_locator(ticker.MultipleLocator(1))\n",
        "    plt.show()\n",
        "    plt.close()"
      ],
      "execution_count": null,
      "outputs": []
    },
    {
      "cell_type": "code",
      "metadata": {
        "id": "gz4YVT9vPGXR",
        "colab_type": "code",
        "colab": {
          "base_uri": "https://localhost:8080/",
          "height": 646
        },
        "outputId": "7c60f045-fce9-4766-c4e2-9aaa73781532"
      },
      "source": [
        "Disp_Attn(src_sentence, translation, attention)"
      ],
      "execution_count": null,
      "outputs": [
        {
          "output_type": "display_data",
          "data": {
            "image/png": "[encoded data removed]",
            "text/plain": [
              "<Figure size 720x720 with 1 Axes>"
            ]
          },
          "metadata": {
            "tags": [],
            "needs_background": "light"
          }
        }
      ]
    },
    {
      "cell_type": "markdown",
      "metadata": {
        "id": "Vs_iOrX5QXjB",
        "colab_type": "text"
      },
      "source": [
        "## BLEU Score"
      ]
    },
    {
      "cell_type": "code",
      "metadata": {
        "id": "k-Y8ngrjQazt",
        "colab_type": "code",
        "colab": {}
      },
      "source": [
        "def Calculate_BLEU(data, src_field, trg_field, model):\n",
        "    trgs = []\n",
        "    predicted_trgs = []\n",
        "    for i in range(len(data.examples)):\n",
        "        src_sentence = vars(data[i])['src']\n",
        "        trg_sentence = vars(data[i])['trg']\n",
        "        try:                                # Sometimes(rarely) CUDA throws a \"Device side assert triggered\" error. So, just to avoid restarting runtime.\n",
        "            predicted_trg, _ = Translate(src_sentence, src_field, trg_field, model)\n",
        "            predicted_trgs.append(predicted_trg[:-1])\n",
        "            trgs.append([trg_sentence])\n",
        "        except:\n",
        "            pass\n",
        "    return bleu_score(predicted_trgs, trgs)"
      ],
      "execution_count": null,
      "outputs": []
    },
    {
      "cell_type": "code",
      "metadata": {
        "id": "O7sT-_wMJHZk",
        "colab_type": "code",
        "colab": {
          "base_uri": "https://localhost:8080/",
          "height": 34
        },
        "outputId": "02ba14fa-5ea3-47bb-cf8b-68bbb0b774b1"
      },
      "source": [
        "bleu_score_test = Calculate_BLEU(test_data, SOURCE_Field, TARGET_Field, seq2seq)\n",
        "print(f\"BLEU score on Testing Data: {bleu_score_test*100:.2f}\")"
      ],
      "execution_count": null,
      "outputs": [
        {
          "output_type": "stream",
          "text": [
            "BLEU score on Testing Data: 36.53\n"
          ],
          "name": "stdout"
        }
      ]
    },
    {
      "cell_type": "code",
      "metadata": {
        "id": "YCDdeehkW2HA",
        "colab_type": "code",
        "colab": {}
      },
      "source": [
        ""
      ],
      "execution_count": null,
      "outputs": []
    }
  ]
}