{
  "nbformat": 4,
  "nbformat_minor": 0,
  "metadata": {
    "kernelspec": {
      "display_name": "Python 3",
      "language": "python",
      "name": "python3"
    },
    "language_info": {
      "codemirror_mode": {
        "name": "ipython",
        "version": 3
      },
      "file_extension": ".py",
      "mimetype": "text/x-python",
      "name": "python",
      "nbconvert_exporter": "python",
      "pygments_lexer": "ipython3",
      "version": "3.8.5"
    },
    "colab": {
      "name": "Main Paragraph generation on larger dataset lstm.ipynb",
      "provenance": [],
      "collapsed_sections": []
    },
    "accelerator": "GPU"
  },
  "cells": [
    {
      "cell_type": "markdown",
      "metadata": {
        "id": "pSm0l2bOjihs"
      },
      "source": [
        "Loading modules"
      ]
    },
    {
      "cell_type": "code",
      "metadata": {
        "id": "y2eNwpFfJZqo"
      },
      "source": [
        "import torch\n",
        "import torch.nn as nn\n",
        "import torch.nn.functional as f\n",
        "import torch.optim as optim\n",
        "import numpy as np\n",
        "import matplotlib.pyplot as plt\n",
        "import time\n",
        "import textwrap"
      ],
      "execution_count": null,
      "outputs": []
    },
    {
      "cell_type": "markdown",
      "metadata": {
        "id": "f_ss0whRJZrB"
      },
      "source": [
        "Following section tidy data and creates data iterator . Dont mess with it."
      ]
    },
    {
      "cell_type": "code",
      "metadata": {
        "id": "Z9_5qpVTJZrC"
      },
      "source": [
        "import sys\n",
        "from unicodedata import category\n",
        "codepoints = range(sys.maxunicode + 1)\n",
        "punctuation = {chr(i) for i in codepoints if category(chr(i)).startswith(\"P\")}\n",
        "punctuation.remove(\"’\")"
      ],
      "execution_count": null,
      "outputs": []
    },
    {
      "cell_type": "code",
      "metadata": {
        "id": "OQ42xni-JZrD"
      },
      "source": [
        "f = open(\"Book 1 - The Philosopher's Stone.txt\",encoding=\"utf8\")   # Please write path of book accordingly.\n",
        "l = f.read()\n",
        "f.close()\n"
      ],
      "execution_count": null,
      "outputs": []
    },
    {
      "cell_type": "code",
      "metadata": {
        "id": "Gsc5B4yUJZrE"
      },
      "source": [
        "a = l"
      ],
      "execution_count": null,
      "outputs": []
    },
    {
      "cell_type": "code",
      "metadata": {
        "id": "mp5eadfBJZrF"
      },
      "source": [
        "b = a.split('\\n\\n')"
      ],
      "execution_count": null,
      "outputs": []
    },
    {
      "cell_type": "code",
      "metadata": {
        "id": "BVlKjxs1JZrH",
        "colab": {
          "base_uri": "https://localhost:8080/"
        },
        "outputId": "75cc6353-1996-4f99-9342-014c683607f8"
      },
      "source": [
        "len(b)  "
      ],
      "execution_count": null,
      "outputs": [
        {
          "output_type": "execute_result",
          "data": {
            "text/plain": [
              "4165"
            ]
          },
          "metadata": {
            "tags": []
          },
          "execution_count": 8
        }
      ]
    },
    {
      "cell_type": "code",
      "metadata": {
        "id": "Pk_e1R8zJZrI"
      },
      "source": [
        "c = []"
      ],
      "execution_count": null,
      "outputs": []
    },
    {
      "cell_type": "code",
      "metadata": {
        "id": "65tM2GZFJZrJ"
      },
      "source": [
        "for i in range(len(b)):\n",
        "    b[i] = b[i].strip()"
      ],
      "execution_count": null,
      "outputs": []
    },
    {
      "cell_type": "code",
      "metadata": {
        "id": "TjPwnrWAJZrJ"
      },
      "source": [
        "flag=0\n",
        "for i in range(1,len(b)-1):\n",
        "    if b[i].isupper()==0 and flag<=0:\n",
        "        if b[i].find('Page | ')==0:\n",
        "            if b[i-1] != '' and b[i-1][-1] != '.':\n",
        "                temp = \" \".join([b[i-1],b[i+1]])\n",
        "                c.append(temp.replace('\\n','').lower())\n",
        "                flag = 1\n",
        "        elif flag<=0:\n",
        "            c.append(b[i].replace('\\n','').lower())\n",
        "    flag-=1"
      ],
      "execution_count": null,
      "outputs": []
    },
    {
      "cell_type": "code",
      "metadata": {
        "id": "5OHFen7KJZrK"
      },
      "source": [
        "for i in range(len(c)):\n",
        "    ind = c[i].find('page | ')\n",
        "    if ind!=-1:\n",
        "        c[i] = c[i][:ind]"
      ],
      "execution_count": null,
      "outputs": []
    },
    {
      "cell_type": "code",
      "metadata": {
        "id": "oIQnb7m3JZrL"
      },
      "source": [
        "d = []\n",
        "for i in c:\n",
        "    if i!='':\n",
        "        d.append(i)"
      ],
      "execution_count": null,
      "outputs": []
    },
    {
      "cell_type": "code",
      "metadata": {
        "id": "iAGuNHrfJZrL",
        "colab": {
          "base_uri": "https://localhost:8080/"
        },
        "outputId": "10745dcd-52a5-47fe-bd16-8170ed77bbcf"
      },
      "source": [
        "d[:100]"
      ],
      "execution_count": null,
      "outputs": [
        {
          "output_type": "execute_result",
          "data": {
            "text/plain": [
              "['mr. and mrs. dursley, of number four, privet drive, were proud to say that they were perfectly normal, thank you very much. they were the last people you’d expect to be involved in anything strange or mysterious, because they just didn’t hold with such nonsense.',\n",
              " 'mr. dursley was the director of a firm called grunnings, which made drills. he was a big, beefy man with hardly any neck, although he did have a very large mustache. mrs. dursley was thin and blonde and had nearly twice the usual amount of neck, which came in very useful as she spent so much of her time craning over garden fences, spying on the neighbors. the dursley s had a small son called dudley and in their opinion there was no finer boy anywhere.',\n",
              " 'the dursleys had everything they wanted, but they also had a secret, and their greatest fear was that somebody would discover it. they didn’t think they could bear it if anyone found out about the potters. mrs. potter was mrs. dursley’s sister, but they hadn’t',\n",
              " 'the dursleys had everything they wanted, but they also had a secret, and their greatest fear was that somebody would discover it. they didn’t think they could bear it if anyone found out about the potters. mrs. potter was mrs. dursley’s sister, but they hadn’t ',\n",
              " 'met for several years; in fact, mrs. dursley pretended she didn’t have a sister, because her sister and her good-for-nothing husband were as undursleyish as it was possible to be. the dursleys shuddered to think what the neighbors would say if the potters arrived in the street. the dursleys knew that the potters had a small son, too, but they had never even seen him.',\n",
              " 'this boy was another good reason for keeping the potters away; they didn’t want dudley mixing with a child like that.',\n",
              " 'when mr. and mrs. dursley woke up on the dull, gray tuesday our story starts, there was nothing about the cloudy sky outside to suggest that strange and mysterious things would soon be happening all over the country. mr. dursley hummed as he picked out his most boring tie for work, and mrs. dursley gossiped away happily as she wrestled a screaming dudley into his high chair.',\n",
              " 'none of them noticed a large, tawny owl flutter past the window.',\n",
              " 'at half past eight, mr. dursley picked up his briefcase, pecked mrs. dursley on the cheek, and tried to kiss dudley good-bye but missed, because dudley was now having a tantrum and throwing his cereal at the walls. “little tyke,” chortled mr. dursley as he left the house. he got into his car and backed out of number four’s drive.',\n",
              " 'it was on the corner of the street that he noticed the first sign of something peculiar — a cat reading a map. for a second, mr. dursley didn’t realize what he had seen — then he jerked his head around to look again. there was a tabby cat standing on the corner of privet drive, but there wasn’t a map in sight. what could he have been thinking of? it must have been a trick of the light. mr. dursley blinked and stared at ',\n",
              " 'the cat. it stared back. as mr. dursley drove around the corner and up the road, he watched the cat in his mirror. it was now reading the sign that said privet drive — no, looking at the sign; cats couldn’t read maps or signs. mr. dursley gave himself a little shake and put the cat out of his mind. as he drove toward town he thought of nothing except a large order of drills he was hoping to get that day.',\n",
              " 'but on the edge of town, drills were driven out of his mind by something else. as he sat in the usual morning traffic jam, he couldn’t help noticing that there seemed to be a lot of strangely dressed people about. people in cloaks. mr. dursley couldn’t bear people who dressed in funny clothes — the getups you saw on young people! he supposed this was some stupid new fashion. he drummed his fingers on the steering wheel and his eyes fell on a huddle of these weirdos standing quite close by. they were whispering excitedly together. mr. dursley was enraged to see that a couple of them weren’t young at all; why, that man had to be older than he was, and wearing an emerald-green cloak! the nerve of him! but then it struck mr. dursley that this was probably some silly stunt — these people were obviously collecting for something ... yes, that would be it. the traffic moved on and a few minutes later, mr. dursley arrived in the grunnings parking lot, his mind back on drills.',\n",
              " 'mr. dursley always sat with his back to the window in his office on the ninth floor. if he hadn’t, he might have found it harder to concentrate on drills that morning. he didn’t see the owls swooping past in broad daylight, though people down in the street did; they pointed and gazed open-mouthed as owl after owl sped overhead. most of them had never seen an owl even at nighttime. mr. dursley, however, had a perfectly normal, owl-free morning. he yelled at five different people. he made several important telephone ',\n",
              " 'calls and shouted a bit more. he was in a very good mood until lunchtime, when he thought he’d stretch his legs and walk across the road to buy himself a bun from the bakery.',\n",
              " 'he’d forgotten all about the people in cloaks until he passed a group of them next to the baker’s. he eyed them angrily as he passed. he didn’t know why, but they made him uneasy. this bunch were whispering excitedly, too, and he couldn’t see a single collecting tin. it was on his way back past them, clutching a large doughnut in a bag, that he caught a few words of what they were saying.',\n",
              " '“the potters, that’s right, that’s what i heard — ”',\n",
              " '“ — yes, their son, harry — ”',\n",
              " 'mr. dursley stopped dead. fear flooded him. he looked back at the whisperers as if he wanted to say something to them, but thought better of it.',\n",
              " 'he dashed back across the road, hurried up to his office, snapped at his secretary not to disturb him, seized his telephone, and had almost finished dialing his home number when he changed his mind. he put the receiver back down and stroked his mustache, thinking ... no, he was being stupid. potter wasn’t such an unusual name. he was sure there were lots of people called potter who had a son called harry. come to think of it, he wasn’t even sure his nephew was called harry. he’d never even seen the boy. it might have been harvey. or harold. there was no point in worrying mrs. dursley; she always got so upset at any mention of her sister. he didn’t blame her — if he’d had a sister like that ... but all the same, those people in cloaks ...',\n",
              " 'he found it a lot harder to concentrate on drills that afternoon and when he left the building at five o’clock, he was still so worried that he walked straight into someone just outside the door.',\n",
              " '“sorry,” he grunted, as the tiny old man stumbled and almost fell. it was a few seconds before mr. dursley realized that the man was wearing a violet cloak. he didn’t seem at all upset at being almost knocked to the ground. on the contrary, his face split into a wide smile and he said in a squeaky voice that made passersby stare, “don’t be sorry, my dear sir, for nothing could upset me today! rejoice, for you- know-who has gone at last! even muggles like yourself should be celebrating, this happy, happy day!”',\n",
              " 'and the old man hugged mr. dursley around the middle and walked off.',\n",
              " 'mr. dursley stood rooted to the spot. he had been hugged by a complete stranger. he also thought he had been called a muggle, whatever that was. he was rattled. he hurried to his car and set off for home, hoping he was imagining things, which he had never hoped before, because he didn’t approve of imagination.',\n",
              " 'as he pulled into the driveway of number four, the first thing he saw — and it didn’t improve his mood — was the tabby cat he’d spotted that morning. it was now sitting on his garden wall. he was sure it was the same one; it had the same markings around its eyes.',\n",
              " '“shoo!” said mr. dursley loudly.',\n",
              " 'the cat didn’t move. it just gave him a stern look.',\n",
              " 'was this normal cat behavior? mr. dursley wondered. trying to pull himself together, he let himself into the',\n",
              " 'was this normal cat behavior? mr. dursley wondered. trying to pull himself together, he let himself into the ',\n",
              " 'house. he was still determined not to mention anything to his wife.',\n",
              " 'mrs. dursley had had a nice, normal day. she told him over dinner all about mrs. next door’s problems with her daughter and how dudley had learned a new word (“won’t!”). mr. dursley tried to act normally. when dudley had been put to bed, he went into the living room in time to catch the last report on the evening news:',\n",
              " '“and finally, bird-watchers everywhere have reported that the nation’s owls have been behaving very unusually today. although owls normally hunt at night and are hardly ever seen in daylight, there have been hundreds of sightings of these birds flying in every direction since sunrise. experts are unable to explain why the owls have suddenly changed their sleeping pattern.” the newscaster allowed himself a grin. “most mysterious. and now, over to jim mcguffin with the weather. going to be any more showers of owls tonight, jim?”',\n",
              " '“well, ted,” said the weatherman, “i don’t know about that, but it’s not only the owls that have been acting oddly today. viewers as far apart as kent, yorkshire, and dundee have been phoning in to tell me that instead of the rain i promised yesterday, they’ve had a downpour of shooting stars! perhaps people have been celebrating bonfire night early — it’s not until next week, folks! but i can promise a wet night tonight.”',\n",
              " 'mr. dursley sat frozen in his armchair. shooting stars all over britain? owls flying by daylight? mysterious people in cloaks all over the place? and a whisper, a whisper about the potters . . .',\n",
              " 'mrs. dursley came into the living room carrying two cups of tea. it was no good. he’d have to say something to her. he cleared his throat nervously. “er — petunia, dear — you haven’t heard from your sister lately, have you?”',\n",
              " 'as he had expected, mrs. dursley looked shocked and angry. after all, they normally pretended she didn’t have a sister.',\n",
              " '“no,” she said sharply. “why?”',\n",
              " '“funny stuff on the news,” mr. dursley mumbled. “owls . . . shooting stars . . . and there were a lot of funny-looking people in town today ...”',\n",
              " '“so?” snapped mrs. dursley.',\n",
              " '“well, i just thought ... maybe ... it was something to do with ... you know ... her crowd.”',\n",
              " 'mrs. dursley sipped her tea through pursed lips. mr. dursley wondered whether he dared tell her he’d heard the name “potter.” he decided he didn’t dare. instead he said, as casually as he could, “their son — he’d be about dudley’s age now, wouldn’t he?”',\n",
              " '“i suppose so,” said mrs. dursley stiffly.',\n",
              " '“what’s his name again? howard, isn’t it?”',\n",
              " '“harry. nasty, common name, if you ask me.”',\n",
              " '“oh, yes,” said mr. dursley, his heart sinking horribly. “yes, i quite agree.”',\n",
              " 'he didn’t say another word on the subject as they went upstairs to bed. while mrs. dursley was in the bathroom, mr. dursley crept to the bedroom window',\n",
              " 'he didn’t say another word on the subject as they went upstairs to bed. while mrs. dursley was in the bathroom, mr. dursley crept to the bedroom window ',\n",
              " 'and peered down into the front garden. the cat was still there. it was staring down privet drive as though it were waiting for something.',\n",
              " 'was he imagining things? could all this have anything to do with the potters? if it did ... if it got out that they were related to a pair of — well, he didn’t think he could bear it.',\n",
              " 'the dursleys got into bed. mrs. dursley fell asleep quickly but mr. dursley lay awake, turning it all over in his mind. his last, comforting thought before he fell asleep was that even if the potters were involved, there was no reason for them to come near him and mrs. dursley. the potters knew very well what he and petunia thought about them and their kind. ... he couldn’t see how he and petunia could get mixed up in anything that might be going on — he yawned and turned over — it couldn’t affect them. ...',\n",
              " 'how very wrong he was.',\n",
              " 'mr. dursley might have been drifting into an uneasy sleep, but the cat on the wall outside was showing no sign of sleepiness. it was sitting as still as a statue, its eyes fixed unblinkingly on the far corner of privet drive. it didn’t so much as quiver when a car door slammed on the next street, nor when two owls swooped overhead. in fact, it was nearly midnight before the cat moved at all.',\n",
              " 'a man appeared on the corner the cat had been watching, appeared so suddenly and silently you’d have thought he’d just popped out of the ground. the cat’s tail twitched and its eyes narrowed.',\n",
              " 'nothing like this man had ever been seen on privet drive. he was tall, thin, and very old, judging by the silver of his hair and beard, which were both long',\n",
              " 'nothing like this man had ever been seen on privet drive. he was tall, thin, and very old, judging by the silver of his hair and beard, which were both long ',\n",
              " 'enough to tuck into his belt. he was wearing long robes, a purple cloak that swept the ground, and high-heeled, buckled boots. his blue eyes were light, bright, and sparkling behind half-moon spectacles and his nose was very long and crooked, as though it had been broken at least twice. this man’s name was albus dumbledore.',\n",
              " 'albus dumbledore didn’t seem to realize that he had just arrived in a street where everything from his name to his boots was unwelcome. he was busy rummaging in his cloak, looking for something. but he did seem to realize he was being watched, because he looked up suddenly at the cat, which was still staring at him from the other end of the street. for some reason, the sight of the cat seemed to amuse him. he chuckled and muttered, “i should have known.”',\n",
              " 'he found what he was looking for in his inside pocket. it seemed to be a silver cigarette lighter. he flicked it open, held it up in the air, and clicked it. the nearest street lamp went out with a little pop. he clicked it again — the next lamp flickered into darkness. twelve times he clicked the put-outer, until the only lights left on the whole street were two tiny pinpricks in the distance, which were the eyes of the cat watching him. if anyone looked out of their window now, even beady-eyed mrs. dursley, they wouldn’t be able to see anything that was happening down on the pavement. dumbledore slipped the put- outer back inside his cloak and set off down the street toward number four, where he sat down on the wall next to the cat. he didn’t look at it, but after a moment he spoke to it.',\n",
              " '“fancy seeing you here, professor mcgonagall.”',\n",
              " 'he turned to smile at the tabby, but it had gone. instead he was smiling at a rather severe-looking woman who was wearing square glasses exactly the shape of the markings the cat had had around its eyes. she, too, was wearing a cloak, an emerald one. her black hair was drawn into a tight bun. she looked distinctly ruffled.',\n",
              " '“how did you know it was me?” she asked.',\n",
              " '“my dear professor, i’ve never seen a cat sit so stiffly.”',\n",
              " '“you’d be stiff if you’d been sitting on a brick wall all day,” said professor mcgonagall.',\n",
              " '“all day? when you could have been celebrating? i must have passed a dozen feasts and parties on my way here.”',\n",
              " 'professor mcgonagall sniffed angrily.',\n",
              " '“oh yes, everyone’s celebrating, all right,” she said impatiently. “you’d think they’d be a bit more careful, but no — even the muggles have noticed something’s going on. it was on their news.” she jerked her head back at the dursleys’ dark living-room window. “i heard it. flocks of owls ... shooting stars. ... well, they’re not completely stupid. they were bound to notice something. shooting stars down in kent — i’ll bet that was dedalus diggle. he never had much sense.”',\n",
              " '“you can’t blame them,” said dumbledore gently. “we’ve had precious little to celebrate for eleven years.”',\n",
              " '“i know that,” said professor mcgonagall irritably.',\n",
              " '“but that’s no reason to lose our heads. people are being downright careless, out on the streets in broad',\n",
              " '“but that’s no reason to lose our heads. people are being downright careless, out on the streets in broad ',\n",
              " 'daylight, not even dressed in muggle clothes, swapping rumors.”',\n",
              " 'she threw a sharp, sideways glance at dumbledore here, as though hoping he was going to tell her something, but he didn’t, so she went on. “a fine thing it would be if, on the very day you-know-who seems to have disappeared at last, the muggles found out about us all. i suppose he really has gone, dumbledore?”',\n",
              " '“it certainly seems so,” said dumbledore. “we have much to be thankful for. would you care for a lemon drop?”',\n",
              " '“a what?”',\n",
              " '“a lemon drop. they’re a kind of muggle sweet i’m rather fond of.”',\n",
              " '“no, thank you,” said professor mcgonagall coldly, as though she didn’t think this was the moment for lemon drops. “as i say, even if you-know-who has gone — ”',\n",
              " '“my dear professor, surely a sensible person like yourself can call him by his name? all this you- know-who’ nonsense — for eleven years i have been trying to persuade people to call him by his proper name: voldemort.” professor mcgonagall flinched, but dumbledore, who was unsticking two lemon drops, seemed not to notice. “it all gets so confusing if we keep saying you-know-who.’ i have never seen any reason to be frightened of saying voldemort’s name.”',\n",
              " '“i know you haven’t,” said professor mcgonagall, sounding half exasperated, half admiring. “but you’re different. everyone knows you’re the only one you- know- oh, all right, voldemort, was frightened of.”',\n",
              " '“i know you haven’t,” said professor mcgonagall, sounding half exasperated, half admiring. “but you’re different. everyone knows you’re the only one you- know- oh, all right, voldemort, was frightened of.” ',\n",
              " '“you flatter me,” said dumbledore calmly. “voldemort had powers i will never have.”',\n",
              " '“only because you’re too — well — noble to use them.”',\n",
              " '“it’s lucky it’s dark. i haven’t blushed so much since madam pomfrey told me she liked my new earmuffs.”',\n",
              " 'professor mcgonagall shot a sharp look at dumbledore and said, “the owls are nothing next to the rumors that are flying around. you know what everyone’s saying? about why he’s disappeared?',\n",
              " 'about what finally stopped him?”',\n",
              " 'it seemed that professor mcgonagall had reached the point she was most anxious to discuss, the real reason she had been waiting on a cold, hard wall all day, for neither as a cat nor as a woman had she fixed dumbledore with such a piercing stare as she did now. it was plain that whatever “everyone” was saying, she was not going to believe it until dumbledore told her it was true. dumbledore, however, was choosing another lemon drop and did not answer.',\n",
              " '“what they’re saying,” she pressed on, “is that last night voldemort turned up in godric’s hollow. he went to find the potters. the rumor is that lily and james potter are — are — that they’re — dead.”',\n",
              " 'dumbledore bowed his head. professor mcgonagall gasped.',\n",
              " '“lily and james ... i can’t believe it ... i didn’t want to believe it ... oh, albus ...”',\n",
              " 'dumbledore reached out and patted her on the shoulder. “i know ... i know ...” he said heavily.',\n",
              " 'professor mcgonagall’s voice trembled as she went on. “that’s not all. they’re saying he tried to kill the potters’ son, harry. but — he couldn’t. he couldn’t kill that little boy. no one knows why, or how, but they’re saying that when he couldn’t kill harry potter, voldemort’s power somehow broke — and that’s why he’s gone.”',\n",
              " 'dumbledore nodded glumly.',\n",
              " '“it’s — it’s true?” faltered professor mcgonagall. “after all he’s done ... all the people he’s killed ... he couldn’t kill a little boy? it’s just astounding ... of all the things to stop him . . . but how in the name of heaven did harry survive?”',\n",
              " '“we can only guess,” said dumbledore. “we may never know.”',\n",
              " 'professor mcgonagall pulled out a lace handkerchief and dabbed at her eyes beneath her spectacles. dumbledore gave a great sniff as he took a golden watch from his pocket and examined it. it was a very odd watch. it had twelve hands but no numbers; instead, little planets were moving around the edge. it must have made sense to dumbledore, though, because he put it back in his pocket and said, “hagrid’s late. i suppose it was he who told you i’d be here, by the way?”',\n",
              " '“yes,” said professor mcgonagall. “and i don’t suppose you’re going to tell me why you’re here, of all places?”',\n",
              " '“i’ve come to bring harry to his aunt and uncle. they’re the only family he has left now.”',\n",
              " '“you don’t mean — you can’t mean the people who live here?” cried professor mcgonagall, jumping to her',\n",
              " '“you don’t mean — you can’t mean the people who live here?” cried professor mcgonagall, jumping to her ',\n",
              " 'feet and pointing at number four. “dumbledore — you can’t. i’ve been watching them all day. you couldn’t find two people who are less like us. and they’ve got this son — i saw him kicking his mother all the way up the street, screaming for sweets. harry potter come and live here!”',\n",
              " '“it’s the best place for him,” said dumbledore firmly. “his aunt and uncle will be able to explain everything to him when he’s older. i’ve written them a letter.”',\n",
              " '“a letter?” repeated professor mcgonagall faintly, sitting back down on the wall. “really, dumbledore, you think you can explain all this in a letter? these people will never understand him! he’ll be famous — a legend — i wouldn’t be surprised if today was known as harry potter day in the future — there will be books written about harry — every child in our world will know his name!”']"
            ]
          },
          "metadata": {
            "tags": []
          },
          "execution_count": 14
        }
      ]
    },
    {
      "cell_type": "code",
      "metadata": {
        "id": "o0rmNJ43JZrM"
      },
      "source": [
        "words = []"
      ],
      "execution_count": null,
      "outputs": []
    },
    {
      "cell_type": "code",
      "metadata": {
        "id": "LmWiUhaAJZrN"
      },
      "source": [
        "data2 = []\n",
        "\n",
        "for i in d:\n",
        "    a = []\n",
        "    temp = i.strip()\n",
        "    word = ''\n",
        "    j = 0\n",
        "    while j<len(temp):\n",
        "        if temp[j]==' ':\n",
        "            a.append(word.lower())\n",
        "            word = ''\n",
        "        elif temp[j] in punctuation:\n",
        "            if word != '':\n",
        "                a.append(word.lower())\n",
        "            a.append(temp[j])\n",
        "            word = ''\n",
        "            \n",
        "        else:\n",
        "            word += temp[j]\n",
        "        j +=1 \n",
        "    if len(word) != 0:\n",
        "        a.append(word.lower())\n",
        "    if a[-1] != '\\n':\n",
        "        a.append('\\n')\n",
        "    data2.append(a)"
      ],
      "execution_count": null,
      "outputs": []
    },
    {
      "cell_type": "code",
      "metadata": {
        "id": "Rq2QXQ-FJZrN"
      },
      "source": [
        "data = []\n",
        "for i in range(len(data2)):\n",
        "    while data2[i].count('')!=0:\n",
        "        data2[i].remove('')"
      ],
      "execution_count": null,
      "outputs": []
    },
    {
      "cell_type": "code",
      "metadata": {
        "id": "jG-rWJzcJZrO",
        "colab": {
          "base_uri": "https://localhost:8080/"
        },
        "outputId": "40928677-2760-4795-8ee1-a75ef29132ee"
      },
      "source": [
        "len(data2)   # Number of paragraphs."
      ],
      "execution_count": null,
      "outputs": [
        {
          "output_type": "execute_result",
          "data": {
            "text/plain": [
              "3275"
            ]
          },
          "metadata": {
            "tags": []
          },
          "execution_count": 18
        }
      ]
    },
    {
      "cell_type": "code",
      "metadata": {
        "id": "jk5OS3zcJZrO"
      },
      "source": [
        "word_dict2 = {}\n",
        "index = 0\n",
        "for i in data2:\n",
        "    for j in i:\n",
        "        if j not in word_dict2:\n",
        "            word_dict2[j] = index\n",
        "            index+=1\n",
        "rev_word_dict2 = {}\n",
        "for i in word_dict2:\n",
        "    rev_word_dict2[word_dict2[i]] = i"
      ],
      "execution_count": null,
      "outputs": []
    },
    {
      "cell_type": "code",
      "metadata": {
        "id": "Yn0W-L1WJZrP",
        "colab": {
          "base_uri": "https://localhost:8080/"
        },
        "outputId": "d0b2b3eb-f448-40e1-f91a-c7ccfc5144dd"
      },
      "source": [
        "len(word_dict2)   # Number of distinct words."
      ],
      "execution_count": null,
      "outputs": [
        {
          "output_type": "execute_result",
          "data": {
            "text/plain": [
              "5978"
            ]
          },
          "metadata": {
            "tags": []
          },
          "execution_count": 20
        }
      ]
    },
    {
      "cell_type": "markdown",
      "metadata": {
        "id": "WeM16jZ8JZrS"
      },
      "source": [
        "dataset is ready"
      ]
    },
    {
      "cell_type": "markdown",
      "metadata": {
        "id": "HlAOWNaXJZrS"
      },
      "source": [
        "data2 carries all training data . Try printing data2[:10] to get idea"
      ]
    },
    {
      "cell_type": "markdown",
      "metadata": {
        "id": "LmLqWqVAJZrT"
      },
      "source": [
        "word-dict2 is dictionary that assigns words thier respective index"
      ]
    },
    {
      "cell_type": "markdown",
      "metadata": {
        "id": "Idleq8p4JZrT"
      },
      "source": [
        "rev_word_dict2 is dictionary that assigns indexes their respective indexes"
      ]
    },
    {
      "cell_type": "code",
      "metadata": {
        "id": "3yFCxeRDJZrT"
      },
      "source": [
        ""
      ],
      "execution_count": null,
      "outputs": []
    },
    {
      "cell_type": "markdown",
      "metadata": {
        "id": "e3GpEiib9gwp"
      },
      "source": [
        "Following encodings2 function tokenizes paragraphs based on word_dict2"
      ]
    },
    {
      "cell_type": "code",
      "metadata": {
        "id": "OC4TpQFVJZrU"
      },
      "source": [
        "def encodings2(sentence,word_dict2):\n",
        "    vocab_size = len(word_dict2)\n",
        "    input_size = len(sentence)\n",
        "    one_hot_sentence = torch.zeros([input_size-1],dtype=torch.long)\n",
        "    target = torch.zeros([input_size-1],dtype=torch.long)\n",
        "\n",
        "    for i in range(len(sentence)-1):\n",
        "        word = sentence[i]\n",
        "        next_word = sentence[i+1]\n",
        "        one_hot_sentence[i] = word_dict2[word]\n",
        "        target[i] = word_dict2[next_word]\n",
        "    #print(one_hot_sentence.shape,target.shape)\n",
        "    return(one_hot_sentence,target)"
      ],
      "execution_count": null,
      "outputs": []
    },
    {
      "cell_type": "markdown",
      "metadata": {
        "id": "LyXZ0Dis-Axn"
      },
      "source": [
        "In RNN class you can change LSTM layer with RNN or GRU layers"
      ]
    },
    {
      "cell_type": "code",
      "metadata": {
        "id": "R_iTpvrBJZrU"
      },
      "source": [
        "class RNN(nn.Module):\n",
        "    def __init__(self,hidden_size,output_size,vocab_size,embedding,num_layers):\n",
        "        super(RNN,self).__init__()\n",
        "        self.hidden_size = hidden_size\n",
        "        self.output_size = output_size\n",
        "        self.num_layers = num_layers\n",
        "        self.emb = embedding\n",
        "        self.embedding = nn.Embedding(vocab_size,embedding)\n",
        "        self.lstm = nn.LSTM(embedding,hidden_size,batch_first=True,num_layers=num_layers)\n",
        "        self.dropout = nn.Dropout(0.2)\n",
        "        self.fc = nn.Linear(hidden_size,output_size)\n",
        "    def forward(self,x,hidden,cell):\n",
        "        x = self.embedding(x)\n",
        "        x = x.reshape(1,x.shape[0],x.shape[1])\n",
        "        x,(hidden,cell) = self.lstm(x,(hidden,cell))\n",
        "        x = self.dropout(x)\n",
        "        x = self.fc(x)\n",
        "        return(x,(hidden,cell))\n",
        "    def initHidden(self):\n",
        "        return(torch.zeros([self.num_layers,1,self.hidden_size]))"
      ],
      "execution_count": null,
      "outputs": []
    },
    {
      "cell_type": "code",
      "metadata": {
        "id": "PUYBBK4RJZrV"
      },
      "source": [
        "device = 'cuda' if torch.cuda.is_available() else 'cpu'"
      ],
      "execution_count": null,
      "outputs": []
    },
    {
      "cell_type": "code",
      "metadata": {
        "id": "RhfcZQk5JZrW"
      },
      "source": [
        "embedding = 128\n",
        "output_size = vocab_size = len(word_dict2)\n",
        "hidden_size = 256\n",
        "num_layers = 4\n",
        "learning_rate = 0.0006\n",
        "epochs = 25"
      ],
      "execution_count": null,
      "outputs": []
    },
    {
      "cell_type": "code",
      "metadata": {
        "id": "7IvZZQw2JZrW",
        "colab": {
          "base_uri": "https://localhost:8080/"
        },
        "outputId": "d81e2836-0e34-4295-ce1c-8caad68114b3"
      },
      "source": [
        "model2 = RNN(hidden_size,output_size,vocab_size,embedding,num_layers).to(device)\n",
        "optimizer = optim.Adam(model2.parameters(),lr=learning_rate)\n",
        "criterion = nn.CrossEntropyLoss()\n",
        "def count_parameters(model):\n",
        "    return sum(p.numel() for p in model.parameters() if p.requires_grad)\n",
        "\n",
        "print(f'The model has {count_parameters(model2):,} trainable parameters')"
      ],
      "execution_count": null,
      "outputs": [
        {
          "output_type": "stream",
          "text": [
            "The model has 4,275,802 trainable parameters\n"
          ],
          "name": "stdout"
        }
      ]
    },
    {
      "cell_type": "markdown",
      "metadata": {
        "id": "V-VRRi6x-KtP"
      },
      "source": [
        "**Training** \n",
        "\n",
        "\n",
        "---\n",
        " Training takes approx 25 sec per epochs and run for 25 epochs to get best \n",
        "results."
      ]
    },
    {
      "cell_type": "code",
      "metadata": {
        "id": "OW7OuFx8JZrW",
        "colab": {
          "base_uri": "https://localhost:8080/"
        },
        "outputId": "4bec4f6d-9d82-4b01-b9df-6e90234e8f03"
      },
      "source": [
        "loss_lst = []\n",
        "for epoch in range(5):  # epochs\n",
        "    epoch_loss = []\n",
        "    t1 = time.time()\n",
        "    for sentence in data2:\n",
        "        if(len(sentence)==1):\n",
        "            continue\n",
        "        sentence_encoding,target = encodings2(sentence,word_dict2)\n",
        "        sentence_encoding = sentence_encoding.to(device)\n",
        "        target = target.to(device)\n",
        "        #print(sentence_encoding)\n",
        "        #print(target.shape)\n",
        "        hidden = model2.initHidden().to(device)\n",
        "        cell = model2.initHidden().to(device)\n",
        "        #print(cell.shape)\n",
        "        model2.zero_grad()\n",
        "        optimizer.zero_grad()\n",
        "\n",
        "        out,(hidden,cell) = model2(sentence_encoding,hidden,cell)\n",
        "        #print(out.shape)\n",
        "        out = out.reshape(-1,output_size)\n",
        "        loss = criterion(out,target)\n",
        "        epoch_loss.append(loss.item())\n",
        "        loss.backward()\n",
        "        torch.nn.utils.clip_grad_norm_(model2.parameters(), 1)\n",
        "        optimizer.step()\n",
        "    loss_lst += epoch_loss\n",
        "    t2 = time.time()\n",
        "    print(\"mean epoch loss : {}  ||  mean loss till now : {}  ||  time : {}\".format(np.mean(epoch_loss),np.mean(loss_lst),t2-t1))"
      ],
      "execution_count": null,
      "outputs": [
        {
          "output_type": "stream",
          "text": [
            "mean epoch loss : 1.409610965297312  ||  mean loss till now : 1.409610965297312  ||  time : 25.2511465549469\n",
            "mean epoch loss : 1.37460290232283  ||  mean loss till now : 1.392106933810071  ||  time : 25.319092512130737\n",
            "mean epoch loss : 1.333859706474893  ||  mean loss till now : 1.3726911913650115  ||  time : 25.293903589248657\n",
            "mean epoch loss : 1.3002220505569175  ||  mean loss till now : 1.3545739061629882  ||  time : 25.24527859687805\n",
            "mean epoch loss : 1.2684122084095975  ||  mean loss till now : 1.3373415666123099  ||  time : 25.25169062614441\n"
          ],
          "name": "stdout"
        }
      ]
    },
    {
      "cell_type": "code",
      "metadata": {
        "id": "DTZhC2WeJZra",
        "colab": {
          "base_uri": "https://localhost:8080/",
          "height": 282
        },
        "outputId": "a5c029ca-3846-4234-e4ad-81485eb76b2a"
      },
      "source": [
        "\n",
        "plt.plot(loss_lst)"
      ],
      "execution_count": null,
      "outputs": [
        {
          "output_type": "execute_result",
          "data": {
            "text/plain": [
              "[<matplotlib.lines.Line2D at 0x7ff264a66b90>]"
            ]
          },
          "metadata": {
            "tags": []
          },
          "execution_count": 186
        },
        {
          "output_type": "display_data",
          "data": {
            "image/png": "[encoded data removed]",
            "text/plain": [
              "<Figure size 432x288 with 1 Axes>"
            ]
          },
          "metadata": {
            "tags": [],
            "needs_background": "light"
          }
        }
      ]
    },
    {
      "cell_type": "code",
      "metadata": {
        "id": "0hw1R08SJZra"
      },
      "source": [
        "torch.save(model2.state_dict(),'wordRNN_paragraph_lstm2.pth')    # saving the model."
      ],
      "execution_count": null,
      "outputs": []
    },
    {
      "cell_type": "markdown",
      "metadata": {
        "id": "_PVq04BokamH"
      },
      "source": [
        "If you are not interested in training, you can directly load by runnung following command. Kindly write the path of file accordingly."
      ]
    },
    {
      "cell_type": "code",
      "metadata": {
        "colab": {
          "base_uri": "https://localhost:8080/"
        },
        "id": "l7IURcZOqi1F",
        "outputId": "ca063ac2-430a-4231-9644-8cbef754854a"
      },
      "source": [
        "model2.load_state_dict(torch.load('wordRNN_paragraph_lstm2.pth'))\n",
        "# embedding = 128\n",
        "# output_size = vocab_size = len(word_dict2)\n",
        "# hidden_size = 256\n",
        "# num_layers = 4\n",
        "# learning_rate = 0.0006\n",
        "# epochs = 25 \n",
        "# loss = 1.5 best perfomance till now."
      ],
      "execution_count": null,
      "outputs": [
        {
          "output_type": "execute_result",
          "data": {
            "text/plain": [
              "<All keys matched successfully>"
            ]
          },
          "metadata": {
            "tags": []
          },
          "execution_count": 210
        }
      ]
    },
    {
      "cell_type": "markdown",
      "metadata": {
        "id": "8M_3t7GckrnC"
      },
      "source": [
        "**Testing**"
      ]
    },
    {
      "cell_type": "markdown",
      "metadata": {
        "id": "oNgKEdcc9uT1"
      },
      "source": [
        "testing2 function will be called below for generating paragraphs in continuation  with given data"
      ]
    },
    {
      "cell_type": "code",
      "metadata": {
        "id": "nzkG119dJZrb"
      },
      "source": [
        "def testing2(sentence):\n",
        "    sentence = sentence.strip()\n",
        "    sample = sentence\n",
        "    word = sentence.split()[-1]\n",
        "    word_encoding = torch.tensor([word_dict2[word]]).to(device)\n",
        "    \n",
        "\n",
        "    if len(sentence.split()) >= 2:\n",
        "        if len(sentence.split()) == 2:\n",
        "            sentence_encoding = torch.tensor([word_dict2[sentence.split()[0]]]).to(device)\n",
        "        else:\n",
        "            sentence_encoding,target = encodings2(sentence.split()[:-1],word_dict2)\n",
        "        hidden = model2.initHidden().to(device)\n",
        "        cell = model2.initHidden().to(device)\n",
        "        out,(hidden,cell) = model2(sentence_encoding.to(device),hidden,cell)\n",
        "    \n",
        "    else:\n",
        "        hidden = model2.initHidden().to(device)\n",
        "        cell = model2.initHidden().to(device)\n",
        "    i=0\n",
        "    while word != '\\n':    \n",
        "        out,(hidden,cell) = model2(word_encoding,hidden,cell)\n",
        "        #out = torch.zeros()\n",
        "        word_index = out.argmax(axis=-1).item()\n",
        "        word = rev_word_dict2[word_index]\n",
        "        word_encoding = out.argmax(axis=-1).flatten()\n",
        "        sample = \"{} {}\".format(sample,word)\n",
        "        #print(word)\n",
        "        i+=1\n",
        "        if i==80:\n",
        "            break\n",
        "    \n",
        "        \n",
        "    \n",
        "    return(sample,i)"
      ],
      "execution_count": null,
      "outputs": []
    },
    {
      "cell_type": "code",
      "metadata": {
        "id": "v2kNfwvRJZrc"
      },
      "source": [
        ""
      ],
      "execution_count": null,
      "outputs": []
    },
    {
      "cell_type": "code",
      "metadata": {
        "id": "EXa2vEvGJZrd",
        "colab": {
          "base_uri": "https://localhost:8080/"
        },
        "outputId": "37c0c2b3-a99c-4e27-8ae4-5d5236152d01"
      },
      "source": [
        "testing2('“ i tell you , we’re going to win that')"
      ],
      "execution_count": null,
      "outputs": [
        {
          "output_type": "execute_result",
          "data": {
            "text/plain": [
              "('“ i tell you , we’re going to win that in the summer - year waffle , something that he is to die — dumbledore says nothing about it , i’ll therefore nicolas ‘ rude with all with a fifty - points - points points that year , you were steamrollered ! ” \\n',\n",
              " 44)"
            ]
          },
          "metadata": {
            "tags": []
          },
          "execution_count": 188
        }
      ]
    },
    {
      "cell_type": "code",
      "metadata": {
        "colab": {
          "base_uri": "https://localhost:8080/"
        },
        "id": "xTTp3NjDisGr",
        "outputId": "af6fb4a9-9b36-4088-e194-c0c2fc972926"
      },
      "source": [
        "testing2('there was a very good chance they were going to get caught')"
      ],
      "execution_count": null,
      "outputs": [
        {
          "output_type": "execute_result",
          "data": {
            "text/plain": [
              "('there was a very good chance they were going to get caught some point \\\\ ” \\n',\n",
              " 5)"
            ]
          },
          "metadata": {
            "tags": []
          },
          "execution_count": 189
        }
      ]
    },
    {
      "cell_type": "code",
      "metadata": {
        "colab": {
          "base_uri": "https://localhost:8080/"
        },
        "id": "J6Mw6ANGjxra",
        "outputId": "340fdfb2-e0b5-4c69-b666-79f1dd525a09"
      },
      "source": [
        "testing2('they pulled on their bathrobes , picked up their wands ,')"
      ],
      "execution_count": null,
      "outputs": [
        {
          "output_type": "execute_result",
          "data": {
            "text/plain": [
              "('they pulled on their bathrobes , picked up their wands , insisting themselves , and snape into the slytherin table . “ aren’t you ? ” screeched dumbledore , but she passed , but mr . dursley was , mysterious a long bite with broad soon \\n',\n",
              " 36)"
            ]
          },
          "metadata": {
            "tags": []
          },
          "execution_count": 190
        }
      ]
    },
    {
      "cell_type": "code",
      "metadata": {
        "colab": {
          "base_uri": "https://localhost:8080/"
        },
        "id": "3zQDRFdylCoL",
        "outputId": "f909c351-7162-406d-cd75-2ab1068bb55f"
      },
      "source": [
        "testing2('“ i am scared ”')"
      ],
      "execution_count": null,
      "outputs": [
        {
          "output_type": "execute_result",
          "data": {
            "text/plain": [
              "('“ i am scared ” . . . for the soul . “ i can knew it , ” said dumbledore , grinning , grinning down the mom , “ mom , mom . ” \\n',\n",
              " 31)"
            ]
          },
          "metadata": {
            "tags": []
          },
          "execution_count": 191
        }
      ]
    },
    {
      "cell_type": "code",
      "metadata": {
        "colab": {
          "base_uri": "https://localhost:8080/"
        },
        "id": "b5KrTmZ-lsPW",
        "outputId": "cab5675e-e67e-4e69-deba-07e2eb8665be"
      },
      "source": [
        "testing2('hermione took out a list of subjects and titles she had')"
      ],
      "execution_count": null,
      "outputs": [
        {
          "output_type": "execute_result",
          "data": {
            "text/plain": [
              "('hermione took out a list of subjects and titles she had found talking to the ceiling . harry found a quiver again at the barrier , but the whisperers bear the platform as dressed there , too . \\n',\n",
              " 28)"
            ]
          },
          "metadata": {
            "tags": []
          },
          "execution_count": 193
        }
      ]
    },
    {
      "cell_type": "code",
      "metadata": {
        "colab": {
          "base_uri": "https://localhost:8080/"
        },
        "id": "XbjBOXTim9Iu",
        "outputId": "5701ef63-c2e5-46d1-b9dc-3ff71c6fc310"
      },
      "source": [
        "testing2('good')"
      ],
      "execution_count": null,
      "outputs": [
        {
          "output_type": "execute_result",
          "data": {
            "text/plain": [
              "('good day to you . ” \\n', 6)"
            ]
          },
          "metadata": {
            "tags": []
          },
          "execution_count": 194
        }
      ]
    },
    {
      "cell_type": "code",
      "metadata": {
        "id": "8UL-B4ownLZK"
      },
      "source": [
        ""
      ],
      "execution_count": null,
      "outputs": []
    },
    {
      "cell_type": "code",
      "metadata": {
        "id": "Q79fQJLA1dvC"
      },
      "source": [
        ""
      ],
      "execution_count": null,
      "outputs": []
    },
    {
      "cell_type": "markdown",
      "metadata": {
        "id": "3menMGit13iM"
      },
      "source": [
        "After 5 more epochs performance degrades"
      ]
    },
    {
      "cell_type": "code",
      "metadata": {
        "colab": {
          "base_uri": "https://localhost:8080/"
        },
        "id": "ujU2Y03f1d0F",
        "outputId": "dae6a9e4-8ba4-4ea0-c7b5-c75666dfa5ee"
      },
      "source": [
        "testing2('“ i tell you , we’re going to win that')"
      ],
      "execution_count": null,
      "outputs": [
        {
          "output_type": "execute_result",
          "data": {
            "text/plain": [
              "('“ i tell you , we’re going to win that a muggle , ” said ron , grinning around to the fleet . “ i pomfrey i’ll be taken out ter be a window . ” \\n',\n",
              " 27)"
            ]
          },
          "metadata": {
            "tags": []
          },
          "execution_count": 197
        }
      ]
    },
    {
      "cell_type": "code",
      "metadata": {
        "colab": {
          "base_uri": "https://localhost:8080/"
        },
        "id": "NFbJIJto1d2c",
        "outputId": "f7d55e1d-9d5e-4fc5-cd61-2e9d1cd9fc12"
      },
      "source": [
        "testing2('there was a very good chance they were going to get caught')"
      ],
      "execution_count": null,
      "outputs": [
        {
          "output_type": "execute_result",
          "data": {
            "text/plain": [
              "('there was a very good chance they were going to get caught ron outside , because it was still talking about down yet . \\n',\n",
              " 13)"
            ]
          },
          "metadata": {
            "tags": []
          },
          "execution_count": 198
        }
      ]
    },
    {
      "cell_type": "code",
      "metadata": {
        "colab": {
          "base_uri": "https://localhost:8080/"
        },
        "id": "YDOSZMG01d43",
        "outputId": "19df09da-08ee-49ac-cd2c-e68ae0a10884"
      },
      "source": [
        "testing2('they pulled on their bathrobes , picked up their wands ,')"
      ],
      "execution_count": null,
      "outputs": [
        {
          "output_type": "execute_result",
          "data": {
            "text/plain": [
              "('they pulled on their bathrobes , picked up their wands , and coats - faced ; cloudy down into the window , ‘ the table were scarlet and a terrible hangings like up . at one seat serpent facedown into a table , invisible flames quirrell lost . “ useful owls . ” \\n',\n",
              " 43)"
            ]
          },
          "metadata": {
            "tags": []
          },
          "execution_count": 199
        }
      ]
    },
    {
      "cell_type": "code",
      "metadata": {
        "colab": {
          "base_uri": "https://localhost:8080/"
        },
        "id": "XCdYogLN1d7r",
        "outputId": "deb8c073-0f71-41a8-9a83-4e1af041c977"
      },
      "source": [
        "testing2('“ i am scared ”')"
      ],
      "execution_count": null,
      "outputs": [
        {
          "output_type": "execute_result",
          "data": {
            "text/plain": [
              "('“ i am scared ” . . . for the stone , i award gryffindor house fifty points . ” \\n',\n",
              " 16)"
            ]
          },
          "metadata": {
            "tags": []
          },
          "execution_count": 200
        }
      ]
    },
    {
      "cell_type": "code",
      "metadata": {
        "colab": {
          "base_uri": "https://localhost:8080/"
        },
        "id": "_5jHOrly1mhb",
        "outputId": "203ae2dd-1266-4827-83f0-efb5e4332848"
      },
      "source": [
        "testing2('hermione took out a list of subjects and titles she had')"
      ],
      "execution_count": null,
      "outputs": [
        {
          "output_type": "execute_result",
          "data": {
            "text/plain": [
              "('hermione took out a list of subjects and titles she had still look forward down to a muggle , letting slytherin , he felt snape a thick points off to contact as the fun of magic , because she said resting , “ that’s forget to say — i award ron change , dear — to be four happy . . . . ” \\n',\n",
              " 54)"
            ]
          },
          "metadata": {
            "tags": []
          },
          "execution_count": 201
        }
      ]
    },
    {
      "cell_type": "code",
      "metadata": {
        "colab": {
          "base_uri": "https://localhost:8080/"
        },
        "id": "3RYD-TRp1oNQ",
        "outputId": "fc980ef0-1403-4a13-ea7a-aa8bee190582"
      },
      "source": [
        "testing2('good')"
      ],
      "execution_count": null,
      "outputs": [
        {
          "output_type": "execute_result",
          "data": {
            "text/plain": [
              "('good day to you . ” \\n', 6)"
            ]
          },
          "metadata": {
            "tags": []
          },
          "execution_count": 202
        }
      ]
    }
  ]
}