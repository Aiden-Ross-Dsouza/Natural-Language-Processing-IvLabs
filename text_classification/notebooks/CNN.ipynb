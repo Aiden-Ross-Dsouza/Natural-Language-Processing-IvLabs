{
  "cells": [
    {
      "cell_type": "markdown",
      "metadata": {
        "id": "-B_MqscXWGI4"
      },
      "source": [
        "# Installing Packages"
      ]
    },
    {
      "cell_type": "code",
      "execution_count": null,
      "metadata": {},
      "outputs": [],
      "source": [
        "!pip install -U torchtext==0.6.0"
      ]
    },
    {
      "cell_type": "markdown",
      "metadata": {
        "id": "bbMNpP192mb2"
      },
      "source": [
        "# Importing Required Libraries"
      ]
    },
    {
      "cell_type": "code",
      "execution_count": 1,
      "metadata": {
        "id": "slw2Y5t3taWQ"
      },
      "outputs": [],
      "source": [
        "import torch\n",
        "from torchtext import data, datasets\n",
        "import torch.nn as nn\n",
        "import torch.optim as optim\n",
        "from torchtext.data import Field, LabelField, BucketIterator\n",
        "import torch.nn.functional as F\n",
        "\n",
        "import random\n",
        "\n",
        "import matplotlib.pyplot as plt"
      ]
    },
    {
      "cell_type": "code",
      "execution_count": 2,
      "metadata": {
        "colab": {
          "base_uri": "https://localhost:8080/"
        },
        "id": "7kAMYpKr2tJV",
        "outputId": "3ecc3577-55f7-4711-b775-7f5471892d0d"
      },
      "outputs": [
        {
          "name": "stdout",
          "output_type": "stream",
          "text": [
            "Notebook is running on cuda\n"
          ]
        }
      ],
      "source": [
        "device = torch.device(\"cuda\" if torch.cuda.is_available() else \"cpu\")\n",
        "print(\"Notebook is running on\", device)"
      ]
    },
    {
      "cell_type": "markdown",
      "metadata": {
        "id": "8ZOcRV2w2vpH"
      },
      "source": [
        "Fixing SEED for reproducibility of results"
      ]
    },
    {
      "cell_type": "code",
      "execution_count": 3,
      "metadata": {
        "id": "N99mW-8XtnWr"
      },
      "outputs": [],
      "source": [
        "SEED = 4444\n",
        "\n",
        "random.seed(SEED)\n",
        "torch.manual_seed(SEED)\n",
        "torch.cuda.manual_seed(SEED)\n",
        "torch.backends.cudnn.deterministic = True"
      ]
    },
    {
      "cell_type": "code",
      "execution_count": 4,
      "metadata": {
        "id": "O5NaQke7touV"
      },
      "outputs": [],
      "source": [
        "FIELD = Field(tokenize = 'spacy', tokenizer_language = 'en_core_web_sm')\n",
        "\n",
        "LABEL = LabelField()"
      ]
    },
    {
      "cell_type": "markdown",
      "metadata": {
        "id": "RWXCd0V73YK7"
      },
      "source": [
        "# Splitting the data"
      ]
    },
    {
      "cell_type": "code",
      "execution_count": 5,
      "metadata": {
        "colab": {
          "base_uri": "https://localhost:8080/"
        },
        "id": "79ih2w2sttNq",
        "outputId": "c4358b46-cc35-4382-a74c-bdc0118e067b"
      },
      "outputs": [],
      "source": [
        "train_data, test_data = datasets.TREC.splits(FIELD, LABEL, fine_grained=False)"
      ]
    },
    {
      "cell_type": "code",
      "execution_count": 6,
      "metadata": {
        "id": "nxpdowpRtwNQ"
      },
      "outputs": [],
      "source": [
        "train_data, valid_data = train_data.split(random_state = random.seed(SEED))"
      ]
    },
    {
      "cell_type": "code",
      "execution_count": 7,
      "metadata": {
        "colab": {
          "base_uri": "https://localhost:8080/"
        },
        "id": "BSWt_wDwtzLt",
        "outputId": "548f8358-857e-454d-c80a-f8e320606108"
      },
      "outputs": [
        {
          "name": "stdout",
          "output_type": "stream",
          "text": [
            "Number of training examples: 3816\n",
            "Number of validation examples: 1636\n",
            "Number of testing examples: 500\n"
          ]
        }
      ],
      "source": [
        "print(f'Number of training examples: {len(train_data)}')\n",
        "print(f'Number of validation examples: {len(valid_data)}')\n",
        "print(f'Number of testing examples: {len(test_data)}')"
      ]
    },
    {
      "cell_type": "code",
      "execution_count": 8,
      "metadata": {
        "colab": {
          "base_uri": "https://localhost:8080/"
        },
        "id": "trFz-SmNt0fO",
        "outputId": "4d2dcf36-d394-40f5-c1b1-42bb09e00c6b"
      },
      "outputs": [],
      "source": [
        "MAX_VOCAB_SIZE = 25000 # excluding <pad> and <unk> token\n",
        "FIELD.build_vocab(train_data, max_size = MAX_VOCAB_SIZE, vectors=\"glove.6B.100d\", unk_init = torch.Tensor.normal_)\n",
        "LABEL.build_vocab(train_data)"
      ]
    },
    {
      "cell_type": "code",
      "execution_count": 9,
      "metadata": {
        "colab": {
          "base_uri": "https://localhost:8080/"
        },
        "id": "PQUUTTgat5hg",
        "outputId": "3703b174-a45b-4bb2-b5a7-65c7d123899e"
      },
      "outputs": [
        {
          "name": "stdout",
          "output_type": "stream",
          "text": [
            "Unique tokens in FIELD vocabulary: 7518\n",
            "Unique tokens in LABEL vocabulary: 6\n"
          ]
        }
      ],
      "source": [
        "print(f\"Unique tokens in FIELD vocabulary: {len(FIELD.vocab)}\")\n",
        "print(f\"Unique tokens in LABEL vocabulary: {len(LABEL.vocab)}\")"
      ]
    },
    {
      "cell_type": "markdown",
      "metadata": {
        "id": "BIZMVoIA4S2K"
      },
      "source": [
        "# Model Definition"
      ]
    },
    {
      "cell_type": "code",
      "execution_count": 10,
      "metadata": {
        "id": "egyx2GtzuEdP"
      },
      "outputs": [],
      "source": [
        "class CNN(nn.Module):\n",
        "    def __init__(self, vocab_size, emb_dim, num_filters, filter_sizes, output_dim, pad_idx):\n",
        "        super().__init__()\n",
        "        self.embedding = nn.Embedding(vocab_size, emb_dim)\n",
        "        self.convs = nn.ModuleList([nn.Conv2d(in_channels = 1, \n",
        "                                              out_channels = num_filters, \n",
        "                                              kernel_size = (fs, emb_dim)) \n",
        "                                    for fs in filter_sizes])\n",
        "        self.fc = nn.Linear(len(filter_sizes) * num_filters, output_dim)\n",
        "        self.dropout = nn.Dropout(0.5)\n",
        "        \n",
        "    def forward(self, text):                                                          # [input] = [seq_len, batch_size]\n",
        "        text = text.permute(1, 0)                                                     # [input] = [batch_size, seq_len]\n",
        "        embedded = self.embedding(text)                                               # [embedded] = [batch_size, seq_len, emb_dim]\n",
        "        embedded = embedded.unsqueeze(1)                                              # [embedded] = [batch_size, 1, seq_len, emb_dim]\n",
        "        conved = [F.relu(conv(embedded)).squeeze(3) for conv in self.convs]           # [conv] = [batch_size, num_filters, seq_len - filter_sizes[n]]\n",
        "        pooled = [F.max_pool1d(conv, conv.shape[2]).squeeze(2) for conv in conved]    # [pooled] = [batch_size, num_filters]\n",
        "        output = self.dropout(torch.cat(pooled, dim = 1))                             # [output] = [batch_size, num_filters * len(filter_sizes)]\n",
        "        return self.fc(output)"
      ]
    },
    {
      "cell_type": "code",
      "execution_count": 11,
      "metadata": {
        "id": "2PDdgoXiufHr"
      },
      "outputs": [],
      "source": [
        "def batch_accuracy(preds, y):\n",
        "    top_pred = preds.argmax(1, keepdim = True)\n",
        "    correct = top_pred.eq(y.view_as(top_pred)).sum()\n",
        "    acc = correct.float() / y.shape[0]\n",
        "    return acc"
      ]
    },
    {
      "cell_type": "markdown",
      "metadata": {
        "id": "OpnqXXA1uvuD"
      },
      "source": [
        "# Training and Evaluation Functions"
      ]
    },
    {
      "cell_type": "code",
      "execution_count": 12,
      "metadata": {
        "id": "gKSFO3hRutOc"
      },
      "outputs": [],
      "source": [
        "def Train(model, iterator, optimizer, criterion): \n",
        "    epoch_loss = 0\n",
        "    epoch_acc = 0\n",
        "    model.train()\n",
        "    for batch in iterator:\n",
        "        optimizer.zero_grad()\n",
        "        inp = batch.text\n",
        "        label = batch.label       \n",
        "        predictions = model(inp)\n",
        "        loss = criterion(predictions, label)\n",
        "        acc = batch_accuracy(predictions, label)\n",
        "        loss.backward()\n",
        "        optimizer.step()\n",
        "        epoch_loss += loss.item()\n",
        "        epoch_acc += acc.item()\n",
        "    return epoch_loss / len(iterator), epoch_acc / len(iterator)"
      ]
    },
    {
      "cell_type": "code",
      "execution_count": 13,
      "metadata": {
        "id": "YqTp93Aruwoe"
      },
      "outputs": [],
      "source": [
        "def Evaluate(model, iterator, criterion):\n",
        "    epoch_loss = 0\n",
        "    epoch_acc = 0\n",
        "    model.eval()\n",
        "    with torch.no_grad():\n",
        "        for batch in iterator:\n",
        "            inp = batch.text\n",
        "            label = batch.label   \n",
        "            predictions = model(inp).squeeze(1)\n",
        "            loss = criterion(predictions, label)\n",
        "            acc = batch_accuracy(predictions, label)\n",
        "            epoch_loss += loss.item()\n",
        "            epoch_acc += acc.item()\n",
        "    return epoch_loss / len(iterator), epoch_acc / len(iterator)"
      ]
    },
    {
      "cell_type": "markdown",
      "metadata": {
        "id": "v1_3yX3-42vO"
      },
      "source": [
        "# Data Iterators, Hyperparameters and Model Initialization"
      ]
    },
    {
      "cell_type": "code",
      "execution_count": 14,
      "metadata": {
        "id": "yIHX-jbs5ClS"
      },
      "outputs": [],
      "source": [
        "BATCH_SIZE = 64\n",
        "\n",
        "train_iterator, valid_iterator, test_iterator = data.BucketIterator.splits((train_data, valid_data, test_data), batch_size = BATCH_SIZE, device = device)"
      ]
    },
    {
      "cell_type": "code",
      "execution_count": 15,
      "metadata": {
        "id": "o6c7ld9wuYh4"
      },
      "outputs": [],
      "source": [
        "VOCAB_SIZE = len(FIELD.vocab) # dimension of one-hot vector / vocabulary\n",
        "EMB_DIM = 100 # dimensions of word embeddings\n",
        "NUM_FILTERS = 100 # number of filters in CNN\n",
        "FILTER_SIZES = [2,3,4] # filter sizes of CNN\n",
        "OUTPUT_DIM = len(LABEL.vocab) # dimensions of output\n",
        "DROPOUT = 0.5 \n",
        "\n",
        "NUM_EPOCHS = 10\n",
        "LR = 0.001"
      ]
    },
    {
      "cell_type": "code",
      "execution_count": 16,
      "metadata": {
        "id": "j5U3vbZcwEgr"
      },
      "outputs": [],
      "source": [
        "model = CNN(VOCAB_SIZE, EMB_DIM, NUM_FILTERS, FILTER_SIZES, OUTPUT_DIM, FIELD.vocab.stoi[FIELD.pad_token])"
      ]
    },
    {
      "cell_type": "code",
      "execution_count": 17,
      "metadata": {
        "id": "ziglTF1D5voa"
      },
      "outputs": [],
      "source": [
        "optimizer = optim.Adam(model.parameters(), lr=LR)\n",
        "\n",
        "criterion = nn.CrossEntropyLoss()\n",
        "\n",
        "model = model.to(device)\n",
        "criterion = criterion.to(device)"
      ]
    },
    {
      "cell_type": "code",
      "execution_count": 18,
      "metadata": {
        "colab": {
          "base_uri": "https://localhost:8080/"
        },
        "id": "X7Mm3BnuuZ2F",
        "outputId": "e195ceb6-9a27-4359-8aae-c8777a5f7b1a"
      },
      "outputs": [
        {
          "name": "stdout",
          "output_type": "stream",
          "text": [
            "The model has 843,906 trainable parameters\n"
          ]
        }
      ],
      "source": [
        "def count_parameters(model):\n",
        "    return sum(p.numel() for p in model.parameters() if p.requires_grad)\n",
        "\n",
        "print(f'The model has {count_parameters(model):,} trainable parameters')"
      ]
    },
    {
      "cell_type": "markdown",
      "metadata": {
        "id": "99qvK1qw5aAV"
      },
      "source": [
        "# Training"
      ]
    },
    {
      "cell_type": "code",
      "execution_count": 19,
      "metadata": {
        "id": "WT1J71IjuySn"
      },
      "outputs": [],
      "source": [
        "import time\n",
        "\n",
        "def Epoch_time(start_time, end_time):\n",
        "    elapsed_time = end_time - start_time\n",
        "    elapsed_mins = int(elapsed_time / 60)\n",
        "    elapsed_secs = int(elapsed_time - (elapsed_mins * 60))\n",
        "    return elapsed_mins, elapsed_secs"
      ]
    },
    {
      "cell_type": "code",
      "execution_count": 21,
      "metadata": {
        "colab": {
          "base_uri": "https://localhost:8080/"
        },
        "id": "TKDOAVH5uz2s",
        "outputId": "846b4443-f6d6-4519-fe6d-a70d4911f35d"
      },
      "outputs": [
        {
          "name": "stdout",
          "output_type": "stream",
          "text": [
            "Learning Rate: 0.001, Number of Filters: 100, Filter Sizes: [2, 3, 4]\n",
            "Time taken for epoch 1: 0m 17s\n",
            "Training Loss: 1.4261 | Validation Loss: 1.0630\n",
            "Training Accuracy: 43.17 %| Validation Accuracy: 62.21 %\n",
            "Time taken for epoch 2: 0m 14s\n",
            "Training Loss: 0.9428 | Validation Loss: 0.8337\n",
            "Training Accuracy: 64.54 %| Validation Accuracy: 70.10 %\n",
            "Time taken for epoch 3: 0m 14s\n",
            "Training Loss: 0.7243 | Validation Loss: 0.7207\n",
            "Training Accuracy: 73.87 %| Validation Accuracy: 74.49 %\n",
            "Time taken for epoch 4: 0m 14s\n",
            "Training Loss: 0.5866 | Validation Loss: 0.6712\n",
            "Training Accuracy: 79.45 %| Validation Accuracy: 74.23 %\n",
            "Time taken for epoch 5: 0m 15s\n",
            "Training Loss: 0.4986 | Validation Loss: 0.6235\n",
            "Training Accuracy: 83.14 %| Validation Accuracy: 76.77 %\n",
            "Time taken for epoch 6: 0m 14s\n",
            "Training Loss: 0.3997 | Validation Loss: 0.5953\n",
            "Training Accuracy: 87.04 %| Validation Accuracy: 77.98 %\n",
            "Time taken for epoch 7: 0m 14s\n",
            "Training Loss: 0.3328 | Validation Loss: 0.5735\n",
            "Training Accuracy: 89.69 %| Validation Accuracy: 78.20 %\n",
            "Time taken for epoch 8: 0m 14s\n",
            "Training Loss: 0.2581 | Validation Loss: 0.5676\n",
            "Training Accuracy: 92.07 %| Validation Accuracy: 79.17 %\n",
            "Time taken for epoch 9: 0m 15s\n",
            "Training Loss: 0.2212 | Validation Loss: 0.5526\n",
            "Training Accuracy: 93.41 %| Validation Accuracy: 79.92 %\n",
            "Time taken for epoch 10: 0m 14s\n",
            "Training Loss: 0.1761 | Validation Loss: 0.5503\n",
            "Training Accuracy: 94.95 %| Validation Accuracy: 79.89 %\n",
            "Model with Train Loss 0.1761, Validation Loss: 0.5503 was saved.\n"
          ]
        }
      ],
      "source": [
        "print(f\"Learning Rate: {LR}, Number of Filters: {NUM_FILTERS}, Filter Sizes: {FILTER_SIZES}\")\n",
        "train_losses = []\n",
        "valid_losses = []\n",
        "min_losses = [float('inf'), float('inf')]\n",
        "\n",
        "start_time = time.time()\n",
        "for epoch in range(1, NUM_EPOCHS+1):\n",
        "    \n",
        "    train_loss, train_acc = Train(model, train_iterator, optimizer, criterion)\n",
        "    train_losses.append(train_loss)\n",
        "    valid_loss, valid_acc = Evaluate(model, valid_iterator, criterion)\n",
        "    valid_losses.append(valid_loss)\n",
        "\n",
        "    if valid_loss < min_losses[0]:\n",
        "        min_losses[0] = valid_loss\n",
        "        min_losses[1] = train_loss\n",
        "        torch.save(model.state_dict(), 'CNN.pt')\n",
        "\n",
        "    elapsed_time = Epoch_time(start_time, time.time())\n",
        "    print(f\"Time taken for epoch {epoch}: {elapsed_time[0]}m {elapsed_time[1]}s\")\n",
        "    start_time = time.time()\n",
        "    print(f\"Training Loss: {train_loss:.4f} | Validation Loss: {valid_loss:.4f}\")\n",
        "    print(f\"Training Accuracy: {train_acc*100:.2f} %| Validation Accuracy: {valid_acc*100:.2f} %\")\n",
        "\n",
        "print(f\"Model with Train Loss {min_losses[1]:.4f}, Validation Loss: {min_losses[0]:.4f} was saved.\")"
      ]
    },
    {
      "cell_type": "code",
      "execution_count": 27,
      "metadata": {
        "id": "OkjBpvPt8BmJ"
      },
      "outputs": [
        {
          "data": {
            "image/png": "[encoded data removed]",
            "text/plain": [
              "<Figure size 432x288 with 1 Axes>"
            ]
          },
          "metadata": {
            "needs_background": "light"
          },
          "output_type": "display_data"
        }
      ],
      "source": [
        "plt.title(\"Text Classification (CNN): Learning Curves\")\n",
        "plt.xlabel(\"Number of Epochs\")\n",
        "plt.ylabel(\"Cross Entropy Loss\")\n",
        "plt.plot(train_losses, label = \"Training Loss\")\n",
        "plt.plot(valid_losses, label= \"Validation Loss\")\n",
        "plt.legend()\n",
        "plt.show()"
      ]
    },
    {
      "cell_type": "markdown",
      "metadata": {},
      "source": [
        "# Testing"
      ]
    },
    {
      "cell_type": "code",
      "execution_count": 23,
      "metadata": {
        "id": "YLpKGbjyu2OK"
      },
      "outputs": [
        {
          "name": "stdout",
          "output_type": "stream",
          "text": [
            "Test Loss: 0.3947\n",
            "Test Accuracy: 84.90%\n"
          ]
        }
      ],
      "source": [
        "model.load_state_dict(torch.load('CNN.pt'))\n",
        "\n",
        "test_loss, test_acc = Evaluate(model, test_iterator, criterion)\n",
        "\n",
        "print(f'Test Loss: {test_loss:.4f}')\n",
        "print(f'Test Accuracy: {test_acc*100:.2f}%')"
      ]
    },
    {
      "cell_type": "markdown",
      "metadata": {
        "id": "o3vZ2NNn8sM6"
      },
      "source": [
        "# Sampling"
      ]
    },
    {
      "cell_type": "code",
      "execution_count": 24,
      "metadata": {
        "id": "e0hc5XtDsqIH"
      },
      "outputs": [],
      "source": [
        "import spacy\n",
        "nlp = spacy.load('en_core_web_sm')\n",
        "\n",
        "def predict_class(model, text, min_len = 4):\n",
        "    model.eval()\n",
        "    tokenized = [tok.text for tok in nlp.tokenizer(text)]\n",
        "    if len(tokenized) < min_len:\n",
        "        tokenized += ['<pad>'] * (min_len - len(tokenized))\n",
        "    indexed = [FIELD.vocab.stoi[t] for t in tokenized]\n",
        "    tensor = torch.LongTensor(indexed).to(device)\n",
        "    tensor = tensor.unsqueeze(1)\n",
        "    preds = model(tensor)\n",
        "    max_preds = preds.argmax(dim = 1)\n",
        "    return max_preds.item()"
      ]
    },
    {
      "cell_type": "code",
      "execution_count": 42,
      "metadata": {},
      "outputs": [
        {
          "name": "stdout",
          "output_type": "stream",
          "text": [
            "['ENTY', 'HUM', 'DESC', 'NUM', 'LOC', 'ABBR']\n"
          ]
        }
      ],
      "source": [
        "print(LABEL.vocab.itos)"
      ]
    },
    {
      "cell_type": "code",
      "execution_count": 52,
      "metadata": {
        "id": "vc0zO3gTws-d"
      },
      "outputs": [
        {
          "name": "stdout",
          "output_type": "stream",
          "text": [
            "Predicted class is: ABBR\n"
          ]
        }
      ],
      "source": [
        "pred_class = predict_class(model, \"What does CNN stand for?\")\n",
        "print(f'Predicted class is: {LABEL.vocab.itos[pred_class]}')"
      ]
    },
    {
      "cell_type": "code",
      "execution_count": 53,
      "metadata": {
        "id": "Umdey8pIw8yp"
      },
      "outputs": [
        {
          "name": "stdout",
          "output_type": "stream",
          "text": [
            "Predicted class is: NUM\n"
          ]
        }
      ],
      "source": [
        "pred_class = predict_class(model, \"How long did it take to train an epoch?\")\n",
        "print(f'Predicted class is: {LABEL.vocab.itos[pred_class]}')"
      ]
    },
    {
      "cell_type": "code",
      "execution_count": 57,
      "metadata": {
        "id": "8rbQ8FYRw-TM"
      },
      "outputs": [
        {
          "name": "stdout",
          "output_type": "stream",
          "text": [
            "Predicted class is: DESC\n"
          ]
        }
      ],
      "source": [
        "pred_class = predict_class(model, \"What is the model of GPU used?\")\n",
        "print(f'Predicted class is: {LABEL.vocab.itos[pred_class]}')"
      ]
    }
  ],
  "metadata": {
    "accelerator": "GPU",
    "colab": {
      "collapsed_sections": [],
      "name": "CNN.ipynb",
      "provenance": []
    },
    "kernelspec": {
      "display_name": "Python 3",
      "name": "python3"
    },
    "language_info": {
      "codemirror_mode": {
        "name": "ipython",
        "version": 3
      },
      "file_extension": ".py",
      "mimetype": "text/x-python",
      "name": "python",
      "nbconvert_exporter": "python",
      "pygments_lexer": "ipython3",
      "version": "3.9.7"
    }
  },
  "nbformat": 4,
  "nbformat_minor": 0
}
