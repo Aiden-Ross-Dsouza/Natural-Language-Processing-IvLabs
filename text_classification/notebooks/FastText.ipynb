{
  "cells": [
    {
      "cell_type": "markdown",
      "metadata": {},
      "source": [
        "# Installing Packages"
      ]
    },
    {
      "cell_type": "code",
      "execution_count": null,
      "metadata": {},
      "outputs": [],
      "source": [
        "!pip install -U torchtext==0.6.0"
      ]
    },
    {
      "cell_type": "markdown",
      "metadata": {
        "id": "bbMNpP192mb2"
      },
      "source": [
        "# Importing Required Libraries"
      ]
    },
    {
      "cell_type": "code",
      "execution_count": 2,
      "metadata": {
        "id": "slw2Y5t3taWQ"
      },
      "outputs": [],
      "source": [
        "import torch\n",
        "from torchtext import data, datasets\n",
        "import torch.nn as nn\n",
        "import torch.optim as optim\n",
        "import torch.nn.functional as F\n",
        "from torchtext.data import Field, LabelField, BucketIterator\n",
        "\n",
        "import random\n",
        "\n",
        "import matplotlib.pyplot as plt"
      ]
    },
    {
      "cell_type": "code",
      "execution_count": 3,
      "metadata": {
        "colab": {
          "base_uri": "https://localhost:8080/"
        },
        "id": "7kAMYpKr2tJV",
        "outputId": "5d7e7127-e114-496d-c1f0-08a57498694c"
      },
      "outputs": [
        {
          "name": "stdout",
          "output_type": "stream",
          "text": [
            "Notebook is running on cuda\n"
          ]
        }
      ],
      "source": [
        "device = torch.device(\"cuda\" if torch.cuda.is_available() else \"cpu\")\n",
        "print(\"Notebook is running on\", device)"
      ]
    },
    {
      "cell_type": "markdown",
      "metadata": {
        "id": "8ZOcRV2w2vpH"
      },
      "source": [
        "Fixing SEED for reproducibility of results"
      ]
    },
    {
      "cell_type": "code",
      "execution_count": 4,
      "metadata": {
        "id": "N99mW-8XtnWr"
      },
      "outputs": [],
      "source": [
        "SEED = 4444\n",
        "\n",
        "random.seed(SEED)\n",
        "torch.manual_seed(SEED)\n",
        "torch.cuda.manual_seed(SEED)\n",
        "torch.backends.cudnn.deterministic = True"
      ]
    },
    {
      "cell_type": "markdown",
      "metadata": {
        "id": "sMxBvhY8y0wq"
      },
      "source": [
        "Generate NGRAMS for FastText"
      ]
    },
    {
      "cell_type": "code",
      "execution_count": 5,
      "metadata": {
        "id": "jk054NHay0fN"
      },
      "outputs": [],
      "source": [
        "def generate_n_grams(x, n=2):\n",
        "    n_grams = set(zip(*[x[i:] for i in range(n)]))\n",
        "    for n_gram in n_grams:\n",
        "        x.append(' '.join(n_gram))\n",
        "    return list(set(x))"
      ]
    },
    {
      "cell_type": "code",
      "execution_count": 6,
      "metadata": {
        "id": "O5NaQke7touV"
      },
      "outputs": [],
      "source": [
        "FIELD = Field(tokenize = 'spacy',tokenizer_language = 'en_core_web_sm', preprocessing = generate_n_grams)\n",
        "\n",
        "LABEL = LabelField(dtype = torch.float)"
      ]
    },
    {
      "cell_type": "markdown",
      "metadata": {
        "id": "RWXCd0V73YK7"
      },
      "source": [
        "# Splitting the data"
      ]
    },
    {
      "cell_type": "code",
      "execution_count": 7,
      "metadata": {
        "colab": {
          "base_uri": "https://localhost:8080/"
        },
        "id": "79ih2w2sttNq",
        "outputId": "b33d07a7-3983-4b49-a81d-db6f2ca0b908"
      },
      "outputs": [],
      "source": [
        "train_data, test_data = datasets.IMDB.splits(FIELD, LABEL)"
      ]
    },
    {
      "cell_type": "code",
      "execution_count": 8,
      "metadata": {
        "id": "nxpdowpRtwNQ"
      },
      "outputs": [],
      "source": [
        "train_data, valid_data = train_data.split(random_state = random.seed(SEED))"
      ]
    },
    {
      "cell_type": "code",
      "execution_count": 9,
      "metadata": {
        "colab": {
          "base_uri": "https://localhost:8080/"
        },
        "id": "BSWt_wDwtzLt",
        "outputId": "59e4e52f-b3d7-4300-ef8f-876519cd0092"
      },
      "outputs": [
        {
          "name": "stdout",
          "output_type": "stream",
          "text": [
            "Number of training examples: 17500\n",
            "Number of validation examples: 7500\n",
            "Number of testing examples: 25000\n"
          ]
        }
      ],
      "source": [
        "print(f'Number of training examples: {len(train_data)}')\n",
        "print(f'Number of validation examples: {len(valid_data)}')\n",
        "print(f'Number of testing examples: {len(test_data)}')"
      ]
    },
    {
      "cell_type": "code",
      "execution_count": 10,
      "metadata": {
        "colab": {
          "base_uri": "https://localhost:8080/"
        },
        "id": "trFz-SmNt0fO",
        "outputId": "6535fa21-210f-49a5-c8ae-01e80e80b092"
      },
      "outputs": [],
      "source": [
        "MAX_VOCAB_SIZE = 25000 # excluding <pad> and <unk> token\n",
        "\n",
        "FIELD.build_vocab(train_data, max_size = MAX_VOCAB_SIZE, vectors=\"glove.6B.100d\", unk_init = torch.Tensor.normal_)\n",
        "LABEL.build_vocab(train_data)"
      ]
    },
    {
      "cell_type": "code",
      "execution_count": 11,
      "metadata": {
        "colab": {
          "base_uri": "https://localhost:8080/"
        },
        "id": "PQUUTTgat5hg",
        "outputId": "965f4522-3b08-4866-bb7d-f0a32c2c5649"
      },
      "outputs": [
        {
          "name": "stdout",
          "output_type": "stream",
          "text": [
            "Unique tokens in FIELD vocabulary: 25002\n",
            "Unique tokens in LABEL vocabulary: 2\n"
          ]
        }
      ],
      "source": [
        "print(f\"Unique tokens in FIELD vocabulary: {len(FIELD.vocab)}\")\n",
        "print(f\"Unique tokens in LABEL vocabulary: {len(LABEL.vocab)}\")"
      ]
    },
    {
      "cell_type": "markdown",
      "metadata": {
        "id": "BIZMVoIA4S2K"
      },
      "source": [
        "# Model Definition"
      ]
    },
    {
      "cell_type": "code",
      "execution_count": 12,
      "metadata": {
        "id": "egyx2GtzuEdP"
      },
      "outputs": [],
      "source": [
        "class FastText(nn.Module):\n",
        "    def __init__(self, vocab_size, emb_dim, output_dim, pad_idx):\n",
        "        super().__init__()\n",
        "        self.embedding = nn.Embedding(vocab_size, emb_dim, padding_idx=pad_idx)\n",
        "        self.fc = nn.Linear(emb_dim, output_dim)\n",
        "        \n",
        "    def forward(self, input):                                                   # [input] = [input_length, batch_size]\n",
        "        embedded = self.embedding(input)                                        # [embedded] = [seq_len, batch_size, emb_dim]\n",
        "        embedded = embedded.permute(1, 0, 2)                                    # [embedded] = [batch_size, seq_len, emb_dim]\n",
        "        pooled = F.avg_pool2d(embedded, (embedded.shape[1], 1))                 # [pooled] = [batch_size, 1, emb_dim] \n",
        "        pooled = pooled.squeeze(1)                                              # [pooled] = [batch size, embedding_dim]\n",
        "        return self.fc(pooled)"
      ]
    },
    {
      "cell_type": "code",
      "execution_count": 13,
      "metadata": {
        "id": "2PDdgoXiufHr"
      },
      "outputs": [],
      "source": [
        "def batch_accuracy(preds, y):\n",
        "    #round predictions to the closest integer\n",
        "    rounded_preds = torch.round(torch.sigmoid(preds))\n",
        "    correct = (rounded_preds == y).float()\n",
        "    acc = correct.sum() / len(correct)\n",
        "    return acc"
      ]
    },
    {
      "cell_type": "markdown",
      "metadata": {
        "id": "OpnqXXA1uvuD"
      },
      "source": [
        "# Training and Evaluation Functions"
      ]
    },
    {
      "cell_type": "code",
      "execution_count": 14,
      "metadata": {
        "id": "gKSFO3hRutOc"
      },
      "outputs": [],
      "source": [
        "def Train(model, iterator, optimizer, criterion):\n",
        "    epoch_loss = 0\n",
        "    epoch_acc = 0\n",
        "    model.train()\n",
        "    for batch in iterator:\n",
        "        optimizer.zero_grad()\n",
        "        inp = batch.text\n",
        "        label = batch.label    \n",
        "        predictions = model(inp).squeeze(1)\n",
        "        loss = criterion(predictions, label)\n",
        "        acc = batch_accuracy(predictions, label)\n",
        "        loss.backward()\n",
        "        optimizer.step()\n",
        "        epoch_loss += loss.item()\n",
        "        epoch_acc += acc.item()    \n",
        "    return epoch_loss / len(iterator), epoch_acc / len(iterator)"
      ]
    },
    {
      "cell_type": "code",
      "execution_count": 15,
      "metadata": {
        "id": "YqTp93Aruwoe"
      },
      "outputs": [],
      "source": [
        "def Evaluate(model, iterator, criterion):\n",
        "    epoch_loss = 0\n",
        "    epoch_acc = 0\n",
        "    model.eval()\n",
        "    with torch.no_grad():\n",
        "        for batch in iterator:  \n",
        "            inp = batch.text\n",
        "            label = batch.label     \n",
        "            predictions = model(inp).squeeze(1)\n",
        "            loss = criterion(predictions, label)\n",
        "            acc = batch_accuracy(predictions, label)\n",
        "            epoch_loss += loss.item()\n",
        "            epoch_acc += acc.item()    \n",
        "    return epoch_loss / len(iterator), epoch_acc / len(iterator)"
      ]
    },
    {
      "cell_type": "markdown",
      "metadata": {
        "id": "v1_3yX3-42vO"
      },
      "source": [
        "# Data Iterators, Hyperparameters and Model Initialization"
      ]
    },
    {
      "cell_type": "code",
      "execution_count": 16,
      "metadata": {
        "id": "yIHX-jbs5ClS"
      },
      "outputs": [],
      "source": [
        "BATCH_SIZE = 64\n",
        "\n",
        "train_iterator, valid_iterator, test_iterator = data.BucketIterator.splits((train_data, valid_data, test_data), batch_size = BATCH_SIZE, device = device)"
      ]
    },
    {
      "cell_type": "code",
      "execution_count": 17,
      "metadata": {
        "id": "o6c7ld9wuYh4"
      },
      "outputs": [],
      "source": [
        "VOCAB_SIZE = len(FIELD.vocab) # dimension of one-hot vector / vocabulary\n",
        "EMB_DIM = 100 # dimension of word embeddings\n",
        "OUTPUT_DIM = 1 # dimension of output layer\n",
        "\n",
        "NUM_EPOCHS = 10\n",
        "LR = 0.001"
      ]
    },
    {
      "cell_type": "code",
      "execution_count": 18,
      "metadata": {
        "id": "j5U3vbZcwEgr"
      },
      "outputs": [],
      "source": [
        "model = FastText(VOCAB_SIZE, EMB_DIM, OUTPUT_DIM, FIELD.vocab.stoi[FIELD.pad_token])"
      ]
    },
    {
      "cell_type": "code",
      "execution_count": 19,
      "metadata": {
        "id": "ziglTF1D5voa"
      },
      "outputs": [],
      "source": [
        "optimizer = optim.Adam(model.parameters(), lr=LR)\n",
        "\n",
        "criterion = nn.BCEWithLogitsLoss()\n",
        "\n",
        "model = model.to(device)\n",
        "criterion = criterion.to(device)"
      ]
    },
    {
      "cell_type": "code",
      "execution_count": 20,
      "metadata": {
        "colab": {
          "base_uri": "https://localhost:8080/"
        },
        "id": "X7Mm3BnuuZ2F",
        "outputId": "1c65ec04-2ac8-4f1d-fb03-08ef3b8f4114"
      },
      "outputs": [
        {
          "name": "stdout",
          "output_type": "stream",
          "text": [
            "The model has 2,500,301 trainable parameters\n"
          ]
        }
      ],
      "source": [
        "def count_parameters(model):\n",
        "    return sum(p.numel() for p in model.parameters() if p.requires_grad)\n",
        "\n",
        "print(f'The model has {count_parameters(model):,} trainable parameters')"
      ]
    },
    {
      "cell_type": "markdown",
      "metadata": {
        "id": "99qvK1qw5aAV"
      },
      "source": [
        "# Training"
      ]
    },
    {
      "cell_type": "code",
      "execution_count": 21,
      "metadata": {
        "id": "WT1J71IjuySn"
      },
      "outputs": [],
      "source": [
        "import time\n",
        "\n",
        "def Epoch_time(start_time, end_time):\n",
        "    elapsed_time = end_time - start_time\n",
        "    elapsed_mins = int(elapsed_time / 60)\n",
        "    elapsed_secs = int(elapsed_time - (elapsed_mins * 60))\n",
        "    return elapsed_mins, elapsed_secs"
      ]
    },
    {
      "cell_type": "code",
      "execution_count": 22,
      "metadata": {
        "colab": {
          "base_uri": "https://localhost:8080/"
        },
        "id": "TKDOAVH5uz2s",
        "outputId": "aafc2306-93a3-4ee0-8678-4e8a276ea1e1"
      },
      "outputs": [
        {
          "name": "stdout",
          "output_type": "stream",
          "text": [
            "Learning Rate: 0.001\n",
            "Time taken for epoch 1: 0m 9s\n",
            "Training Loss: 0.6900 | Validation Loss: 0.6643\n",
            "Training Accuracy: 53.88 %| Validation Accuracy: 63.70 %\n",
            "Time taken for epoch 2: 0m 8s\n",
            "Training Loss: 0.6689 | Validation Loss: 0.5680\n",
            "Training Accuracy: 70.73 %| Validation Accuracy: 75.88 %\n",
            "Time taken for epoch 3: 0m 8s\n",
            "Training Loss: 0.6161 | Validation Loss: 0.4792\n",
            "Training Accuracy: 78.73 %| Validation Accuracy: 78.10 %\n",
            "Time taken for epoch 4: 0m 8s\n",
            "Training Loss: 0.5431 | Validation Loss: 0.3829\n",
            "Training Accuracy: 83.51 %| Validation Accuracy: 83.00 %\n",
            "Time taken for epoch 5: 0m 8s\n",
            "Training Loss: 0.4712 | Validation Loss: 0.3528\n",
            "Training Accuracy: 86.64 %| Validation Accuracy: 85.13 %\n",
            "Time taken for epoch 6: 0m 8s\n",
            "Training Loss: 0.4132 | Validation Loss: 0.3434\n",
            "Training Accuracy: 88.35 %| Validation Accuracy: 86.67 %\n",
            "Time taken for epoch 7: 0m 8s\n",
            "Training Loss: 0.3627 | Validation Loss: 0.3479\n",
            "Training Accuracy: 89.37 %| Validation Accuracy: 87.30 %\n",
            "Time taken for epoch 8: 0m 8s\n",
            "Training Loss: 0.3263 | Validation Loss: 0.3536\n",
            "Training Accuracy: 90.39 %| Validation Accuracy: 87.87 %\n",
            "Time taken for epoch 9: 0m 8s\n",
            "Training Loss: 0.2976 | Validation Loss: 0.3649\n",
            "Training Accuracy: 91.05 %| Validation Accuracy: 88.28 %\n",
            "Time taken for epoch 10: 0m 8s\n",
            "Training Loss: 0.2725 | Validation Loss: 0.3771\n",
            "Training Accuracy: 91.55 %| Validation Accuracy: 88.56 %\n",
            "Model with Train Loss 0.4132, Validation Loss: 0.3434 was saved.\n"
          ]
        }
      ],
      "source": [
        "print(f\"Learning Rate: {LR}\")\n",
        "train_losses = []\n",
        "valid_losses = []\n",
        "min_losses = [float('inf'), float('inf')]\n",
        "\n",
        "start_time = time.time()\n",
        "for epoch in range(1, NUM_EPOCHS+1):\n",
        "    \n",
        "    train_loss, train_acc = Train(model, train_iterator, optimizer, criterion)\n",
        "    train_losses.append(train_loss)\n",
        "    valid_loss, valid_acc = Evaluate(model, valid_iterator, criterion)\n",
        "    valid_losses.append(valid_loss)\n",
        "\n",
        "    if valid_loss < min_losses[0]:\n",
        "        min_losses[0] = valid_loss\n",
        "        min_losses[1] = train_loss\n",
        "        torch.save(model.state_dict(), 'FastText.pt')\n",
        "\n",
        "    elapsed_time = Epoch_time(start_time, time.time())\n",
        "    print(f\"Time taken for epoch {epoch}: {elapsed_time[0]}m {elapsed_time[1]}s\")\n",
        "    start_time = time.time()\n",
        "    print(f\"Training Loss: {train_loss:.4f} | Validation Loss: {valid_loss:.4f}\")\n",
        "    print(f\"Training Accuracy: {train_acc*100:.2f} %| Validation Accuracy: {valid_acc*100:.2f} %\")\n",
        "\n",
        "print(f\"Model with Train Loss {min_losses[1]:.4f}, Validation Loss: {min_losses[0]:.4f} was saved.\")"
      ]
    },
    {
      "cell_type": "code",
      "execution_count": 23,
      "metadata": {
        "colab": {
          "base_uri": "https://localhost:8080/",
          "height": 295
        },
        "id": "OkjBpvPt8BmJ",
        "outputId": "04320b26-1bc8-44d2-c904-17650335ee40"
      },
      "outputs": [
        {
          "data": {
            "image/png": "[encoded data removed]",
            "text/plain": [
              "<Figure size 432x288 with 1 Axes>"
            ]
          },
          "metadata": {
            "needs_background": "light"
          },
          "output_type": "display_data"
        }
      ],
      "source": [
        "plt.title(\"Sentiment Analysis (FastText): Learning Curves\")\n",
        "plt.xlabel(\"Number of Epochs\")\n",
        "plt.ylabel(\"Binary Cross Entropy Loss\")\n",
        "plt.plot(train_losses, label = \"Training Loss\")\n",
        "plt.plot(valid_losses, label= \"Validation Loss\")\n",
        "plt.legend()\n",
        "plt.show()"
      ]
    },
    {
      "cell_type": "markdown",
      "metadata": {},
      "source": [
        "# Testing"
      ]
    },
    {
      "cell_type": "code",
      "execution_count": 24,
      "metadata": {
        "colab": {
          "base_uri": "https://localhost:8080/"
        },
        "id": "YLpKGbjyu2OK",
        "outputId": "fbad5f78-802f-441e-8f09-a461c781732e"
      },
      "outputs": [
        {
          "name": "stdout",
          "output_type": "stream",
          "text": [
            "Test Loss: 0.3499\n",
            "Test Accuracy: 86.28%\n"
          ]
        }
      ],
      "source": [
        "model.load_state_dict(torch.load('FastText.pt'))\n",
        "\n",
        "test_loss, test_acc = Evaluate(model, test_iterator, criterion)\n",
        "\n",
        "print(f'Test Loss: {test_loss:.4f}')\n",
        "print(f'Test Accuracy: {test_acc*100:.2f}%')"
      ]
    },
    {
      "cell_type": "markdown",
      "metadata": {
        "id": "o3vZ2NNn8sM6"
      },
      "source": [
        "# Sampling"
      ]
    },
    {
      "cell_type": "code",
      "execution_count": 25,
      "metadata": {
        "id": "e0hc5XtDsqIH"
      },
      "outputs": [],
      "source": [
        "import spacy\n",
        "nlp = spacy.load('en_core_web_sm')\n",
        "\n",
        "def predict_sentiment(model, text):\n",
        "    model.eval()\n",
        "    tokenized = generate_n_grams([tok.text for tok in nlp.tokenizer(text)], n=2)\n",
        "    indexed = [FIELD.vocab.stoi[t] for t in tokenized]\n",
        "    tensor = torch.LongTensor(indexed).to(device)\n",
        "    tensor = tensor.unsqueeze(1)\n",
        "    prediction = torch.sigmoid(model(tensor))\n",
        "    return prediction.item()"
      ]
    },
    {
      "cell_type": "code",
      "execution_count": 26,
      "metadata": {
        "colab": {
          "base_uri": "https://localhost:8080/"
        },
        "id": "vc0zO3gTws-d",
        "outputId": "1ab04c54-b9e4-4323-943d-31cf2600127a"
      },
      "outputs": [
        {
          "data": {
            "text/plain": [
              "4.2760206042657956e-07"
            ]
          },
          "execution_count": 26,
          "metadata": {},
          "output_type": "execute_result"
        }
      ],
      "source": [
        "predict_sentiment(model, \"This film is not bad\")"
      ]
    },
    {
      "cell_type": "code",
      "execution_count": 27,
      "metadata": {
        "colab": {
          "base_uri": "https://localhost:8080/"
        },
        "id": "Umdey8pIw8yp",
        "outputId": "de24d02b-3c28-4dfa-f0b8-c4f0a4650340"
      },
      "outputs": [
        {
          "data": {
            "text/plain": [
              "1.0"
            ]
          },
          "execution_count": 27,
          "metadata": {},
          "output_type": "execute_result"
        }
      ],
      "source": [
        "predict_sentiment(model, \"This film is excellent\")"
      ]
    },
    {
      "cell_type": "code",
      "execution_count": 28,
      "metadata": {
        "colab": {
          "base_uri": "https://localhost:8080/"
        },
        "id": "8rbQ8FYRw-TM",
        "outputId": "37bb1381-ac04-42ac-de39-e48de16ae9db"
      },
      "outputs": [
        {
          "data": {
            "text/plain": [
              "2.538240104210665e-11"
            ]
          },
          "execution_count": 28,
          "metadata": {},
          "output_type": "execute_result"
        }
      ],
      "source": [
        "predict_sentiment(model, \"This film is bad\")"
      ]
    }
  ],
  "metadata": {
    "accelerator": "GPU",
    "colab": {
      "name": "FastText.ipynb",
      "provenance": []
    },
    "kernelspec": {
      "display_name": "Python 3",
      "name": "python3"
    },
    "language_info": {
      "codemirror_mode": {
        "name": "ipython",
        "version": 3
      },
      "file_extension": ".py",
      "mimetype": "text/x-python",
      "name": "python",
      "nbconvert_exporter": "python",
      "pygments_lexer": "ipython3",
      "version": "3.9.7"
    }
  },
  "nbformat": 4,
  "nbformat_minor": 0
}
