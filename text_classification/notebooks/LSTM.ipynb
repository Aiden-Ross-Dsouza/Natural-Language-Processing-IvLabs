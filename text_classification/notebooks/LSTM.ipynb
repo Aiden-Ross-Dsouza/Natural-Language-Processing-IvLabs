{
  "cells": [
    {
      "cell_type": "markdown",
      "metadata": {},
      "source": [
        "# Installing Packages"
      ]
    },
    {
      "cell_type": "markdown",
      "metadata": {
        "id": "bbMNpP192mb2"
      },
      "source": [
        "# Importing Required Libraries"
      ]
    },
    {
      "cell_type": "code",
      "execution_count": 1,
      "metadata": {
        "id": "slw2Y5t3taWQ"
      },
      "outputs": [],
      "source": [
        "import torch\n",
        "from torchtext import data, datasets\n",
        "import torch.nn as nn\n",
        "import torch.optim as optim\n",
        "from torch.nn.utils.rnn import pack_padded_sequence\n",
        "from torchtext.data import Field, LabelField, BucketIterator\n",
        "\n",
        "import random\n",
        "\n",
        "import matplotlib.pyplot as plt"
      ]
    },
    {
      "cell_type": "code",
      "execution_count": 2,
      "metadata": {
        "colab": {
          "base_uri": "https://localhost:8080/"
        },
        "id": "7kAMYpKr2tJV",
        "outputId": "1b33d632-6261-4881-8703-5a572fa8c210"
      },
      "outputs": [
        {
          "name": "stdout",
          "output_type": "stream",
          "text": [
            "Notebook is running on cuda\n"
          ]
        }
      ],
      "source": [
        "device = torch.device(\"cuda\" if torch.cuda.is_available() else \"cpu\")\n",
        "print(\"Notebook is running on\", device)"
      ]
    },
    {
      "cell_type": "markdown",
      "metadata": {
        "id": "8ZOcRV2w2vpH"
      },
      "source": [
        "Fixing SEED for reproducibility of results"
      ]
    },
    {
      "cell_type": "code",
      "execution_count": 3,
      "metadata": {
        "id": "N99mW-8XtnWr"
      },
      "outputs": [],
      "source": [
        "SEED = 4444\n",
        "\n",
        "random.seed(SEED)\n",
        "torch.manual_seed(SEED)\n",
        "torch.cuda.manual_seed(SEED)\n",
        "torch.backends.cudnn.deterministic = True"
      ]
    },
    {
      "cell_type": "code",
      "execution_count": 4,
      "metadata": {
        "id": "O5NaQke7touV"
      },
      "outputs": [],
      "source": [
        "FIELD = Field(tokenize = 'spacy', tokenizer_language = 'en_core_web_sm', include_lengths=True)\n",
        "\n",
        "LABEL = LabelField(dtype = torch.float)"
      ]
    },
    {
      "cell_type": "markdown",
      "metadata": {
        "id": "RWXCd0V73YK7"
      },
      "source": [
        "# Splitting the data"
      ]
    },
    {
      "cell_type": "code",
      "execution_count": 5,
      "metadata": {
        "id": "79ih2w2sttNq"
      },
      "outputs": [],
      "source": [
        "train_data, test_data = datasets.IMDB.splits(FIELD, LABEL)"
      ]
    },
    {
      "cell_type": "code",
      "execution_count": 6,
      "metadata": {
        "id": "nxpdowpRtwNQ"
      },
      "outputs": [],
      "source": [
        "train_data, valid_data = train_data.split(random_state = random.seed(SEED))"
      ]
    },
    {
      "cell_type": "code",
      "execution_count": 7,
      "metadata": {
        "colab": {
          "base_uri": "https://localhost:8080/"
        },
        "id": "BSWt_wDwtzLt",
        "outputId": "a5c136ea-d381-4ee1-8e91-a908e5f8ece1"
      },
      "outputs": [
        {
          "name": "stdout",
          "output_type": "stream",
          "text": [
            "Number of training examples: 17500\n",
            "Number of validation examples: 7500\n",
            "Number of testing examples: 25000\n"
          ]
        }
      ],
      "source": [
        "print(f'Number of training examples: {len(train_data)}')\n",
        "print(f'Number of validation examples: {len(valid_data)}')\n",
        "print(f'Number of testing examples: {len(test_data)}')"
      ]
    },
    {
      "cell_type": "code",
      "execution_count": 8,
      "metadata": {
        "id": "trFz-SmNt0fO"
      },
      "outputs": [],
      "source": [
        "MAX_VOCAB_SIZE = 25000 # excluding <pad> and <unk> token\n",
        "\n",
        "FIELD.build_vocab(train_data, max_size = MAX_VOCAB_SIZE, vectors=\"glove.6B.100d\", unk_init = torch.Tensor.normal_)\n",
        "LABEL.build_vocab(train_data)"
      ]
    },
    {
      "cell_type": "code",
      "execution_count": 9,
      "metadata": {
        "colab": {
          "base_uri": "https://localhost:8080/"
        },
        "id": "PQUUTTgat5hg",
        "outputId": "6fde1f1d-4150-4e21-aba1-f66137439cee"
      },
      "outputs": [
        {
          "name": "stdout",
          "output_type": "stream",
          "text": [
            "Unique tokens in FIELD vocabulary: 25002\n",
            "Unique tokens in LABEL vocabulary: 2\n"
          ]
        }
      ],
      "source": [
        "print(f\"Unique tokens in FIELD vocabulary: {len(FIELD.vocab)}\")\n",
        "print(f\"Unique tokens in LABEL vocabulary: {len(LABEL.vocab)}\")"
      ]
    },
    {
      "cell_type": "markdown",
      "metadata": {
        "id": "BIZMVoIA4S2K"
      },
      "source": [
        "# Model Definition"
      ]
    },
    {
      "cell_type": "code",
      "execution_count": 10,
      "metadata": {
        "id": "egyx2GtzuEdP"
      },
      "outputs": [],
      "source": [
        "class LSTM(nn.Module):\n",
        "    def __init__(self, vocab_size, emb_size, hidden_size, output_size, num_layers, pad_idx):\n",
        "        super().__init__()\n",
        "        self.embedding = nn.Embedding(vocab_size, emb_size, padding_idx = pad_idx)\n",
        "        self.lstm = nn.LSTM(emb_size, hidden_size, num_layers = num_layers, bidirectional=True, dropout=0.5)\n",
        "        self.fc = nn.Linear(hidden_size*2, output_size)\n",
        "        self.dropout = nn.Dropout(0.5)\n",
        "        \n",
        "    def forward(self, input, input_lengths):                                                          # [input] = [seq_len, batch_size]\n",
        "        embedded = self.dropout(self.embedding(input))                                                # [embedded] = [sent_len, batch_size, embedding_size]\n",
        "        packed_embedded = pack_padded_sequence(embedded, input_lengths.to('cpu'))                     # inputs lengths need to be on CPU\n",
        "        packed_output, (hidden, cell) = self.lstm(packed_embedded)\n",
        "        output, output_lengths = nn.utils.rnn.pad_packed_sequence(packed_output)\n",
        "        # [output] = [seq_len, batch_size, hidden_size*2]\n",
        "        # [hidden] = [num_layers * 2, batch_size, hidden_size]\n",
        "        # [cell] = [num_layers * 2, batch_size, hidden_size]\n",
        "        hidden = self.dropout(torch.cat((hidden[-2,:,:], hidden[-1,:,:]), dim = 1))                   # [hidden] = [batch_size, hidden_size * 2]\n",
        "        return self.fc(hidden)"
      ]
    },
    {
      "cell_type": "code",
      "execution_count": 11,
      "metadata": {
        "id": "2PDdgoXiufHr"
      },
      "outputs": [],
      "source": [
        "def batch_accuracy(preds, y):\n",
        "\n",
        "    #round predictions to the closest integer\n",
        "    rounded_preds = torch.round(torch.sigmoid(preds))\n",
        "    correct = (rounded_preds == y).float()\n",
        "    acc = correct.sum() / len(correct)\n",
        "    return acc"
      ]
    },
    {
      "cell_type": "markdown",
      "metadata": {
        "id": "OpnqXXA1uvuD"
      },
      "source": [
        "# Training and Evaluation Functions"
      ]
    },
    {
      "cell_type": "code",
      "execution_count": 12,
      "metadata": {
        "id": "gKSFO3hRutOc"
      },
      "outputs": [],
      "source": [
        "def Train(model, iterator, optimizer, criterion):\n",
        "    epoch_loss = 0\n",
        "    epoch_acc = 0\n",
        "    model.train()\n",
        "    for batch in iterator:\n",
        "        optimizer.zero_grad()\n",
        "        inp, inp_lengths = batch.text\n",
        "        label = batch.label       \n",
        "        predictions = model(inp, inp_lengths).squeeze(1)\n",
        "        loss = criterion(predictions, label)\n",
        "        acc = batch_accuracy(predictions, label)\n",
        "        loss.backward()\n",
        "        optimizer.step()\n",
        "        epoch_loss += loss.item()\n",
        "        epoch_acc += acc.item()\n",
        "    return epoch_loss / len(iterator), epoch_acc / len(iterator)"
      ]
    },
    {
      "cell_type": "code",
      "execution_count": 13,
      "metadata": {
        "id": "YqTp93Aruwoe"
      },
      "outputs": [],
      "source": [
        "def Evaluate(model, iterator, criterion):\n",
        "    epoch_loss = 0\n",
        "    epoch_acc = 0\n",
        "    model.eval()\n",
        "    with torch.no_grad():\n",
        "        for batch in iterator:\n",
        "            inp, inp_lengths = batch.text\n",
        "            label = batch.label       \n",
        "            predictions = model(inp, inp_lengths).squeeze(1)\n",
        "            loss = criterion(predictions, label)\n",
        "            acc = batch_accuracy(predictions, label)\n",
        "            epoch_loss += loss.item()\n",
        "            epoch_acc += acc.item()\n",
        "    return epoch_loss / len(iterator), epoch_acc / len(iterator)"
      ]
    },
    {
      "cell_type": "markdown",
      "metadata": {
        "id": "v1_3yX3-42vO"
      },
      "source": [
        "# Data Iterators, Hyperparameters and Model Initialization"
      ]
    },
    {
      "cell_type": "code",
      "execution_count": 14,
      "metadata": {
        "id": "yIHX-jbs5ClS"
      },
      "outputs": [],
      "source": [
        "BATCH_SIZE = 64\n",
        "\n",
        "train_iterator, valid_iterator, test_iterator = data.BucketIterator.splits((train_data, valid_data, test_data), batch_size = BATCH_SIZE, sort_within_batch = True, device = device)"
      ]
    },
    {
      "cell_type": "code",
      "execution_count": 15,
      "metadata": {
        "id": "o6c7ld9wuYh4"
      },
      "outputs": [],
      "source": [
        "VOCAB_SIZE = len(FIELD.vocab) # dimension of one-hot vector / vocabulary\n",
        "EMB_DIM = 100 # dimension of word embeddings\n",
        "HIDDEN_DIM = 256 # dimension of hidden layer\n",
        "OUTPUT_DIM = 1 # dimension of output layer\n",
        "NUM_LAYERS = 2\n",
        "\n",
        "NUM_EPOCHS = 10\n",
        "LR = 0.001"
      ]
    },
    {
      "cell_type": "code",
      "execution_count": 16,
      "metadata": {
        "id": "j5U3vbZcwEgr"
      },
      "outputs": [],
      "source": [
        "model = LSTM(VOCAB_SIZE, EMB_DIM, HIDDEN_DIM, OUTPUT_DIM, NUM_LAYERS, FIELD.vocab.stoi[FIELD.pad_token])"
      ]
    },
    {
      "cell_type": "code",
      "execution_count": 17,
      "metadata": {
        "id": "ziglTF1D5voa"
      },
      "outputs": [],
      "source": [
        "optimizer = optim.Adam(model.parameters(), lr=LR)\n",
        "\n",
        "criterion = nn.BCEWithLogitsLoss()\n",
        "\n",
        "model = model.to(device)\n",
        "criterion = criterion.to(device)"
      ]
    },
    {
      "cell_type": "code",
      "execution_count": 18,
      "metadata": {
        "colab": {
          "base_uri": "https://localhost:8080/"
        },
        "id": "X7Mm3BnuuZ2F",
        "outputId": "6645fdd0-8293-41df-a4ff-cd29eea63919"
      },
      "outputs": [
        {
          "name": "stdout",
          "output_type": "stream",
          "text": [
            "The model has 4,810,857 trainable parameters\n"
          ]
        }
      ],
      "source": [
        "def count_parameters(model):\n",
        "    return sum(p.numel() for p in model.parameters() if p.requires_grad)\n",
        "\n",
        "print(f'The model has {count_parameters(model):,} trainable parameters')"
      ]
    },
    {
      "cell_type": "markdown",
      "metadata": {
        "id": "99qvK1qw5aAV"
      },
      "source": [
        "# Training"
      ]
    },
    {
      "cell_type": "code",
      "execution_count": 19,
      "metadata": {
        "id": "WT1J71IjuySn"
      },
      "outputs": [],
      "source": [
        "import time\n",
        "\n",
        "def Epoch_time(start_time, end_time):\n",
        "    elapsed_time = end_time - start_time\n",
        "    elapsed_mins = int(elapsed_time / 60)\n",
        "    elapsed_secs = int(elapsed_time - (elapsed_mins * 60))\n",
        "    return elapsed_mins, elapsed_secs"
      ]
    },
    {
      "cell_type": "code",
      "execution_count": 20,
      "metadata": {
        "colab": {
          "base_uri": "https://localhost:8080/"
        },
        "id": "TKDOAVH5uz2s",
        "outputId": "57357c85-df7f-4e9a-a609-dd367866adea"
      },
      "outputs": [
        {
          "name": "stdout",
          "output_type": "stream",
          "text": [
            "Learning Rate: 0.001, Hidden Dimensions: 256\n",
            "Time taken for epoch 1: 0m 35s\n",
            "Training Loss: 0.6791 | Validation Loss: 0.7054\n",
            "Training Accuracy: 56.48 %| Validation Accuracy: 52.33 %\n",
            "Time taken for epoch 2: 0m 34s\n",
            "Training Loss: 0.6756 | Validation Loss: 0.6665\n",
            "Training Accuracy: 56.92 %| Validation Accuracy: 57.87 %\n",
            "Time taken for epoch 3: 0m 35s\n",
            "Training Loss: 0.6262 | Validation Loss: 0.5267\n",
            "Training Accuracy: 64.63 %| Validation Accuracy: 74.09 %\n",
            "Time taken for epoch 4: 0m 35s\n",
            "Training Loss: 0.5106 | Validation Loss: 0.4333\n",
            "Training Accuracy: 75.00 %| Validation Accuracy: 79.46 %\n",
            "Time taken for epoch 5: 0m 35s\n",
            "Training Loss: 0.4344 | Validation Loss: 0.3877\n",
            "Training Accuracy: 80.39 %| Validation Accuracy: 82.77 %\n",
            "Time taken for epoch 6: 0m 35s\n",
            "Training Loss: 0.3672 | Validation Loss: 0.3312\n",
            "Training Accuracy: 84.22 %| Validation Accuracy: 86.01 %\n",
            "Time taken for epoch 7: 0m 35s\n",
            "Training Loss: 0.3312 | Validation Loss: 0.3588\n",
            "Training Accuracy: 86.08 %| Validation Accuracy: 84.35 %\n",
            "Time taken for epoch 8: 0m 35s\n",
            "Training Loss: 0.2889 | Validation Loss: 0.3066\n",
            "Training Accuracy: 87.88 %| Validation Accuracy: 87.55 %\n",
            "Time taken for epoch 9: 0m 35s\n",
            "Training Loss: 0.2686 | Validation Loss: 0.2816\n",
            "Training Accuracy: 89.10 %| Validation Accuracy: 88.37 %\n",
            "Time taken for epoch 10: 0m 35s\n",
            "Training Loss: 0.2380 | Validation Loss: 0.3224\n",
            "Training Accuracy: 90.45 %| Validation Accuracy: 87.09 %\n",
            "Model with Train Loss 0.2686, Validation Loss: 0.2816 was saved.\n"
          ]
        }
      ],
      "source": [
        "print(f\"Learning Rate: {LR}, Hidden Dimensions: {HIDDEN_DIM}\")\n",
        "train_losses = []\n",
        "valid_losses = []\n",
        "min_losses = [float('inf'), float('inf')]\n",
        "\n",
        "start_time = time.time()\n",
        "for epoch in range(1, NUM_EPOCHS+1):\n",
        "    \n",
        "    train_loss, train_acc = Train(model, train_iterator, optimizer, criterion)\n",
        "    train_losses.append(train_loss)\n",
        "    valid_loss, valid_acc = Evaluate(model, valid_iterator, criterion)\n",
        "    valid_losses.append(valid_loss)\n",
        "\n",
        "    if valid_loss < min_losses[0]:\n",
        "        min_losses[0] = valid_loss\n",
        "        min_losses[1] = train_loss\n",
        "        torch.save(model.state_dict(), 'LSTM.pt')\n",
        "\n",
        "    elapsed_time = Epoch_time(start_time, time.time())\n",
        "    print(f\"Time taken for epoch {epoch}: {elapsed_time[0]}m {elapsed_time[1]}s\")\n",
        "    start_time = time.time()\n",
        "    print(f\"Training Loss: {train_loss:.4f} | Validation Loss: {valid_loss:.4f}\")\n",
        "    print(f\"Training Accuracy: {train_acc*100:.2f} %| Validation Accuracy: {valid_acc*100:.2f} %\")\n",
        "\n",
        "print(f\"Model with Train Loss {min_losses[1]:.4f}, Validation Loss: {min_losses[0]:.4f} was saved.\")"
      ]
    },
    {
      "cell_type": "code",
      "execution_count": 21,
      "metadata": {
        "colab": {
          "base_uri": "https://localhost:8080/",
          "height": 295
        },
        "id": "OkjBpvPt8BmJ",
        "outputId": "e7d60c8f-a210-43a1-e465-afc3ca5153f8"
      },
      "outputs": [
        {
          "data": {
            "image/png": "[encoded data removed]",
            "text/plain": [
              "<Figure size 432x288 with 1 Axes>"
            ]
          },
          "metadata": {
            "needs_background": "light"
          },
          "output_type": "display_data"
        }
      ],
      "source": [
        "plt.title(\"Sentiment Analysis (LSTM): Learning Curves\")\n",
        "plt.xlabel(\"Number of Epochs\")\n",
        "plt.ylabel(\"Binary Cross Entropy Loss\")\n",
        "plt.plot(train_losses, label = \"Training Loss\")\n",
        "plt.plot(valid_losses, label= \"Validation Loss\")\n",
        "plt.legend()\n",
        "plt.show()"
      ]
    },
    {
      "cell_type": "markdown",
      "metadata": {},
      "source": [
        "# Testing"
      ]
    },
    {
      "cell_type": "code",
      "execution_count": 22,
      "metadata": {
        "colab": {
          "base_uri": "https://localhost:8080/"
        },
        "id": "YLpKGbjyu2OK",
        "outputId": "2ba60055-1f76-4b99-a5b9-4b4315e8e5df"
      },
      "outputs": [
        {
          "name": "stdout",
          "output_type": "stream",
          "text": [
            "Test Loss: 0.2986\n",
            "Test Accuracy: 87.62%\n"
          ]
        }
      ],
      "source": [
        "model.load_state_dict(torch.load('LSTM.pt'))\n",
        "\n",
        "test_loss, test_acc = Evaluate(model, test_iterator, criterion)\n",
        "\n",
        "print(f'Test Loss: {test_loss:.4f}')\n",
        "print(f'Test Accuracy: {test_acc*100:.2f}%')"
      ]
    },
    {
      "cell_type": "markdown",
      "metadata": {
        "id": "o3vZ2NNn8sM6"
      },
      "source": [
        "# Sampling"
      ]
    },
    {
      "cell_type": "code",
      "execution_count": 23,
      "metadata": {
        "id": "e0hc5XtDsqIH"
      },
      "outputs": [],
      "source": [
        "import spacy\n",
        "nlp = spacy.load('en_core_web_sm')\n",
        "\n",
        "def predict_sentiment(model, text):\n",
        "    model.eval()\n",
        "    tokenized = [tok.text for tok in nlp.tokenizer(text)]\n",
        "    indexed = [FIELD.vocab.stoi[t] for t in tokenized]\n",
        "    length = [len(indexed)]\n",
        "    tensor = torch.LongTensor(indexed).to(device)\n",
        "    tensor = tensor.unsqueeze(1)\n",
        "    length_tensor = torch.LongTensor(length)\n",
        "    prediction = torch.sigmoid(model(tensor, length_tensor))\n",
        "    return prediction.item()"
      ]
    },
    {
      "cell_type": "code",
      "execution_count": 24,
      "metadata": {
        "colab": {
          "base_uri": "https://localhost:8080/",
          "height": 311
        },
        "id": "vc0zO3gTws-d",
        "outputId": "fde91c09-6b91-4f2b-e49d-124d528c52aa"
      },
      "outputs": [
        {
          "data": {
            "text/plain": [
              "0.011234746314585209"
            ]
          },
          "execution_count": 24,
          "metadata": {},
          "output_type": "execute_result"
        }
      ],
      "source": [
        "predict_sentiment(model, \"This film is not bad\")"
      ]
    },
    {
      "cell_type": "code",
      "execution_count": 25,
      "metadata": {
        "id": "Umdey8pIw8yp"
      },
      "outputs": [
        {
          "data": {
            "text/plain": [
              "0.939202070236206"
            ]
          },
          "execution_count": 25,
          "metadata": {},
          "output_type": "execute_result"
        }
      ],
      "source": [
        "predict_sentiment(model, \"This film is excellent\")"
      ]
    },
    {
      "cell_type": "code",
      "execution_count": 26,
      "metadata": {
        "id": "8rbQ8FYRw-TM"
      },
      "outputs": [
        {
          "data": {
            "text/plain": [
              "0.0072547681629657745"
            ]
          },
          "execution_count": 26,
          "metadata": {},
          "output_type": "execute_result"
        }
      ],
      "source": [
        "predict_sentiment(model, \"This film is bad\")"
      ]
    }
  ],
  "metadata": {
    "accelerator": "GPU",
    "colab": {
      "name": "LSTM.ipynb",
      "provenance": []
    },
    "kernelspec": {
      "display_name": "Python 3",
      "name": "python3"
    },
    "language_info": {
      "codemirror_mode": {
        "name": "ipython",
        "version": 3
      },
      "file_extension": ".py",
      "mimetype": "text/x-python",
      "name": "python",
      "nbconvert_exporter": "python",
      "pygments_lexer": "ipython3",
      "version": "3.9.7"
    }
  },
  "nbformat": 4,
  "nbformat_minor": 0
}
